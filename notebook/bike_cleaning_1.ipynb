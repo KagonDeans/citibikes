{
 "cells": [
  {
   "cell_type": "code",
   "execution_count": 1,
   "id": "5c464e2c",
   "metadata": {},
   "outputs": [],
   "source": [
    "import pandas as pd\n",
    "pd.set_option(\"display.max_columns\", 150)\n",
    "import glob"
   ]
  },
  {
   "cell_type": "code",
   "execution_count": 2,
   "id": "be7254b0",
   "metadata": {},
   "outputs": [],
   "source": [
    "#importing all the files and keeping them seperated by year.\n",
    "csv_files = glob.glob('../data/2019/*.csv')\n",
    "csv_files_1 = glob.glob('../data/2020/*.csv')\n",
    "csv_files_2 = glob.glob('../data/2021/*.csv')\n",
    "\n",
    "#importing the weather file.\n",
    "weather = pd.read_csv('../data/USW00094728.csv', low_memory = False)"
   ]
  },
  {
   "cell_type": "code",
   "execution_count": 4,
   "id": "81ba63bf",
   "metadata": {},
   "outputs": [],
   "source": [
    "#Creating the empty dataframes so that the files can be added to.\n",
    "\n",
    "citibike_2019 = pd.DataFrame()\n",
    "citibike_2020 = pd.DataFrame()\n",
    "citibike_2021 = pd.DataFrame()"
   ]
  },
  {
   "cell_type": "code",
   "execution_count": 5,
   "id": "ebda7279",
   "metadata": {},
   "outputs": [],
   "source": [
    "# Iterating over the 2019 files so that they are in a dataframe.\n",
    "for csv_file in csv_files:\n",
    "    df = pd.read_csv(csv_file, low_memory = False)\n",
    "    citibike_2019 = pd.concat([citibike_2019, df])"
   ]
  },
  {
   "cell_type": "code",
   "execution_count": 6,
   "id": "cf313b11",
   "metadata": {},
   "outputs": [],
   "source": [
    "# Iterating over the 2020 files so that they are in a dataframe.\n",
    "for csv_file in csv_files_1:\n",
    "    df = pd.read_csv(csv_file, low_memory = False)\n",
    "    citibike_2020 = pd.concat([citibike_2020, df])"
   ]
  },
  {
   "cell_type": "code",
   "execution_count": 7,
   "id": "29009d8d",
   "metadata": {},
   "outputs": [],
   "source": [
    "# Iterating over the 2021 files so that they are in a dataframe.\n",
    "for csv_file in csv_files_2:\n",
    "    df = pd.read_csv(csv_file, low_memory = False)\n",
    "    citibike_2021 = pd.concat([citibike_2021, df])"
   ]
  },
  {
   "cell_type": "code",
   "execution_count": 67,
   "id": "b46fbcf1",
   "metadata": {},
   "outputs": [
    {
     "name": "stdout",
     "output_type": "stream",
     "text": [
      "(20551697, 24)\n",
      "(19506857, 24)\n",
      "(27661451, 24)\n",
      "(1096, 40)\n"
     ]
    }
   ],
   "source": [
    "print(citibike_2019.shape)\n",
    "print(citibike_2020.shape)\n",
    "print(citibike_2021.shape)\n",
    "print(weather.shape)"
   ]
  },
  {
   "cell_type": "code",
   "execution_count": 9,
   "id": "44d4b9c4",
   "metadata": {},
   "outputs": [],
   "source": [
    "#changing the DATE column to a datetime datatype.\n",
    "weather['DATE'] = pd.to_datetime(weather['DATE'])"
   ]
  },
  {
   "cell_type": "code",
   "execution_count": 10,
   "id": "176eddfa",
   "metadata": {},
   "outputs": [],
   "source": [
    "#choosing the years I want data on.\n",
    "weather = weather[weather['DATE'].dt.year.isin([2019, 2020, 2021])]"
   ]
  },
  {
   "cell_type": "code",
   "execution_count": 11,
   "id": "f9d2f146",
   "metadata": {},
   "outputs": [],
   "source": [
    "#Getting a count of how many nans are in each column.\n",
    "nan_counts = weather.isna().sum()\n",
    "too_many_nans = nan_counts[nan_counts > 500].index #locating the columns that hace more than 500 nans.\n",
    "weather = weather.drop(columns = too_many_nans)# dropping the columns with more than 500 nans."
   ]
  },
  {
   "cell_type": "code",
   "execution_count": 12,
   "id": "5812dc94",
   "metadata": {},
   "outputs": [],
   "source": [
    "#renaming column to match 2019 & 2020 dfs.\n",
    "citibike_2021 = citibike_2021.rename(columns = {'member_casual':'user_type'}) \n",
    "\n",
    "#removing the columns that were unique to 2021\n",
    "citibike_2021 = citibike_2021.drop(columns = ['ride_id', 'rideable_type', 'starttime', 'stoptime', 'start station id', 'start station name', 'start station latitude', 'start station longitude', 'end station id', 'end station name', 'end station latitude', 'end station longitude','bikeid','usertype','birth year','gender', 'tripduration'])"
   ]
  },
  {
   "cell_type": "code",
   "execution_count": 13,
   "id": "4152c3e3",
   "metadata": {
    "scrolled": true
   },
   "outputs": [],
   "source": [
    "#removing spaces out of column names.\n",
    "citibike_2019 = citibike_2019.rename(columns = {'starttime': 'started_at', 'stoptime' : 'ended_at','start station id': 'start_station_id', 'start station name': 'start_station_name', 'start station latitude':'start_lat', 'start station longitude':'start_lng', 'end station id':'end_station_id', 'end station name':'end_station_name', 'end station latitude':'end_lat','end station longitude':'end_lng', 'usertype':'user_type', 'tripduration' : 'trip_duration'})\n",
    "citibike_2020 = citibike_2020.rename(columns = {'starttime': 'started_at', 'stoptime' : 'ended_at','start station id': 'start_station_id', 'start station name': 'start_station_name', 'start station latitude':'start_lat', 'start station longitude':'start_lng', 'end station id':'end_station_id', 'end station name':'end_station_name', 'end station latitude':'end_lat','end station longitude':'end_lng', 'usertype':'user_type', 'tripduration' : 'trip_duration'})\n",
    "\n",
    "#removing columns that are not also available in 2021 df\n",
    "citibike_2019 = citibike_2019.drop(columns = ['birth year', 'gender', 'bikeid'])\n",
    "citibike_2020 = citibike_2020.drop(columns = ['birth year', 'gender', 'bikeid'])"
   ]
  },
  {
   "cell_type": "code",
   "execution_count": 14,
   "id": "898386d4",
   "metadata": {},
   "outputs": [],
   "source": [
    "#A function that changed the dtype of these columns to datetime.\n",
    "\n",
    "def convert_datetime(df, columns):\n",
    "    for column in columns:\n",
    "        df[column] = pd.to_datetime(df[column])\n",
    "\n",
    "columns = ['started_at', 'ended_at']\n",
    "\n",
    "convert_datetime(citibike_2019, columns)\n",
    "convert_datetime(citibike_2020, columns)\n",
    "convert_datetime(citibike_2021, columns)"
   ]
  },
  {
   "cell_type": "code",
   "execution_count": 15,
   "id": "580ea702",
   "metadata": {},
   "outputs": [],
   "source": [
    "#creating a column in 2021 dataframe that has the trip duration and then turning it into seconds.\n",
    "\n",
    "citibike_2021['trip_duration'] = citibike_2021['ended_at'] - citibike_2021['started_at']\n",
    "citibike_2021['trip_duration'] = citibike_2021['trip_duration'].dt.total_seconds()"
   ]
  },
  {
   "cell_type": "code",
   "execution_count": 42,
   "id": "8c1f9615",
   "metadata": {},
   "outputs": [],
   "source": [
    "# A function that will make new columns for the date, time, hour and day of the week each trip began and ended.\n",
    "\n",
    "def datetime_date_time(df, columns):\n",
    "    for column in columns:\n",
    "        df[f'{column}_date'] = pd.to_datetime(df[column]).dt.date\n",
    "        df[f'{column}_time'] = pd.to_datetime(df[column]).dt.time\n",
    "        df[f'{column}_hour'] = pd.to_datetime(df[column]).dt.hour\n",
    "        df[f'{column}_day_of_week'] = pd.to_datetime(df[column]).dt.weekday\n",
    "        df[f'{column}_day_of_year']= pd.to_datetime(df[column]).dt.dayofyear\n",
    "        \n",
    "columns = ['started_at', 'ended_at']\n",
    "\n",
    "datetime_date_time(citibike_2019, columns)\n",
    "datetime_date_time(citibike_2020, columns)\n",
    "datetime_date_time(citibike_2021, columns)"
   ]
  },
  {
   "cell_type": "code",
   "execution_count": 18,
   "id": "d9bf11cd",
   "metadata": {},
   "outputs": [],
   "source": [
    "#using the convert_datetime function to convert the date column to a datetime dtype.\n",
    "\n",
    "columns = ['started_at_date', 'ended_at_date']\n",
    "\n",
    "convert_datetime(citibike_2019, columns)\n",
    "convert_datetime(citibike_2020, columns)\n",
    "convert_datetime(citibike_2021, columns)"
   ]
  },
  {
   "cell_type": "code",
   "execution_count": 19,
   "id": "9c48dfe7",
   "metadata": {},
   "outputs": [],
   "source": [
    "#A function that will create a column for the month of the trip.\n",
    "\n",
    "def datetime_month(df, columns):\n",
    "    for column in columns:\n",
    "        df[f'{column}_month'] = pd.DatetimeIndex(df[column]).month\n",
    "        \n",
    "columns = ['started_at', 'ended_at']\n",
    "\n",
    "datetime_month(citibike_2019, columns)\n",
    "datetime_month(citibike_2020, columns)\n",
    "datetime_month(citibike_2021, columns)"
   ]
  },
  {
   "cell_type": "markdown",
   "id": "11358f33",
   "metadata": {},
   "source": [
    "***Answering data questions***"
   ]
  },
  {
   "cell_type": "markdown",
   "id": "03a34672",
   "metadata": {},
   "source": [
    "*What time are the bikes most frequently used during the day?*"
   ]
  },
  {
   "cell_type": "code",
   "execution_count": 28,
   "id": "5378e239",
   "metadata": {},
   "outputs": [
    {
     "name": "stdout",
     "output_type": "stream",
     "text": [
      "The hour with the most amount of trips in 2019 was 17 with 2002482 rides.\n",
      "The hour with the most amount of trips in 2020 was 17 with 1879814 rides.\n",
      "The hour with the most amount of trips in 2021 was 17.0 with 2379834 rides.\n"
     ]
    }
   ],
   "source": [
    "#The hour the most amount of trips occur.\n",
    "def most_hour (df, year):\n",
    "    hour_count = df.groupby('started_at_hour')['started_at_hour'].count().sort_values(ascending=False)\n",
    "    most_popular = hour_count.index[0]\n",
    "    number_of_rides = hour_count.iloc[0]\n",
    "    print(f\"The hour with the most amount of trips in {year} was {most_popular} with {number_of_rides} rides.\")\n",
    "\n",
    "most_hour(citibike_2019, 2019)\n",
    "most_hour(citibike_2020, 2020)\n",
    "most_hour(citibike_2021, 2021)"
   ]
  },
  {
   "cell_type": "markdown",
   "id": "faf7c07d",
   "metadata": {},
   "source": [
    "*What time are the bikes used the least during the day?*"
   ]
  },
  {
   "cell_type": "code",
   "execution_count": 27,
   "id": "8f9a4b6d",
   "metadata": {},
   "outputs": [
    {
     "name": "stdout",
     "output_type": "stream",
     "text": [
      "The hour with the least amount of trips in 2019 was 3 with 41559 rides.\n",
      "The hour with the least amount of trips in 2020 was 4 with 38609 rides.\n",
      "The hour with the least amount of trips in 2021 was 4.0 with 82777 rides.\n"
     ]
    }
   ],
   "source": [
    "#The hour the least amount of trips occur.\n",
    "def least_hour (df, year):\n",
    "    hour_count = df.groupby('started_at_hour')['started_at_hour'].count().sort_values(ascending=True)\n",
    "    least_popular = hour_count.index[0]\n",
    "    number_of_rides = hour_count.iloc[0]\n",
    "    print(f\"The hour with the least amount of trips in {year} was {least_popular} with {number_of_rides} rides.\")\n",
    "\n",
    "least_hour(citibike_2019, 2019)\n",
    "least_hour(citibike_2020, 2020)\n",
    "least_hour(citibike_2021, 2021)"
   ]
  },
  {
   "cell_type": "markdown",
   "id": "56e410ac",
   "metadata": {},
   "source": [
    "*Which stations are the most frequent for starting & ending a trip?*"
   ]
  },
  {
   "cell_type": "code",
   "execution_count": 21,
   "id": "9d137fa1",
   "metadata": {},
   "outputs": [
    {
     "name": "stdout",
     "output_type": "stream",
     "text": [
      "The station where most trips began in 2019 was Pershing Square North with 156575 rides.\n",
      "The station where most trips began in 2020 was 1 Ave & E 68 St with 100753 rides.\n",
      "The station where most trips began in 2021 was W 21 St & 6 Ave with 122588 rides.\n"
     ]
    }
   ],
   "source": [
    "#The station where the most trips begin\n",
    "def popular_starting_station (df, year):\n",
    "    station_count = df.groupby('start_station_name')['start_station_name'].count().sort_values(ascending=False)\n",
    "    most_popular = station_count.index[0]\n",
    "    number_of_rides = station_count.iloc[0]\n",
    "    print(f\"The station where most trips began in {year} was {most_popular} with {number_of_rides} rides.\")\n",
    "\n",
    "popular_starting_station(citibike_2019, 2019)\n",
    "popular_starting_station(citibike_2020, 2020)\n",
    "popular_starting_station(citibike_2021, 2021)"
   ]
  },
  {
   "cell_type": "code",
   "execution_count": 39,
   "id": "56b4f035",
   "metadata": {},
   "outputs": [
    {
     "name": "stdout",
     "output_type": "stream",
     "text": [
      "The station where most trips ended in 2019 was Pershing Square North with 155536 rides.\n",
      "The station where most trips ended in 2020 was West St & Chambers St with 101767 rides.\n",
      "The station where most trips ended in 2021 was West St & Chambers St with 101767 rides.\n"
     ]
    }
   ],
   "source": [
    "#The station where the most trips ended.\n",
    "def popular_ending_station (df, year):\n",
    "    station_count = df.groupby('end_station_name')['end_station_name'].count().sort_values(ascending=False)\n",
    "    most_popular = station_count.index[0]\n",
    "    number_of_rides = station_count.iloc[0]\n",
    "    print(f\"The station where most trips ended in {year} was {most_popular} with {number_of_rides} rides.\")\n",
    "\n",
    "popular_ending_station(citibike_2019, 2019)\n",
    "popular_ending_station(citibike_2020, 2020)\n",
    "popular_ending_station(citibike_2020, 2021)"
   ]
  },
  {
   "cell_type": "markdown",
   "id": "3fe3f9ee",
   "metadata": {},
   "source": [
    "**What is the average trip length? Does it change depending on day or time of day?**"
   ]
  },
  {
   "cell_type": "code",
   "execution_count": 52,
   "id": "34c65d5f",
   "metadata": {},
   "outputs": [
    {
     "name": "stdout",
     "output_type": "stream",
     "text": [
      "The average length of a bike trip in 2019 is 978 seconds\n",
      "The average length of a bike trip in 2020 is 1311 seconds\n",
      "The average length of a bike trip in 2021 is 1143 seconds\n"
     ]
    }
   ],
   "source": [
    "#The average bike trip.\n",
    "def avg_bike_trip (df, year):\n",
    "    for column in columns:\n",
    "        avg_trip_len = round(df[column].mean())\n",
    "        print(f\"The average length of a bike trip in {year} is {avg_trip_len} seconds\")\n",
    "        \n",
    "columns = ['trip_duration']\n",
    "avg_bike_trip(citibike_2019, 2019)\n",
    "avg_bike_trip(citibike_2020, 2020)\n",
    "avg_bike_trip(citibike_2021, 2021)"
   ]
  },
  {
   "cell_type": "code",
   "execution_count": 59,
   "id": "21e13651",
   "metadata": {},
   "outputs": [
    {
     "name": "stdout",
     "output_type": "stream",
     "text": [
      "In 2019, the hour that has the longest bike trip on average is hour 2, which lasts about 1484.0 seconds\n",
      "In 2020, the hour that has the longest bike trip on average is hour 2, which lasts about 2019.0 seconds\n",
      "In 2021, the hour that has the longest bike trip on average is hour 2.0, which lasts about 1733.0 seconds\n"
     ]
    }
   ],
   "source": [
    "#The hour with the longest bike trip.\n",
    "def avg_bike_trip_by_hour (df, year):\n",
    "    for column in columns:\n",
    "        avg_trip_len = round(df.groupby('started_at_hour')['trip_duration'].mean().sort_values(ascending = False))\n",
    "        hour_with_longest_trips = avg_trip_len.index[0]\n",
    "        avg_seconds = avg_trip_len.iloc[0]\n",
    "        print(f\"In {year}, the hour that has the longest bike trip on average is hour {hour_with_longest_trips}, which lasts about {avg_seconds} seconds\")\n",
    "        \n",
    "avg_bike_trip_by_hour(citibike_2019, 2019)\n",
    "avg_bike_trip_by_hour(citibike_2020, 2020)\n",
    "avg_bike_trip_by_hour(citibike_2021, 2021)"
   ]
  },
  {
   "cell_type": "code",
   "execution_count": 63,
   "id": "459b4238",
   "metadata": {},
   "outputs": [
    {
     "name": "stdout",
     "output_type": "stream",
     "text": [
      "In 2019, the hour that has the shortest bike trip on average is hour 6, which lasts about 659.0 seconds\n",
      "In 2020, the hour that has the shortest bike trip on average is hour 6, which lasts about 872.0 seconds\n",
      "In 2021, the hour that has the shortest bike trip on average is hour 6.0, which lasts about 803.0 seconds\n"
     ]
    }
   ],
   "source": [
    "#The hour with the shortest bike trip.\n",
    "def avg_bike_trip_by_hour_least (df, year):\n",
    "    for column in columns:\n",
    "        avg_trip_len = round(df.groupby('started_at_hour')['trip_duration'].mean().sort_values(ascending = True))\n",
    "        hour_with_shortest_trips = avg_trip_len.index[0]\n",
    "        avg_seconds = avg_trip_len.iloc[0]\n",
    "        print(f\"In {year}, the hour that has the shortest bike trip on average is hour {hour_with_shortest_trips}, which lasts about {avg_seconds} seconds\")\n",
    "        \n",
    "avg_bike_trip_by_hour_least(citibike_2019, 2019)\n",
    "avg_bike_trip_by_hour_least(citibike_2020, 2020)\n",
    "avg_bike_trip_by_hour_least(citibike_2021, 2021)"
   ]
  },
  {
   "cell_type": "code",
   "execution_count": 65,
   "id": "5e85c65b",
   "metadata": {},
   "outputs": [
    {
     "name": "stdout",
     "output_type": "stream",
     "text": [
      "In 2019, the day of year that has the longest bike trip on average is day 185, which lasts about 1668.0 seconds\n",
      "In 2020, the day of year that has the longest bike trip on average is day 352, which lasts about 2211.0 seconds\n",
      "In 2021, the day of year that has the longest bike trip on average is day 34.0, which lasts about 3618.0 seconds\n"
     ]
    }
   ],
   "source": [
    "#the day of year with the longest trips.\n",
    "def avg_bike_trip_by_day_of_year (df, year):\n",
    "    for column in columns:\n",
    "        avg_trip_len = round(df.groupby('started_at_day_of_year')['trip_duration'].mean().sort_values(ascending = False))\n",
    "        day_of_year_with_longest_trips = avg_trip_len.index[0]\n",
    "        avg_seconds = avg_trip_len.iloc[0]\n",
    "        print(f\"In {year}, the day of year that has the longest bike trip on average is day {day_of_year_with_longest_trips}, which lasts about {avg_seconds} seconds\")\n",
    "        \n",
    "avg_bike_trip_by_day_of_year(citibike_2019, 2019)\n",
    "avg_bike_trip_by_day_of_year(citibike_2020, 2020)\n",
    "avg_bike_trip_by_day_of_year(citibike_2021, 2021)"
   ]
  },
  {
   "cell_type": "code",
   "execution_count": 66,
   "id": "afc51ba3",
   "metadata": {},
   "outputs": [
    {
     "name": "stdout",
     "output_type": "stream",
     "text": [
      "In 2019, the day of year that has the shortest bike trip on average is day 31, which lasts about 648.0 seconds\n",
      "In 2020, the day of year that has the shortest bike trip on average is day 37, which lasts about 679.0 seconds\n",
      "In 2021, the day of year that has the shortest bike trip on average is day 53.0, which lasts about 745.0 seconds\n"
     ]
    }
   ],
   "source": [
    "#the day of year with the shortest trips.\n",
    "def avg_bike_trip_by_day_of_year_shortest (df, year):\n",
    "    for column in columns:\n",
    "        avg_trip_len = round(df.groupby('started_at_day_of_year')['trip_duration'].mean().sort_values(ascending = True))\n",
    "        day_of_year_with_shortest_trips = avg_trip_len.index[0]\n",
    "        avg_seconds = avg_trip_len.iloc[0]\n",
    "        print(f\"In {year}, the day of year that has the shortest bike trip on average is day {day_of_year_with_shortest_trips}, which lasts about {avg_seconds} seconds\")\n",
    "        \n",
    "avg_bike_trip_by_day_of_year_shortest(citibike_2019, 2019)\n",
    "avg_bike_trip_by_day_of_year_shortest(citibike_2020, 2020)\n",
    "avg_bike_trip_by_day_of_year_shortest(citibike_2021, 2021)"
   ]
  },
  {
   "cell_type": "code",
   "execution_count": 43,
   "id": "2d18d2ee",
   "metadata": {},
   "outputs": [
    {
     "data": {
      "text/html": [
       "<div>\n",
       "<style scoped>\n",
       "    .dataframe tbody tr th:only-of-type {\n",
       "        vertical-align: middle;\n",
       "    }\n",
       "\n",
       "    .dataframe tbody tr th {\n",
       "        vertical-align: top;\n",
       "    }\n",
       "\n",
       "    .dataframe thead th {\n",
       "        text-align: right;\n",
       "    }\n",
       "</style>\n",
       "<table border=\"1\" class=\"dataframe\">\n",
       "  <thead>\n",
       "    <tr style=\"text-align: right;\">\n",
       "      <th></th>\n",
       "      <th>trip_duration</th>\n",
       "      <th>started_at</th>\n",
       "      <th>ended_at</th>\n",
       "      <th>start_station_id</th>\n",
       "      <th>start_station_name</th>\n",
       "      <th>start_lat</th>\n",
       "      <th>start_lng</th>\n",
       "      <th>end_station_id</th>\n",
       "      <th>end_station_name</th>\n",
       "      <th>end_lat</th>\n",
       "      <th>end_lng</th>\n",
       "      <th>user_type</th>\n",
       "      <th>started_at_date</th>\n",
       "      <th>started_at_time</th>\n",
       "      <th>started_at_hour</th>\n",
       "      <th>started_at_day_of_week</th>\n",
       "      <th>ended_at_date</th>\n",
       "      <th>ended_at_time</th>\n",
       "      <th>ended_at_hour</th>\n",
       "      <th>ended_at_day_of_week</th>\n",
       "      <th>started_at_month</th>\n",
       "      <th>ended_at_month</th>\n",
       "      <th>started_at_day_of_year</th>\n",
       "      <th>ended_at_day_of_year</th>\n",
       "    </tr>\n",
       "  </thead>\n",
       "  <tbody>\n",
       "    <tr>\n",
       "      <th>0</th>\n",
       "      <td>393</td>\n",
       "      <td>2019-08-01 00:00:01.468</td>\n",
       "      <td>2019-08-01 00:06:35.378</td>\n",
       "      <td>531.0</td>\n",
       "      <td>Forsyth St &amp; Broome St</td>\n",
       "      <td>40.718939</td>\n",
       "      <td>-73.992663</td>\n",
       "      <td>408.0</td>\n",
       "      <td>Market St &amp; Cherry St</td>\n",
       "      <td>40.710762</td>\n",
       "      <td>-73.994004</td>\n",
       "      <td>Subscriber</td>\n",
       "      <td>2019-08-01</td>\n",
       "      <td>00:00:01.468000</td>\n",
       "      <td>0</td>\n",
       "      <td>3</td>\n",
       "      <td>2019-08-01</td>\n",
       "      <td>00:06:35.378000</td>\n",
       "      <td>0</td>\n",
       "      <td>3</td>\n",
       "      <td>8</td>\n",
       "      <td>8</td>\n",
       "      <td>213</td>\n",
       "      <td>213</td>\n",
       "    </tr>\n",
       "    <tr>\n",
       "      <th>1</th>\n",
       "      <td>627</td>\n",
       "      <td>2019-08-01 00:00:01.929</td>\n",
       "      <td>2019-08-01 00:10:29.784</td>\n",
       "      <td>274.0</td>\n",
       "      <td>Lafayette Ave &amp; Fort Greene Pl</td>\n",
       "      <td>40.686919</td>\n",
       "      <td>-73.976682</td>\n",
       "      <td>3409.0</td>\n",
       "      <td>Bergen St &amp; Smith St</td>\n",
       "      <td>40.686744</td>\n",
       "      <td>-73.990632</td>\n",
       "      <td>Subscriber</td>\n",
       "      <td>2019-08-01</td>\n",
       "      <td>00:00:01.929000</td>\n",
       "      <td>0</td>\n",
       "      <td>3</td>\n",
       "      <td>2019-08-01</td>\n",
       "      <td>00:10:29.784000</td>\n",
       "      <td>0</td>\n",
       "      <td>3</td>\n",
       "      <td>8</td>\n",
       "      <td>8</td>\n",
       "      <td>213</td>\n",
       "      <td>213</td>\n",
       "    </tr>\n",
       "    <tr>\n",
       "      <th>2</th>\n",
       "      <td>1132</td>\n",
       "      <td>2019-08-01 00:00:04.048</td>\n",
       "      <td>2019-08-01 00:18:56.165</td>\n",
       "      <td>2000.0</td>\n",
       "      <td>Front St &amp; Washington St</td>\n",
       "      <td>40.702551</td>\n",
       "      <td>-73.989402</td>\n",
       "      <td>3388.0</td>\n",
       "      <td>President St &amp; Henry St</td>\n",
       "      <td>40.682800</td>\n",
       "      <td>-73.999904</td>\n",
       "      <td>Subscriber</td>\n",
       "      <td>2019-08-01</td>\n",
       "      <td>00:00:04.048000</td>\n",
       "      <td>0</td>\n",
       "      <td>3</td>\n",
       "      <td>2019-08-01</td>\n",
       "      <td>00:18:56.165000</td>\n",
       "      <td>0</td>\n",
       "      <td>3</td>\n",
       "      <td>8</td>\n",
       "      <td>8</td>\n",
       "      <td>213</td>\n",
       "      <td>213</td>\n",
       "    </tr>\n",
       "    <tr>\n",
       "      <th>3</th>\n",
       "      <td>1780</td>\n",
       "      <td>2019-08-01 00:00:04.163</td>\n",
       "      <td>2019-08-01 00:29:44.794</td>\n",
       "      <td>479.0</td>\n",
       "      <td>9 Ave &amp; W 45 St</td>\n",
       "      <td>40.760193</td>\n",
       "      <td>-73.991255</td>\n",
       "      <td>473.0</td>\n",
       "      <td>Rivington St &amp; Chrystie St</td>\n",
       "      <td>40.721101</td>\n",
       "      <td>-73.991925</td>\n",
       "      <td>Subscriber</td>\n",
       "      <td>2019-08-01</td>\n",
       "      <td>00:00:04.163000</td>\n",
       "      <td>0</td>\n",
       "      <td>3</td>\n",
       "      <td>2019-08-01</td>\n",
       "      <td>00:29:44.794000</td>\n",
       "      <td>0</td>\n",
       "      <td>3</td>\n",
       "      <td>8</td>\n",
       "      <td>8</td>\n",
       "      <td>213</td>\n",
       "      <td>213</td>\n",
       "    </tr>\n",
       "    <tr>\n",
       "      <th>4</th>\n",
       "      <td>1517</td>\n",
       "      <td>2019-08-01 00:00:05.458</td>\n",
       "      <td>2019-08-01 00:25:23.455</td>\n",
       "      <td>3312.0</td>\n",
       "      <td>1 Ave &amp; E 94 St</td>\n",
       "      <td>40.781721</td>\n",
       "      <td>-73.945940</td>\n",
       "      <td>3312.0</td>\n",
       "      <td>1 Ave &amp; E 94 St</td>\n",
       "      <td>40.781721</td>\n",
       "      <td>-73.945940</td>\n",
       "      <td>Subscriber</td>\n",
       "      <td>2019-08-01</td>\n",
       "      <td>00:00:05.458000</td>\n",
       "      <td>0</td>\n",
       "      <td>3</td>\n",
       "      <td>2019-08-01</td>\n",
       "      <td>00:25:23.455000</td>\n",
       "      <td>0</td>\n",
       "      <td>3</td>\n",
       "      <td>8</td>\n",
       "      <td>8</td>\n",
       "      <td>213</td>\n",
       "      <td>213</td>\n",
       "    </tr>\n",
       "  </tbody>\n",
       "</table>\n",
       "</div>"
      ],
      "text/plain": [
       "   trip_duration              started_at                ended_at  \\\n",
       "0            393 2019-08-01 00:00:01.468 2019-08-01 00:06:35.378   \n",
       "1            627 2019-08-01 00:00:01.929 2019-08-01 00:10:29.784   \n",
       "2           1132 2019-08-01 00:00:04.048 2019-08-01 00:18:56.165   \n",
       "3           1780 2019-08-01 00:00:04.163 2019-08-01 00:29:44.794   \n",
       "4           1517 2019-08-01 00:00:05.458 2019-08-01 00:25:23.455   \n",
       "\n",
       "   start_station_id              start_station_name  start_lat  start_lng  \\\n",
       "0             531.0          Forsyth St & Broome St  40.718939 -73.992663   \n",
       "1             274.0  Lafayette Ave & Fort Greene Pl  40.686919 -73.976682   \n",
       "2            2000.0        Front St & Washington St  40.702551 -73.989402   \n",
       "3             479.0                 9 Ave & W 45 St  40.760193 -73.991255   \n",
       "4            3312.0                 1 Ave & E 94 St  40.781721 -73.945940   \n",
       "\n",
       "   end_station_id            end_station_name    end_lat    end_lng  \\\n",
       "0           408.0       Market St & Cherry St  40.710762 -73.994004   \n",
       "1          3409.0        Bergen St & Smith St  40.686744 -73.990632   \n",
       "2          3388.0     President St & Henry St  40.682800 -73.999904   \n",
       "3           473.0  Rivington St & Chrystie St  40.721101 -73.991925   \n",
       "4          3312.0             1 Ave & E 94 St  40.781721 -73.945940   \n",
       "\n",
       "    user_type started_at_date  started_at_time  started_at_hour  \\\n",
       "0  Subscriber      2019-08-01  00:00:01.468000                0   \n",
       "1  Subscriber      2019-08-01  00:00:01.929000                0   \n",
       "2  Subscriber      2019-08-01  00:00:04.048000                0   \n",
       "3  Subscriber      2019-08-01  00:00:04.163000                0   \n",
       "4  Subscriber      2019-08-01  00:00:05.458000                0   \n",
       "\n",
       "   started_at_day_of_week ended_at_date    ended_at_time  ended_at_hour  \\\n",
       "0                       3    2019-08-01  00:06:35.378000              0   \n",
       "1                       3    2019-08-01  00:10:29.784000              0   \n",
       "2                       3    2019-08-01  00:18:56.165000              0   \n",
       "3                       3    2019-08-01  00:29:44.794000              0   \n",
       "4                       3    2019-08-01  00:25:23.455000              0   \n",
       "\n",
       "   ended_at_day_of_week  started_at_month  ended_at_month  \\\n",
       "0                     3                 8               8   \n",
       "1                     3                 8               8   \n",
       "2                     3                 8               8   \n",
       "3                     3                 8               8   \n",
       "4                     3                 8               8   \n",
       "\n",
       "   started_at_day_of_year  ended_at_day_of_year  \n",
       "0                     213                   213  \n",
       "1                     213                   213  \n",
       "2                     213                   213  \n",
       "3                     213                   213  \n",
       "4                     213                   213  "
      ]
     },
     "execution_count": 43,
     "metadata": {},
     "output_type": "execute_result"
    }
   ],
   "source": [
    "citibike_2019.head()"
   ]
  },
  {
   "cell_type": "code",
   "execution_count": null,
   "id": "65c0c397",
   "metadata": {},
   "outputs": [],
   "source": []
  },
  {
   "cell_type": "code",
   "execution_count": null,
   "id": "8a011d2e",
   "metadata": {},
   "outputs": [],
   "source": []
  },
  {
   "cell_type": "code",
   "execution_count": null,
   "id": "ed529e65",
   "metadata": {},
   "outputs": [],
   "source": []
  },
  {
   "cell_type": "code",
   "execution_count": null,
   "id": "1943de6a",
   "metadata": {},
   "outputs": [],
   "source": []
  },
  {
   "cell_type": "code",
   "execution_count": null,
   "id": "0a2dfede",
   "metadata": {},
   "outputs": [],
   "source": [
    "pd.merge(citibike_2019, citibike_2020)"
   ]
  },
  {
   "cell_type": "code",
   "execution_count": null,
   "id": "75695b3d",
   "metadata": {},
   "outputs": [],
   "source": [
    "citibike_2020.info()"
   ]
  },
  {
   "cell_type": "code",
   "execution_count": null,
   "id": "29dc8160",
   "metadata": {},
   "outputs": [],
   "source": [
    "citibike_2019['start_station_id'].value_counts()"
   ]
  },
  {
   "cell_type": "code",
   "execution_count": null,
   "id": "86912066",
   "metadata": {},
   "outputs": [],
   "source": [
    "citibike_2019.info()"
   ]
  },
  {
   "cell_type": "code",
   "execution_count": null,
   "id": "88dd9879",
   "metadata": {},
   "outputs": [],
   "source": [
    "citibike_2020.info()"
   ]
  },
  {
   "cell_type": "code",
   "execution_count": null,
   "id": "761842c4",
   "metadata": {},
   "outputs": [],
   "source": [
    "citibike_2021.info()"
   ]
  },
  {
   "cell_type": "code",
   "execution_count": null,
   "id": "094687c8",
   "metadata": {},
   "outputs": [],
   "source": [
    "citibike_2021['start_station_id'].value_counts()"
   ]
  },
  {
   "cell_type": "code",
   "execution_count": null,
   "id": "c653debf",
   "metadata": {},
   "outputs": [],
   "source": [
    "citibike_2020['start_station_id'].value_counts()"
   ]
  },
  {
   "cell_type": "code",
   "execution_count": null,
   "id": "7739e144",
   "metadata": {},
   "outputs": [],
   "source": [
    "citibike_2019['start_station_id'].value_counts()"
   ]
  },
  {
   "cell_type": "code",
   "execution_count": null,
   "id": "8b3219b4",
   "metadata": {},
   "outputs": [],
   "source": [
    "# def datetime_hour(df, columns):\n",
    "#     for column in columns:\n",
    "#         df['hour'] = pd.to_datetime(df[column]).dt.hour\n",
    "# columns = ['started_at', 'ended_at']\n",
    "\n",
    "# datetime_hour(citibike_2019, columns)\n",
    "# datetime_hour(citibike_2020, columns)\n",
    "# datetime_hour(citibike_2021, columns)"
   ]
  },
  {
   "cell_type": "code",
   "execution_count": null,
   "id": "e0228e35",
   "metadata": {},
   "outputs": [],
   "source": []
  }
 ],
 "metadata": {
  "kernelspec": {
   "display_name": "Python 3 (ipykernel)",
   "language": "python",
   "name": "python3"
  },
  "language_info": {
   "codemirror_mode": {
    "name": "ipython",
    "version": 3
   },
   "file_extension": ".py",
   "mimetype": "text/x-python",
   "name": "python",
   "nbconvert_exporter": "python",
   "pygments_lexer": "ipython3",
   "version": "3.10.14"
  }
 },
 "nbformat": 4,
 "nbformat_minor": 5
}
