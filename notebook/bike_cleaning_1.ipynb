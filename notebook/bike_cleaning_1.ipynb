{
 "cells": [
  {
   "cell_type": "code",
   "execution_count": 1,
   "id": "5c464e2c",
   "metadata": {},
   "outputs": [],
   "source": [
    "import pandas as pd\n",
    "pd.set_option(\"display.max_columns\", 150)\n",
    "import glob"
   ]
  },
  {
   "cell_type": "code",
   "execution_count": 2,
   "id": "be7254b0",
   "metadata": {},
   "outputs": [],
   "source": [
    "#importing all the files and keeping them seperated by year.\n",
    "csv_files = glob.glob('../data/2019/*.csv')\n",
    "csv_files_1 = glob.glob('../data/2020/*.csv')\n",
    "csv_files_2 = glob.glob('../data/2021/*.csv')\n",
    "\n",
    "#importing the weather file.\n",
    "weather = pd.read_csv('../data/USW00094728.csv', low_memory = False)"
   ]
  },
  {
   "cell_type": "code",
   "execution_count": 3,
   "id": "bddeb6e2",
   "metadata": {},
   "outputs": [],
   "source": [
    "# #importing the weather\n",
    "# weather = pd.read_csv('../data/USW00094728.csv', low_memory = False)"
   ]
  },
  {
   "cell_type": "code",
   "execution_count": 4,
   "id": "81ba63bf",
   "metadata": {},
   "outputs": [],
   "source": [
    "#Creating the empty dataframes so that the files can be added to.\n",
    "\n",
    "citibike_2019 = pd.DataFrame()\n",
    "citibike_2020 = pd.DataFrame()\n",
    "citibike_2021 = pd.DataFrame()"
   ]
  },
  {
   "cell_type": "code",
   "execution_count": 5,
   "id": "ebda7279",
   "metadata": {},
   "outputs": [],
   "source": [
    "# Iterating over the 2019 files so that they are in a dataframe.\n",
    "for csv_file in csv_files:\n",
    "    df = pd.read_csv(csv_file, low_memory = False)\n",
    "    citibike_2019 = pd.concat([citibike_2019, df])"
   ]
  },
  {
   "cell_type": "code",
   "execution_count": 6,
   "id": "cf313b11",
   "metadata": {},
   "outputs": [],
   "source": [
    "# Iterating over the 2020 files so that they are in a dataframe.\n",
    "for csv_file in csv_files_1:\n",
    "    df = pd.read_csv(csv_file, low_memory = False)\n",
    "    citibike_2020 = pd.concat([citibike_2020, df])"
   ]
  },
  {
   "cell_type": "code",
   "execution_count": 7,
   "id": "29009d8d",
   "metadata": {},
   "outputs": [],
   "source": [
    "# Iterating over the 2021 files so that they are in a dataframe.\n",
    "for csv_file in csv_files_2:\n",
    "    df = pd.read_csv(csv_file, low_memory = False)\n",
    "    citibike_2021 = pd.concat([citibike_2021, df])"
   ]
  },
  {
   "cell_type": "code",
   "execution_count": 8,
   "id": "b46fbcf1",
   "metadata": {},
   "outputs": [
    {
     "name": "stdout",
     "output_type": "stream",
     "text": [
      "(20551697, 15)\n",
      "(19506857, 15)\n",
      "(27661451, 28)\n",
      "(56749, 124)\n"
     ]
    }
   ],
   "source": [
    "print(citibike_2019.shape)\n",
    "print(citibike_2020.shape)\n",
    "print(citibike_2021.shape)\n",
    "print(weather.shape)"
   ]
  },
  {
   "cell_type": "code",
   "execution_count": 9,
   "id": "bf45181b",
   "metadata": {},
   "outputs": [
    {
     "data": {
      "text/html": [
       "<div>\n",
       "<style scoped>\n",
       "    .dataframe tbody tr th:only-of-type {\n",
       "        vertical-align: middle;\n",
       "    }\n",
       "\n",
       "    .dataframe tbody tr th {\n",
       "        vertical-align: top;\n",
       "    }\n",
       "\n",
       "    .dataframe thead th {\n",
       "        text-align: right;\n",
       "    }\n",
       "</style>\n",
       "<table border=\"1\" class=\"dataframe\">\n",
       "  <thead>\n",
       "    <tr style=\"text-align: right;\">\n",
       "      <th></th>\n",
       "      <th>ride_id</th>\n",
       "      <th>rideable_type</th>\n",
       "      <th>started_at</th>\n",
       "      <th>ended_at</th>\n",
       "      <th>start_station_name</th>\n",
       "      <th>start_station_id</th>\n",
       "      <th>end_station_name</th>\n",
       "      <th>end_station_id</th>\n",
       "      <th>start_lat</th>\n",
       "      <th>start_lng</th>\n",
       "      <th>end_lat</th>\n",
       "      <th>end_lng</th>\n",
       "      <th>member_casual</th>\n",
       "      <th>tripduration</th>\n",
       "      <th>starttime</th>\n",
       "      <th>stoptime</th>\n",
       "      <th>start station id</th>\n",
       "      <th>start station name</th>\n",
       "      <th>start station latitude</th>\n",
       "      <th>start station longitude</th>\n",
       "      <th>end station id</th>\n",
       "      <th>end station name</th>\n",
       "      <th>end station latitude</th>\n",
       "      <th>end station longitude</th>\n",
       "      <th>bikeid</th>\n",
       "      <th>usertype</th>\n",
       "      <th>birth year</th>\n",
       "      <th>gender</th>\n",
       "    </tr>\n",
       "  </thead>\n",
       "  <tbody>\n",
       "    <tr>\n",
       "      <th>0</th>\n",
       "      <td>50787872EF6E8129</td>\n",
       "      <td>classic_bike</td>\n",
       "      <td>2021-09-17 09:37:02</td>\n",
       "      <td>2021-09-17 09:53:41</td>\n",
       "      <td>Fulton St &amp; Broadway</td>\n",
       "      <td>5175.08</td>\n",
       "      <td>Atlantic Ave &amp; Furman St</td>\n",
       "      <td>4614.04</td>\n",
       "      <td>40.711066</td>\n",
       "      <td>-74.009447</td>\n",
       "      <td>40.691652</td>\n",
       "      <td>-73.999979</td>\n",
       "      <td>member</td>\n",
       "      <td>NaN</td>\n",
       "      <td>NaN</td>\n",
       "      <td>NaN</td>\n",
       "      <td>NaN</td>\n",
       "      <td>NaN</td>\n",
       "      <td>NaN</td>\n",
       "      <td>NaN</td>\n",
       "      <td>NaN</td>\n",
       "      <td>NaN</td>\n",
       "      <td>NaN</td>\n",
       "      <td>NaN</td>\n",
       "      <td>NaN</td>\n",
       "      <td>NaN</td>\n",
       "      <td>NaN</td>\n",
       "      <td>NaN</td>\n",
       "    </tr>\n",
       "    <tr>\n",
       "      <th>1</th>\n",
       "      <td>7957B375A8C64D32</td>\n",
       "      <td>classic_bike</td>\n",
       "      <td>2021-09-28 08:58:39</td>\n",
       "      <td>2021-09-28 09:06:14</td>\n",
       "      <td>Fulton St &amp; Broadway</td>\n",
       "      <td>5175.08</td>\n",
       "      <td>Canal St &amp; Rutgers St</td>\n",
       "      <td>5303.08</td>\n",
       "      <td>40.711066</td>\n",
       "      <td>-74.009447</td>\n",
       "      <td>40.714275</td>\n",
       "      <td>-73.989900</td>\n",
       "      <td>casual</td>\n",
       "      <td>NaN</td>\n",
       "      <td>NaN</td>\n",
       "      <td>NaN</td>\n",
       "      <td>NaN</td>\n",
       "      <td>NaN</td>\n",
       "      <td>NaN</td>\n",
       "      <td>NaN</td>\n",
       "      <td>NaN</td>\n",
       "      <td>NaN</td>\n",
       "      <td>NaN</td>\n",
       "      <td>NaN</td>\n",
       "      <td>NaN</td>\n",
       "      <td>NaN</td>\n",
       "      <td>NaN</td>\n",
       "      <td>NaN</td>\n",
       "    </tr>\n",
       "    <tr>\n",
       "      <th>2</th>\n",
       "      <td>DF3D6A35EAA68FE5</td>\n",
       "      <td>electric_bike</td>\n",
       "      <td>2021-09-21 13:36:12</td>\n",
       "      <td>2021-09-21 14:13:20</td>\n",
       "      <td>S 5 Pl &amp; S 5 St</td>\n",
       "      <td>5125.03</td>\n",
       "      <td>Canal St &amp; Rutgers St</td>\n",
       "      <td>5303.08</td>\n",
       "      <td>40.710451</td>\n",
       "      <td>-73.960876</td>\n",
       "      <td>40.714275</td>\n",
       "      <td>-73.989900</td>\n",
       "      <td>member</td>\n",
       "      <td>NaN</td>\n",
       "      <td>NaN</td>\n",
       "      <td>NaN</td>\n",
       "      <td>NaN</td>\n",
       "      <td>NaN</td>\n",
       "      <td>NaN</td>\n",
       "      <td>NaN</td>\n",
       "      <td>NaN</td>\n",
       "      <td>NaN</td>\n",
       "      <td>NaN</td>\n",
       "      <td>NaN</td>\n",
       "      <td>NaN</td>\n",
       "      <td>NaN</td>\n",
       "      <td>NaN</td>\n",
       "      <td>NaN</td>\n",
       "    </tr>\n",
       "    <tr>\n",
       "      <th>3</th>\n",
       "      <td>23EFBDA190976B8C</td>\n",
       "      <td>classic_bike</td>\n",
       "      <td>2021-09-22 16:44:26</td>\n",
       "      <td>2021-09-22 16:59:28</td>\n",
       "      <td>Barclay St &amp; Church St</td>\n",
       "      <td>5216.04</td>\n",
       "      <td>Bank St &amp; Washington St</td>\n",
       "      <td>5964.01</td>\n",
       "      <td>40.712912</td>\n",
       "      <td>-74.010202</td>\n",
       "      <td>40.736197</td>\n",
       "      <td>-74.008592</td>\n",
       "      <td>member</td>\n",
       "      <td>NaN</td>\n",
       "      <td>NaN</td>\n",
       "      <td>NaN</td>\n",
       "      <td>NaN</td>\n",
       "      <td>NaN</td>\n",
       "      <td>NaN</td>\n",
       "      <td>NaN</td>\n",
       "      <td>NaN</td>\n",
       "      <td>NaN</td>\n",
       "      <td>NaN</td>\n",
       "      <td>NaN</td>\n",
       "      <td>NaN</td>\n",
       "      <td>NaN</td>\n",
       "      <td>NaN</td>\n",
       "      <td>NaN</td>\n",
       "    </tr>\n",
       "    <tr>\n",
       "      <th>4</th>\n",
       "      <td>B31FFAD813FA26F5</td>\n",
       "      <td>classic_bike</td>\n",
       "      <td>2021-09-09 14:02:51</td>\n",
       "      <td>2021-09-09 14:14:46</td>\n",
       "      <td>E 2 St &amp; Avenue B</td>\n",
       "      <td>5515.02</td>\n",
       "      <td>Canal St &amp; Rutgers St</td>\n",
       "      <td>5303.08</td>\n",
       "      <td>40.722174</td>\n",
       "      <td>-73.983688</td>\n",
       "      <td>40.714275</td>\n",
       "      <td>-73.989900</td>\n",
       "      <td>member</td>\n",
       "      <td>NaN</td>\n",
       "      <td>NaN</td>\n",
       "      <td>NaN</td>\n",
       "      <td>NaN</td>\n",
       "      <td>NaN</td>\n",
       "      <td>NaN</td>\n",
       "      <td>NaN</td>\n",
       "      <td>NaN</td>\n",
       "      <td>NaN</td>\n",
       "      <td>NaN</td>\n",
       "      <td>NaN</td>\n",
       "      <td>NaN</td>\n",
       "      <td>NaN</td>\n",
       "      <td>NaN</td>\n",
       "      <td>NaN</td>\n",
       "    </tr>\n",
       "  </tbody>\n",
       "</table>\n",
       "</div>"
      ],
      "text/plain": [
       "            ride_id  rideable_type           started_at             ended_at  \\\n",
       "0  50787872EF6E8129   classic_bike  2021-09-17 09:37:02  2021-09-17 09:53:41   \n",
       "1  7957B375A8C64D32   classic_bike  2021-09-28 08:58:39  2021-09-28 09:06:14   \n",
       "2  DF3D6A35EAA68FE5  electric_bike  2021-09-21 13:36:12  2021-09-21 14:13:20   \n",
       "3  23EFBDA190976B8C   classic_bike  2021-09-22 16:44:26  2021-09-22 16:59:28   \n",
       "4  B31FFAD813FA26F5   classic_bike  2021-09-09 14:02:51  2021-09-09 14:14:46   \n",
       "\n",
       "       start_station_name start_station_id          end_station_name  \\\n",
       "0    Fulton St & Broadway          5175.08  Atlantic Ave & Furman St   \n",
       "1    Fulton St & Broadway          5175.08     Canal St & Rutgers St   \n",
       "2         S 5 Pl & S 5 St          5125.03     Canal St & Rutgers St   \n",
       "3  Barclay St & Church St          5216.04   Bank St & Washington St   \n",
       "4       E 2 St & Avenue B          5515.02     Canal St & Rutgers St   \n",
       "\n",
       "  end_station_id  start_lat  start_lng    end_lat    end_lng member_casual  \\\n",
       "0        4614.04  40.711066 -74.009447  40.691652 -73.999979        member   \n",
       "1        5303.08  40.711066 -74.009447  40.714275 -73.989900        casual   \n",
       "2        5303.08  40.710451 -73.960876  40.714275 -73.989900        member   \n",
       "3        5964.01  40.712912 -74.010202  40.736197 -74.008592        member   \n",
       "4        5303.08  40.722174 -73.983688  40.714275 -73.989900        member   \n",
       "\n",
       "   tripduration starttime stoptime  start station id start station name  \\\n",
       "0           NaN       NaN      NaN               NaN                NaN   \n",
       "1           NaN       NaN      NaN               NaN                NaN   \n",
       "2           NaN       NaN      NaN               NaN                NaN   \n",
       "3           NaN       NaN      NaN               NaN                NaN   \n",
       "4           NaN       NaN      NaN               NaN                NaN   \n",
       "\n",
       "   start station latitude  start station longitude  end station id  \\\n",
       "0                     NaN                      NaN             NaN   \n",
       "1                     NaN                      NaN             NaN   \n",
       "2                     NaN                      NaN             NaN   \n",
       "3                     NaN                      NaN             NaN   \n",
       "4                     NaN                      NaN             NaN   \n",
       "\n",
       "  end station name  end station latitude  end station longitude  bikeid  \\\n",
       "0              NaN                   NaN                    NaN     NaN   \n",
       "1              NaN                   NaN                    NaN     NaN   \n",
       "2              NaN                   NaN                    NaN     NaN   \n",
       "3              NaN                   NaN                    NaN     NaN   \n",
       "4              NaN                   NaN                    NaN     NaN   \n",
       "\n",
       "  usertype  birth year  gender  \n",
       "0      NaN         NaN     NaN  \n",
       "1      NaN         NaN     NaN  \n",
       "2      NaN         NaN     NaN  \n",
       "3      NaN         NaN     NaN  \n",
       "4      NaN         NaN     NaN  "
      ]
     },
     "execution_count": 9,
     "metadata": {},
     "output_type": "execute_result"
    }
   ],
   "source": [
    "citibike_2021.head()"
   ]
  },
  {
   "cell_type": "code",
   "execution_count": 10,
   "id": "44d4b9c4",
   "metadata": {},
   "outputs": [],
   "source": [
    "#changing the DATE column to a datetime datatype.\n",
    "weather['DATE'] = pd.to_datetime(weather['DATE'])"
   ]
  },
  {
   "cell_type": "code",
   "execution_count": 11,
   "id": "176eddfa",
   "metadata": {},
   "outputs": [],
   "source": [
    "#choosing the years I want data on.\n",
    "weather = weather[weather['DATE'].dt.year.isin([2019, 2020, 2021])]"
   ]
  },
  {
   "cell_type": "code",
   "execution_count": 12,
   "id": "f9d2f146",
   "metadata": {},
   "outputs": [],
   "source": [
    "#Getting a count of how many nans are in each column.\n",
    "nan_counts = weather.isna().sum()\n",
    "too_many_nans = nan_counts[nan_counts > 500].index #locating the columns that hace more than 500 nans.\n",
    "weather = weather.drop(columns = too_many_nans)# dropping the columns with more than 500 nans."
   ]
  },
  {
   "cell_type": "code",
   "execution_count": 13,
   "id": "5812dc94",
   "metadata": {},
   "outputs": [],
   "source": [
    "citibike_2021 = citibike_2021.rename(columns = {'member_casual':'user_type'})\n",
    "citibike_2021 = citibike_2021.drop(columns = ['ride_id', 'rideable_type', 'starttime', 'stoptime', 'start station id', 'start station name', 'start station latitude', 'start station longitude', 'end station id', 'end station name', 'end station latitude', 'end station longitude','bikeid','usertype','birth year','gender', 'tripduration'])"
   ]
  },
  {
   "cell_type": "code",
   "execution_count": 14,
   "id": "4152c3e3",
   "metadata": {
    "scrolled": true
   },
   "outputs": [],
   "source": [
    "citibike_2019 = citibike_2019.rename(columns = {'starttime': 'started_at', 'stoptime' : 'ended_at','start station id': 'start_station_id', 'start station name': 'start_station_name', 'start station latitude':'start_lat', 'start station longitude':'start_lng', 'end station id':'end_station_id', 'end station name':'end_station_name', 'end station latitude':'end_lat','end station longitude':'end_lng', 'usertype':'user_type'})\n",
    "citibike_2020 = citibike_2020.rename(columns = {'starttime': 'started_at', 'stoptime' : 'ended_at','start station id': 'start_station_id', 'start station name': 'start_station_name', 'start station latitude':'start_lat', 'start station longitude':'start_lng', 'end station id':'end_station_id', 'end station name':'end_station_name', 'end station latitude':'end_lat','end station longitude':'end_lng', 'usertype':'user_type'})"
   ]
  },
  {
   "cell_type": "code",
   "execution_count": 15,
   "id": "182a1c93",
   "metadata": {},
   "outputs": [],
   "source": [
    "citibike_2019 = citibike_2019.drop(columns = ['birth year', 'gender', 'bikeid'])\n",
    "citibike_2020 = citibike_2020.drop(columns = ['birth year', 'gender', 'bikeid'])"
   ]
  },
  {
   "cell_type": "code",
   "execution_count": 19,
   "id": "898386d4",
   "metadata": {},
   "outputs": [],
   "source": [
    "def convert_datetime(df, columns):\n",
    "    for column in columns:\n",
    "        df[column] = pd.to_datetime(df[column])\n",
    "\n",
    "columns = ['started_at', 'ended_at']\n",
    "\n",
    "convert_datetime(citibike_2019, columns)\n",
    "convert_datetime(citibike_2020, columns)\n",
    "convert_datetime(citibike_2021, columns)"
   ]
  },
  {
   "cell_type": "code",
   "execution_count": 21,
   "id": "580ea702",
   "metadata": {},
   "outputs": [],
   "source": [
    "citibike_2021['trip_duration'] = citibike_2021['ended_at'] - citibike_2021['started_at']\n",
    "citibike_2021['trip_duration'] = citibike_2021['trip_duration'].dt.total_seconds()"
   ]
  },
  {
   "cell_type": "code",
   "execution_count": 26,
   "id": "ea449cc2",
   "metadata": {},
   "outputs": [
    {
     "data": {
      "text/plain": [
       "1095346"
      ]
     },
     "execution_count": 26,
     "metadata": {},
     "output_type": "execute_result"
    }
   ],
   "source": [
    "citibike_2021['trip_duration'].isna().sum()"
   ]
  },
  {
   "cell_type": "code",
   "execution_count": 30,
   "id": "8c1f9615",
   "metadata": {},
   "outputs": [],
   "source": [
    "def datetime_date_time(df, columns):\n",
    "    for column in columns:\n",
    "        df['date'] = pd.to_datetime(df[column]).dt.date\n",
    "        df['time'] = pd.to_datetime(df[column]).dt.time\n",
    "        df['hour'] = pd.to_datetime(df[column]).dt.hour\n",
    "columns = ['started_at', 'ended_at']\n",
    "\n",
    "datetime_date_time(citibike_2019, columns)\n",
    "datetime_date_time(citibike_2020, columns)\n",
    "datetime_date_time(citibike_2021, columns)"
   ]
  },
  {
   "cell_type": "code",
   "execution_count": 28,
   "id": "9c48dfe7",
   "metadata": {},
   "outputs": [],
   "source": [
    "def datetime_month(df, columns):\n",
    "    for column in columns:\n",
    "        df['month'] = pd.DatetimeIndex(df[column]).month\n",
    "columns = ['started_at', 'ended_at']\n",
    "\n",
    "datetime_month(citibike_2019, columns)\n",
    "datetime_month(citibike_2020, columns)\n",
    "datetime_month(citibike_2021, columns)"
   ]
  },
  {
   "cell_type": "code",
   "execution_count": 33,
   "id": "2b1bd5cb",
   "metadata": {},
   "outputs": [
    {
     "data": {
      "text/html": [
       "<div>\n",
       "<style scoped>\n",
       "    .dataframe tbody tr th:only-of-type {\n",
       "        vertical-align: middle;\n",
       "    }\n",
       "\n",
       "    .dataframe tbody tr th {\n",
       "        vertical-align: top;\n",
       "    }\n",
       "\n",
       "    .dataframe thead th {\n",
       "        text-align: right;\n",
       "    }\n",
       "</style>\n",
       "<table border=\"1\" class=\"dataframe\">\n",
       "  <thead>\n",
       "    <tr style=\"text-align: right;\">\n",
       "      <th></th>\n",
       "      <th>started_at</th>\n",
       "      <th>ended_at</th>\n",
       "      <th>start_station_name</th>\n",
       "      <th>start_station_id</th>\n",
       "      <th>end_station_name</th>\n",
       "      <th>end_station_id</th>\n",
       "      <th>start_lat</th>\n",
       "      <th>start_lng</th>\n",
       "      <th>end_lat</th>\n",
       "      <th>end_lng</th>\n",
       "      <th>user_type</th>\n",
       "      <th>trip_duration</th>\n",
       "      <th>month</th>\n",
       "      <th>date</th>\n",
       "      <th>time</th>\n",
       "      <th>hour</th>\n",
       "    </tr>\n",
       "  </thead>\n",
       "  <tbody>\n",
       "    <tr>\n",
       "      <th>0</th>\n",
       "      <td>2021-09-17 09:37:02</td>\n",
       "      <td>2021-09-17 09:53:41</td>\n",
       "      <td>Fulton St &amp; Broadway</td>\n",
       "      <td>5175.08</td>\n",
       "      <td>Atlantic Ave &amp; Furman St</td>\n",
       "      <td>4614.04</td>\n",
       "      <td>40.711066</td>\n",
       "      <td>-74.009447</td>\n",
       "      <td>40.691652</td>\n",
       "      <td>-73.999979</td>\n",
       "      <td>member</td>\n",
       "      <td>999.0</td>\n",
       "      <td>9.0</td>\n",
       "      <td>2021-09-17</td>\n",
       "      <td>09:53:41</td>\n",
       "      <td>9.0</td>\n",
       "    </tr>\n",
       "    <tr>\n",
       "      <th>1</th>\n",
       "      <td>2021-09-28 08:58:39</td>\n",
       "      <td>2021-09-28 09:06:14</td>\n",
       "      <td>Fulton St &amp; Broadway</td>\n",
       "      <td>5175.08</td>\n",
       "      <td>Canal St &amp; Rutgers St</td>\n",
       "      <td>5303.08</td>\n",
       "      <td>40.711066</td>\n",
       "      <td>-74.009447</td>\n",
       "      <td>40.714275</td>\n",
       "      <td>-73.989900</td>\n",
       "      <td>casual</td>\n",
       "      <td>455.0</td>\n",
       "      <td>9.0</td>\n",
       "      <td>2021-09-28</td>\n",
       "      <td>09:06:14</td>\n",
       "      <td>9.0</td>\n",
       "    </tr>\n",
       "    <tr>\n",
       "      <th>2</th>\n",
       "      <td>2021-09-21 13:36:12</td>\n",
       "      <td>2021-09-21 14:13:20</td>\n",
       "      <td>S 5 Pl &amp; S 5 St</td>\n",
       "      <td>5125.03</td>\n",
       "      <td>Canal St &amp; Rutgers St</td>\n",
       "      <td>5303.08</td>\n",
       "      <td>40.710451</td>\n",
       "      <td>-73.960876</td>\n",
       "      <td>40.714275</td>\n",
       "      <td>-73.989900</td>\n",
       "      <td>member</td>\n",
       "      <td>2228.0</td>\n",
       "      <td>9.0</td>\n",
       "      <td>2021-09-21</td>\n",
       "      <td>14:13:20</td>\n",
       "      <td>14.0</td>\n",
       "    </tr>\n",
       "    <tr>\n",
       "      <th>3</th>\n",
       "      <td>2021-09-22 16:44:26</td>\n",
       "      <td>2021-09-22 16:59:28</td>\n",
       "      <td>Barclay St &amp; Church St</td>\n",
       "      <td>5216.04</td>\n",
       "      <td>Bank St &amp; Washington St</td>\n",
       "      <td>5964.01</td>\n",
       "      <td>40.712912</td>\n",
       "      <td>-74.010202</td>\n",
       "      <td>40.736197</td>\n",
       "      <td>-74.008592</td>\n",
       "      <td>member</td>\n",
       "      <td>902.0</td>\n",
       "      <td>9.0</td>\n",
       "      <td>2021-09-22</td>\n",
       "      <td>16:59:28</td>\n",
       "      <td>16.0</td>\n",
       "    </tr>\n",
       "    <tr>\n",
       "      <th>4</th>\n",
       "      <td>2021-09-09 14:02:51</td>\n",
       "      <td>2021-09-09 14:14:46</td>\n",
       "      <td>E 2 St &amp; Avenue B</td>\n",
       "      <td>5515.02</td>\n",
       "      <td>Canal St &amp; Rutgers St</td>\n",
       "      <td>5303.08</td>\n",
       "      <td>40.722174</td>\n",
       "      <td>-73.983688</td>\n",
       "      <td>40.714275</td>\n",
       "      <td>-73.989900</td>\n",
       "      <td>member</td>\n",
       "      <td>715.0</td>\n",
       "      <td>9.0</td>\n",
       "      <td>2021-09-09</td>\n",
       "      <td>14:14:46</td>\n",
       "      <td>14.0</td>\n",
       "    </tr>\n",
       "    <tr>\n",
       "      <th>...</th>\n",
       "      <td>...</td>\n",
       "      <td>...</td>\n",
       "      <td>...</td>\n",
       "      <td>...</td>\n",
       "      <td>...</td>\n",
       "      <td>...</td>\n",
       "      <td>...</td>\n",
       "      <td>...</td>\n",
       "      <td>...</td>\n",
       "      <td>...</td>\n",
       "      <td>...</td>\n",
       "      <td>...</td>\n",
       "      <td>...</td>\n",
       "      <td>...</td>\n",
       "      <td>...</td>\n",
       "      <td>...</td>\n",
       "    </tr>\n",
       "    <tr>\n",
       "      <th>999995</th>\n",
       "      <td>2021-04-06 16:17:48</td>\n",
       "      <td>2021-04-06 16:47:59</td>\n",
       "      <td>Sands St Gate</td>\n",
       "      <td>4812.04</td>\n",
       "      <td>Atlantic Ave &amp; Furman St</td>\n",
       "      <td>4614.04</td>\n",
       "      <td>40.699569</td>\n",
       "      <td>-73.979827</td>\n",
       "      <td>40.691652</td>\n",
       "      <td>-73.999979</td>\n",
       "      <td>member</td>\n",
       "      <td>1811.0</td>\n",
       "      <td>4.0</td>\n",
       "      <td>2021-04-06</td>\n",
       "      <td>16:47:59</td>\n",
       "      <td>16.0</td>\n",
       "    </tr>\n",
       "    <tr>\n",
       "      <th>999996</th>\n",
       "      <td>2021-04-19 17:46:21</td>\n",
       "      <td>2021-04-19 17:55:00</td>\n",
       "      <td>Columbia Heights &amp; Cranberry St</td>\n",
       "      <td>4829.01</td>\n",
       "      <td>Atlantic Ave &amp; Furman St</td>\n",
       "      <td>4614.04</td>\n",
       "      <td>40.700378</td>\n",
       "      <td>-73.995480</td>\n",
       "      <td>40.691652</td>\n",
       "      <td>-73.999979</td>\n",
       "      <td>member</td>\n",
       "      <td>519.0</td>\n",
       "      <td>4.0</td>\n",
       "      <td>2021-04-19</td>\n",
       "      <td>17:55:00</td>\n",
       "      <td>17.0</td>\n",
       "    </tr>\n",
       "    <tr>\n",
       "      <th>999997</th>\n",
       "      <td>2021-04-28 18:41:29</td>\n",
       "      <td>2021-04-28 19:18:25</td>\n",
       "      <td>Columbia St &amp; Degraw St</td>\n",
       "      <td>4422.04</td>\n",
       "      <td>Atlantic Ave &amp; Furman St</td>\n",
       "      <td>4614.04</td>\n",
       "      <td>40.685929</td>\n",
       "      <td>-74.002423</td>\n",
       "      <td>40.691652</td>\n",
       "      <td>-73.999979</td>\n",
       "      <td>member</td>\n",
       "      <td>2216.0</td>\n",
       "      <td>4.0</td>\n",
       "      <td>2021-04-28</td>\n",
       "      <td>19:18:25</td>\n",
       "      <td>19.0</td>\n",
       "    </tr>\n",
       "    <tr>\n",
       "      <th>999998</th>\n",
       "      <td>2021-04-14 16:55:38</td>\n",
       "      <td>2021-04-14 17:03:47</td>\n",
       "      <td>S 4 St &amp; Wythe Ave</td>\n",
       "      <td>5204.05</td>\n",
       "      <td>N 15 St &amp; Wythe Ave</td>\n",
       "      <td>5520.09</td>\n",
       "      <td>40.712858</td>\n",
       "      <td>-73.965902</td>\n",
       "      <td>40.724055</td>\n",
       "      <td>-73.955736</td>\n",
       "      <td>casual</td>\n",
       "      <td>489.0</td>\n",
       "      <td>4.0</td>\n",
       "      <td>2021-04-14</td>\n",
       "      <td>17:03:47</td>\n",
       "      <td>17.0</td>\n",
       "    </tr>\n",
       "    <tr>\n",
       "      <th>999999</th>\n",
       "      <td>2021-04-28 15:36:38</td>\n",
       "      <td>2021-04-28 15:55:31</td>\n",
       "      <td>S 4 St &amp; Wythe Ave</td>\n",
       "      <td>5204.05</td>\n",
       "      <td>Atlantic Ave &amp; Furman St</td>\n",
       "      <td>4614.04</td>\n",
       "      <td>40.712858</td>\n",
       "      <td>-73.965902</td>\n",
       "      <td>40.691652</td>\n",
       "      <td>-73.999979</td>\n",
       "      <td>casual</td>\n",
       "      <td>1133.0</td>\n",
       "      <td>4.0</td>\n",
       "      <td>2021-04-28</td>\n",
       "      <td>15:55:31</td>\n",
       "      <td>15.0</td>\n",
       "    </tr>\n",
       "  </tbody>\n",
       "</table>\n",
       "<p>27661451 rows × 16 columns</p>\n",
       "</div>"
      ],
      "text/plain": [
       "                started_at            ended_at  \\\n",
       "0      2021-09-17 09:37:02 2021-09-17 09:53:41   \n",
       "1      2021-09-28 08:58:39 2021-09-28 09:06:14   \n",
       "2      2021-09-21 13:36:12 2021-09-21 14:13:20   \n",
       "3      2021-09-22 16:44:26 2021-09-22 16:59:28   \n",
       "4      2021-09-09 14:02:51 2021-09-09 14:14:46   \n",
       "...                    ...                 ...   \n",
       "999995 2021-04-06 16:17:48 2021-04-06 16:47:59   \n",
       "999996 2021-04-19 17:46:21 2021-04-19 17:55:00   \n",
       "999997 2021-04-28 18:41:29 2021-04-28 19:18:25   \n",
       "999998 2021-04-14 16:55:38 2021-04-14 17:03:47   \n",
       "999999 2021-04-28 15:36:38 2021-04-28 15:55:31   \n",
       "\n",
       "                     start_station_name start_station_id  \\\n",
       "0                  Fulton St & Broadway          5175.08   \n",
       "1                  Fulton St & Broadway          5175.08   \n",
       "2                       S 5 Pl & S 5 St          5125.03   \n",
       "3                Barclay St & Church St          5216.04   \n",
       "4                     E 2 St & Avenue B          5515.02   \n",
       "...                                 ...              ...   \n",
       "999995                    Sands St Gate          4812.04   \n",
       "999996  Columbia Heights & Cranberry St          4829.01   \n",
       "999997          Columbia St & Degraw St          4422.04   \n",
       "999998               S 4 St & Wythe Ave          5204.05   \n",
       "999999               S 4 St & Wythe Ave          5204.05   \n",
       "\n",
       "                end_station_name end_station_id  start_lat  start_lng  \\\n",
       "0       Atlantic Ave & Furman St        4614.04  40.711066 -74.009447   \n",
       "1          Canal St & Rutgers St        5303.08  40.711066 -74.009447   \n",
       "2          Canal St & Rutgers St        5303.08  40.710451 -73.960876   \n",
       "3        Bank St & Washington St        5964.01  40.712912 -74.010202   \n",
       "4          Canal St & Rutgers St        5303.08  40.722174 -73.983688   \n",
       "...                          ...            ...        ...        ...   \n",
       "999995  Atlantic Ave & Furman St        4614.04  40.699569 -73.979827   \n",
       "999996  Atlantic Ave & Furman St        4614.04  40.700378 -73.995480   \n",
       "999997  Atlantic Ave & Furman St        4614.04  40.685929 -74.002423   \n",
       "999998       N 15 St & Wythe Ave        5520.09  40.712858 -73.965902   \n",
       "999999  Atlantic Ave & Furman St        4614.04  40.712858 -73.965902   \n",
       "\n",
       "          end_lat    end_lng user_type  trip_duration  month        date  \\\n",
       "0       40.691652 -73.999979    member          999.0    9.0  2021-09-17   \n",
       "1       40.714275 -73.989900    casual          455.0    9.0  2021-09-28   \n",
       "2       40.714275 -73.989900    member         2228.0    9.0  2021-09-21   \n",
       "3       40.736197 -74.008592    member          902.0    9.0  2021-09-22   \n",
       "4       40.714275 -73.989900    member          715.0    9.0  2021-09-09   \n",
       "...           ...        ...       ...            ...    ...         ...   \n",
       "999995  40.691652 -73.999979    member         1811.0    4.0  2021-04-06   \n",
       "999996  40.691652 -73.999979    member          519.0    4.0  2021-04-19   \n",
       "999997  40.691652 -73.999979    member         2216.0    4.0  2021-04-28   \n",
       "999998  40.724055 -73.955736    casual          489.0    4.0  2021-04-14   \n",
       "999999  40.691652 -73.999979    casual         1133.0    4.0  2021-04-28   \n",
       "\n",
       "            time  hour  \n",
       "0       09:53:41   9.0  \n",
       "1       09:06:14   9.0  \n",
       "2       14:13:20  14.0  \n",
       "3       16:59:28  16.0  \n",
       "4       14:14:46  14.0  \n",
       "...          ...   ...  \n",
       "999995  16:47:59  16.0  \n",
       "999996  17:55:00  17.0  \n",
       "999997  19:18:25  19.0  \n",
       "999998  17:03:47  17.0  \n",
       "999999  15:55:31  15.0  \n",
       "\n",
       "[27661451 rows x 16 columns]"
      ]
     },
     "execution_count": 33,
     "metadata": {},
     "output_type": "execute_result"
    }
   ],
   "source": [
    "citibike_2021"
   ]
  },
  {
   "cell_type": "markdown",
   "id": "11358f33",
   "metadata": {},
   "source": [
    "***Answering some data questions***"
   ]
  },
  {
   "cell_type": "markdown",
   "id": "03a34672",
   "metadata": {},
   "source": [
    "*What time are the bikes most frequently used during the day?*"
   ]
  },
  {
   "cell_type": "code",
   "execution_count": 58,
   "id": "4fb8923b",
   "metadata": {},
   "outputs": [
    {
     "name": "stdout",
     "output_type": "stream",
     "text": [
      "The hour with the most bike usage in 2019 was hour 18 with 1963316 rides.\n",
      "The hour with the most bike usage in 2020 was hour 18 with 1846011 rides.\n",
      "The hour with the most bike usage in 2021 was hour 18.0 with 2376241 rides.\n"
     ]
    }
   ],
   "source": [
    "print(f\"The hour with the most bike usage in 2019 was hour {citibike_2019.groupby('hour')['hour'].count().sort_values(ascending=False).index[0]} with {citibike_2019.groupby('hour')['hour'].count().sort_values(ascending=False).iloc[0]} rides.\")\n",
    "print(f\"The hour with the most bike usage in 2020 was hour {citibike_2020.groupby('hour')['hour'].count().sort_values(ascending=False).index[0]} with {citibike_2020.groupby('hour')['hour'].count().sort_values(ascending=False).iloc[0]} rides.\")\n",
    "print(f\"The hour with the most bike usage in 2021 was hour {citibike_2021.groupby('hour')['hour'].count().sort_values(ascending=False).index[0]} with {citibike_2021.groupby('hour')['hour'].count().sort_values(ascending=False).iloc[0]} rides.\")"
   ]
  },
  {
   "cell_type": "markdown",
   "id": "faf7c07d",
   "metadata": {},
   "source": [
    "*What time are the bikes used the least during the day?*"
   ]
  },
  {
   "cell_type": "code",
   "execution_count": 59,
   "id": "5b47c4ac",
   "metadata": {},
   "outputs": [
    {
     "name": "stdout",
     "output_type": "stream",
     "text": [
      "The hour with the least bike usage in 2019 was hour 4 with 43066 rides.\n",
      "The hour with the least bike usage in 2020 was hour 4 with 38340 rides.\n",
      "The hour with the least bike usage in 2021 was hour 4.0 with 87378 rides.\n"
     ]
    }
   ],
   "source": [
    "print(f\"The hour with the least bike usage in 2019 was hour {citibike_2019.groupby('hour')['hour'].count().sort_values(ascending=True).index[0]} with {citibike_2019.groupby('hour')['hour'].count().sort_values(ascending=True).iloc[0]} rides.\")\n",
    "print(f\"The hour with the least bike usage in 2020 was hour {citibike_2020.groupby('hour')['hour'].count().sort_values(ascending=True).index[0]} with {citibike_2020.groupby('hour')['hour'].count().sort_values(ascending=True).iloc[0]} rides.\")\n",
    "print(f\"The hour with the least bike usage in 2021 was hour {citibike_2021.groupby('hour')['hour'].count().sort_values(ascending=True).index[0]} with {citibike_2021.groupby('hour')['hour'].count().sort_values(ascending=True).iloc[0]} rides.\")"
   ]
  },
  {
   "cell_type": "markdown",
   "id": "56e410ac",
   "metadata": {},
   "source": [
    "*Which stations are the most frequent for starting & ending a trip?*"
   ]
  },
  {
   "cell_type": "code",
   "execution_count": 52,
   "id": "0a2dfede",
   "metadata": {},
   "outputs": [
    {
     "data": {
      "text/html": [
       "<div>\n",
       "<style scoped>\n",
       "    .dataframe tbody tr th:only-of-type {\n",
       "        vertical-align: middle;\n",
       "    }\n",
       "\n",
       "    .dataframe tbody tr th {\n",
       "        vertical-align: top;\n",
       "    }\n",
       "\n",
       "    .dataframe thead th {\n",
       "        text-align: right;\n",
       "    }\n",
       "</style>\n",
       "<table border=\"1\" class=\"dataframe\">\n",
       "  <thead>\n",
       "    <tr style=\"text-align: right;\">\n",
       "      <th></th>\n",
       "      <th>tripduration</th>\n",
       "      <th>started_at</th>\n",
       "      <th>ended_at</th>\n",
       "      <th>start_station_id</th>\n",
       "      <th>start_station_name</th>\n",
       "      <th>start_lat</th>\n",
       "      <th>start_lng</th>\n",
       "      <th>end_station_id</th>\n",
       "      <th>end_station_name</th>\n",
       "      <th>end_lat</th>\n",
       "      <th>end_lng</th>\n",
       "      <th>user_type</th>\n",
       "      <th>month</th>\n",
       "      <th>date</th>\n",
       "      <th>time</th>\n",
       "      <th>hour</th>\n",
       "    </tr>\n",
       "  </thead>\n",
       "  <tbody>\n",
       "  </tbody>\n",
       "</table>\n",
       "</div>"
      ],
      "text/plain": [
       "Empty DataFrame\n",
       "Columns: [tripduration, started_at, ended_at, start_station_id, start_station_name, start_lat, start_lng, end_station_id, end_station_name, end_lat, end_lng, user_type, month, date, time, hour]\n",
       "Index: []"
      ]
     },
     "execution_count": 52,
     "metadata": {},
     "output_type": "execute_result"
    }
   ],
   "source": [
    "pd.merge(citibike_2019, citibike_2020)"
   ]
  },
  {
   "cell_type": "code",
   "execution_count": 57,
   "id": "75695b3d",
   "metadata": {},
   "outputs": [
    {
     "name": "stdout",
     "output_type": "stream",
     "text": [
      "<class 'pandas.core.frame.DataFrame'>\n",
      "Int64Index: 19506857 entries, 0 to 488224\n",
      "Data columns (total 16 columns):\n",
      " #   Column              Dtype         \n",
      "---  ------              -----         \n",
      " 0   tripduration        int64         \n",
      " 1   started_at          datetime64[ns]\n",
      " 2   ended_at            datetime64[ns]\n",
      " 3   start_station_id    int64         \n",
      " 4   start_station_name  object        \n",
      " 5   start_lat           float64       \n",
      " 6   start_lng           float64       \n",
      " 7   end_station_id      int64         \n",
      " 8   end_station_name    object        \n",
      " 9   end_lat             float64       \n",
      " 10  end_lng             float64       \n",
      " 11  user_type           object        \n",
      " 12  month               int64         \n",
      " 13  date                object        \n",
      " 14  time                object        \n",
      " 15  hour                int64         \n",
      "dtypes: datetime64[ns](2), float64(4), int64(5), object(5)\n",
      "memory usage: 2.5+ GB\n"
     ]
    }
   ],
   "source": [
    "citibike_2020.info()"
   ]
  },
  {
   "cell_type": "code",
   "execution_count": 60,
   "id": "29dc8160",
   "metadata": {},
   "outputs": [
    {
     "data": {
      "text/plain": [
       "519.0     156575\n",
       "497.0     121781\n",
       "3255.0    119958\n",
       "402.0     113138\n",
       "285.0     113012\n",
       "           ...  \n",
       "3902.0         8\n",
       "3250.0         6\n",
       "3245.0         6\n",
       "3909.0         6\n",
       "488.0          3\n",
       "Name: start_station_id, Length: 936, dtype: int64"
      ]
     },
     "execution_count": 60,
     "metadata": {},
     "output_type": "execute_result"
    }
   ],
   "source": [
    "citibike_2019['start_station_id'].value_counts()"
   ]
  },
  {
   "cell_type": "code",
   "execution_count": 56,
   "id": "86912066",
   "metadata": {},
   "outputs": [
    {
     "name": "stdout",
     "output_type": "stream",
     "text": [
      "<class 'pandas.core.frame.DataFrame'>\n",
      "Int64Index: 20551697 entries, 0 to 955209\n",
      "Data columns (total 16 columns):\n",
      " #   Column              Dtype         \n",
      "---  ------              -----         \n",
      " 0   tripduration        int64         \n",
      " 1   started_at          datetime64[ns]\n",
      " 2   ended_at            datetime64[ns]\n",
      " 3   start_station_id    float64       \n",
      " 4   start_station_name  object        \n",
      " 5   start_lat           float64       \n",
      " 6   start_lng           float64       \n",
      " 7   end_station_id      float64       \n",
      " 8   end_station_name    object        \n",
      " 9   end_lat             float64       \n",
      " 10  end_lng             float64       \n",
      " 11  user_type           object        \n",
      " 12  month               int64         \n",
      " 13  date                object        \n",
      " 14  time                object        \n",
      " 15  hour                int64         \n",
      "dtypes: datetime64[ns](2), float64(6), int64(3), object(5)\n",
      "memory usage: 2.6+ GB\n"
     ]
    }
   ],
   "source": [
    "citibike_2019.info()"
   ]
  },
  {
   "cell_type": "code",
   "execution_count": 62,
   "id": "88dd9879",
   "metadata": {},
   "outputs": [
    {
     "name": "stdout",
     "output_type": "stream",
     "text": [
      "<class 'pandas.core.frame.DataFrame'>\n",
      "Int64Index: 19506857 entries, 0 to 488224\n",
      "Data columns (total 16 columns):\n",
      " #   Column              Dtype         \n",
      "---  ------              -----         \n",
      " 0   tripduration        int64         \n",
      " 1   started_at          datetime64[ns]\n",
      " 2   ended_at            datetime64[ns]\n",
      " 3   start_station_id    int64         \n",
      " 4   start_station_name  object        \n",
      " 5   start_lat           float64       \n",
      " 6   start_lng           float64       \n",
      " 7   end_station_id      int64         \n",
      " 8   end_station_name    object        \n",
      " 9   end_lat             float64       \n",
      " 10  end_lng             float64       \n",
      " 11  user_type           object        \n",
      " 12  month               int64         \n",
      " 13  date                object        \n",
      " 14  time                object        \n",
      " 15  hour                int64         \n",
      "dtypes: datetime64[ns](2), float64(4), int64(5), object(5)\n",
      "memory usage: 2.5+ GB\n"
     ]
    }
   ],
   "source": [
    "citibike_2020.info()"
   ]
  },
  {
   "cell_type": "code",
   "execution_count": 63,
   "id": "761842c4",
   "metadata": {},
   "outputs": [
    {
     "name": "stdout",
     "output_type": "stream",
     "text": [
      "<class 'pandas.core.frame.DataFrame'>\n",
      "Int64Index: 27661451 entries, 0 to 999999\n",
      "Data columns (total 16 columns):\n",
      " #   Column              Dtype         \n",
      "---  ------              -----         \n",
      " 0   started_at          datetime64[ns]\n",
      " 1   ended_at            datetime64[ns]\n",
      " 2   start_station_name  object        \n",
      " 3   start_station_id    object        \n",
      " 4   end_station_name    object        \n",
      " 5   end_station_id      object        \n",
      " 6   start_lat           float64       \n",
      " 7   start_lng           float64       \n",
      " 8   end_lat             float64       \n",
      " 9   end_lng             float64       \n",
      " 10  user_type           object        \n",
      " 11  trip_duration       float64       \n",
      " 12  month               float64       \n",
      " 13  date                object        \n",
      " 14  time                object        \n",
      " 15  hour                float64       \n",
      "dtypes: datetime64[ns](2), float64(7), object(7)\n",
      "memory usage: 3.5+ GB\n"
     ]
    }
   ],
   "source": [
    "citibike_2021.info()"
   ]
  },
  {
   "cell_type": "code",
   "execution_count": 64,
   "id": "094687c8",
   "metadata": {},
   "outputs": [
    {
     "data": {
      "text/plain": [
       "5329.03        72530\n",
       "6140.05        72272\n",
       "5980.07        66631\n",
       "6822.09        64493\n",
       "5492.05        64016\n",
       "               ...  \n",
       "8419.03            2\n",
       "SYS035             2\n",
       "MTL-ECO51-1        2\n",
       "SYS016             1\n",
       "SYS033             1\n",
       "Name: start_station_id, Length: 3104, dtype: int64"
      ]
     },
     "execution_count": 64,
     "metadata": {},
     "output_type": "execute_result"
    }
   ],
   "source": [
    "citibike_2021['start_station_id'].value_counts()"
   ]
  },
  {
   "cell_type": "code",
   "execution_count": 65,
   "id": "c653debf",
   "metadata": {},
   "outputs": [
    {
     "data": {
      "text/plain": [
       "3141    100753\n",
       "426      99364\n",
       "435      99191\n",
       "514      97415\n",
       "499      91856\n",
       "         ...  \n",
       "4306         6\n",
       "3912         3\n",
       "4328         3\n",
       "4310         2\n",
       "4332         1\n",
       "Name: start_station_id, Length: 1213, dtype: int64"
      ]
     },
     "execution_count": 65,
     "metadata": {},
     "output_type": "execute_result"
    }
   ],
   "source": [
    "citibike_2020['start_station_id'].value_counts()"
   ]
  },
  {
   "cell_type": "code",
   "execution_count": 66,
   "id": "7739e144",
   "metadata": {},
   "outputs": [
    {
     "data": {
      "text/plain": [
       "519.0     156575\n",
       "497.0     121781\n",
       "3255.0    119958\n",
       "402.0     113138\n",
       "285.0     113012\n",
       "           ...  \n",
       "3902.0         8\n",
       "3250.0         6\n",
       "3245.0         6\n",
       "3909.0         6\n",
       "488.0          3\n",
       "Name: start_station_id, Length: 936, dtype: int64"
      ]
     },
     "execution_count": 66,
     "metadata": {},
     "output_type": "execute_result"
    }
   ],
   "source": [
    "citibike_2019['start_station_id'].value_counts()"
   ]
  },
  {
   "cell_type": "code",
   "execution_count": 32,
   "id": "8b3219b4",
   "metadata": {},
   "outputs": [],
   "source": [
    "# def datetime_hour(df, columns):\n",
    "#     for column in columns:\n",
    "#         df['hour'] = pd.to_datetime(df[column]).dt.hour\n",
    "# columns = ['started_at', 'ended_at']\n",
    "\n",
    "# datetime_hour(citibike_2019, columns)\n",
    "# datetime_hour(citibike_2020, columns)\n",
    "# datetime_hour(citibike_2021, columns)"
   ]
  },
  {
   "cell_type": "code",
   "execution_count": null,
   "id": "e0228e35",
   "metadata": {},
   "outputs": [],
   "source": []
  }
 ],
 "metadata": {
  "kernelspec": {
   "display_name": "Python 3 (ipykernel)",
   "language": "python",
   "name": "python3"
  },
  "language_info": {
   "codemirror_mode": {
    "name": "ipython",
    "version": 3
   },
   "file_extension": ".py",
   "mimetype": "text/x-python",
   "name": "python",
   "nbconvert_exporter": "python",
   "pygments_lexer": "ipython3",
   "version": "3.10.14"
  }
 },
 "nbformat": 4,
 "nbformat_minor": 5
}
