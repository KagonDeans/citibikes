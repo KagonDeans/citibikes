{
 "cells": [
  {
   "cell_type": "code",
   "execution_count": null,
   "id": "5c464e2c",
   "metadata": {},
   "outputs": [],
   "source": [
    "import pandas as pd\n",
    "pd.set_option(\"display.max_columns\", 150)\n",
    "import sqlite3\n",
    "import glob\n",
    "from pandas.tseries.holiday import USFederalHolidayCalendar as calendar\n",
    "\n",
    "import numpy as np\n",
    "import matplotlib.pyplot as plt\n",
    "import seaborn as sns"
   ]
  },
  {
   "cell_type": "code",
   "execution_count": null,
   "id": "36e01b5f",
   "metadata": {},
   "outputs": [],
   "source": [
    "#importing all the files.\n",
    "csv_files = glob.glob('../data/2020/*.csv')\n",
    "\n",
    "#Creating the empty dataframes so that the files can be added to.\n",
    "\n",
    "citibike = pd.DataFrame()\n",
    "\n",
    "\n",
    "# Iterating over the 2020 files so that they are in a dataframe.\n",
    "for csv_file in csv_files:\n",
    "    df = pd.read_csv(csv_file, low_memory = False)\n",
    "    citibike = pd.concat([citibike, df])\n"
   ]
  },
  {
   "cell_type": "code",
   "execution_count": null,
   "id": "4152c3e3",
   "metadata": {
    "scrolled": true
   },
   "outputs": [],
   "source": [
    "#removing spaces out of column names.\n",
    "citibike = citibike.rename(columns = {'starttime': 'started_at', 'stoptime' : 'ended_at','start station id': 'start_station_id', 'start station name': 'start_station_name', 'start station latitude':'start_lat', 'start station longitude':'start_lng', 'end station id':'end_station_id', 'end station name':'end_station_name', 'end station latitude':'end_lat','end station longitude':'end_lng', 'usertype':'user_type', 'tripduration' : 'trip_duration'})\n",
    "\n",
    "#removing columns that are not also available in 2021 df\n",
    "citibike = citibike.drop(columns = ['birth year', 'gender', 'bikeid'])"
   ]
  },
  {
   "cell_type": "code",
   "execution_count": null,
   "id": "898386d4",
   "metadata": {},
   "outputs": [],
   "source": [
    "#A function that changed the dtype of these columns to datetime.\n",
    "\n",
    "def convert_datetime(df, columns):\n",
    "    for column in columns:\n",
    "        df[column] = pd.to_datetime(df[column])\n",
    "\n",
    "columns = ['started_at', 'ended_at']\n",
    "\n",
    "convert_datetime(citibike, columns)"
   ]
  },
  {
   "cell_type": "code",
   "execution_count": null,
   "id": "8c1f9615",
   "metadata": {},
   "outputs": [],
   "source": [
    "# A function that will make new columns for the date, time, hour and day of the week each trip began and ended.\n",
    "\n",
    "def datetime_date_time(df, columns):\n",
    "    for column in columns:\n",
    "        df[f'{column}_date'] = pd.to_datetime(df[column]).dt.date\n",
    "        df[f'{column}_time'] = pd.to_datetime(df[column]).dt.time\n",
    "        df[f'{column}_hour'] = pd.to_datetime(df[column]).dt.hour\n",
    "        df[f'{column}_day_of_week'] = pd.to_datetime(df[column]).dt.weekday\n",
    "        df[f'{column}_day_of_year']= pd.to_datetime(df[column]).dt.dayofyear\n",
    "        \n",
    "columns = ['started_at', 'ended_at']\n",
    "\n",
    "datetime_date_time(citibike, columns)"
   ]
  },
  {
   "cell_type": "code",
   "execution_count": null,
   "id": "e244badb",
   "metadata": {},
   "outputs": [],
   "source": [
    "#using the convert_datetime function to convert the date column to a datetime dtype.\n",
    "\n",
    "columns = ['started_at_date', 'ended_at_date']\n",
    "\n",
    "convert_datetime(citibike, columns)"
   ]
  },
  {
   "cell_type": "code",
   "execution_count": null,
   "id": "9c48dfe7",
   "metadata": {},
   "outputs": [],
   "source": [
    "#A function that will create a column for the month of the trip.\n",
    "\n",
    "def datetime_month(df, columns):\n",
    "    for column in columns:\n",
    "        df[f'{column}_month'] = pd.DatetimeIndex(df[column]).month\n",
    "        \n",
    "columns = ['started_at', 'ended_at']\n",
    "\n",
    "datetime_month(citibike, columns)"
   ]
  },
  {
   "cell_type": "code",
   "execution_count": null,
   "id": "280c0f7a",
   "metadata": {},
   "outputs": [],
   "source": [
    "#https://stackoverflow.com/questions/29688899/pandas-checking-if-a-date-is-a-holiday-and-assigning-boolean-value\n",
    "\n",
    "#A datframe that will define if a date was a holiday.\n",
    "\n",
    "dr = pd.date_range(start='2020-01-01', end='2020-12-31')\n",
    "df = pd.DataFrame()\n",
    "df['date'] = dr\n",
    "\n",
    "cal = calendar()\n",
    "holidays = cal.holidays(start=dr.min(), end=dr.max())\n",
    "\n",
    "df['holiday'] = df['date'].isin(holidays)\n"
   ]
  },
  {
   "cell_type": "code",
   "execution_count": null,
   "id": "b12f6417",
   "metadata": {},
   "outputs": [],
   "source": [
    "#2020 \n",
    "citibike['trip_duration'].describe()"
   ]
  },
  {
   "cell_type": "markdown",
   "id": "5febb3fb",
   "metadata": {},
   "source": [
    "**Using the weather**"
   ]
  },
  {
   "cell_type": "code",
   "execution_count": null,
   "id": "6cf2b9ac",
   "metadata": {},
   "outputs": [],
   "source": [
    "#importing the weather file.\n",
    "cols = ['PRCP', 'SNOW', 'TMAX', 'TMIN', 'DATE', 'RHAV', 'AWND', 'RHMN', 'RHMX']\n",
    "weather = pd.read_csv('../data/USW00094728.csv', usecols = cols, low_memory = False)"
   ]
  },
  {
   "cell_type": "code",
   "execution_count": null,
   "id": "ef324a44",
   "metadata": {},
   "outputs": [],
   "source": [
    "#changing all the column titles to lowercase.\n",
    "weather.columns = map(str.lower, weather.columns)\n",
    "\n",
    "#changing the DATE column to a datetime datatype.\n",
    "weather['date'] = pd.to_datetime(weather['date'])\n",
    "\n",
    "#choosing the years I want data in.\n",
    "weather = weather[weather['date'].dt.year.isin([2020])].reset_index(drop = True)"
   ]
  },
  {
   "cell_type": "code",
   "execution_count": null,
   "id": "92e63b58",
   "metadata": {},
   "outputs": [],
   "source": [
    "day_trips = citibike.groupby('started_at_date').size().reset_index(name = 'num_of_trips')\n",
    "day_trips = day_trips.rename(columns = {'started_at_date' : 'date'})"
   ]
  },
  {
   "cell_type": "code",
   "execution_count": null,
   "id": "ed3cd454",
   "metadata": {},
   "outputs": [],
   "source": [
    "day_trips = day_trips.merge(df, left_on = 'date', right_on = 'date', how = 'left')\n",
    "day_trips = day_trips.merge(weather, left_on = 'date', right_on = 'date', how = 'left')"
   ]
  },
  {
   "cell_type": "code",
   "execution_count": null,
   "id": "d0b9c538",
   "metadata": {},
   "outputs": [],
   "source": [
    "#Changing the temperature to fahrenheit.\n",
    "#the original temperature was the celsius temp x 10. \n",
    "def to_fahrenheit(df, columns):\n",
    "    for column in columns:\n",
    "        df[f'{column}_fahrenheit'] = (df[column]/10)*(9/5)+32\n",
    "columns = ['tmax', 'tmin']\n",
    "\n",
    "to_fahrenheit(day_trips, columns)"
   ]
  },
  {
   "cell_type": "code",
   "execution_count": null,
   "id": "ab7244ba",
   "metadata": {},
   "outputs": [],
   "source": [
    "#Droping the original temp columns and renaming the farenheit temp columns.\n",
    "\n",
    "day_trips = day_trips.drop(columns = ['tmax','tmin'])\n",
    "day_trips = day_trips.rename(columns = {'tmax_fahrenheit' : 'tmax', 'tmin_fahrenheit' : 'tmin'})\n",
    "\n",
    "day_trips['tavg'] = (day_trips['tmax'] + day_trips['tmin'])/2"
   ]
  },
  {
   "cell_type": "code",
   "execution_count": null,
   "id": "cb7f4546",
   "metadata": {},
   "outputs": [],
   "source": [
    "# day_trips['tavg'] = (day_trips['tmax'] + day_trips['tmin'])/2"
   ]
  },
  {
   "cell_type": "code",
   "execution_count": null,
   "id": "67479d73",
   "metadata": {},
   "outputs": [],
   "source": [
    "median_trips = round(citibike.groupby('started_at_date')['trip_duration'].median(), 2) #df that has the date and medians trip duration.\n",
    "day_trips = day_trips.merge(median_trips, left_on = 'date', right_on = 'started_at_date', how = 'left') #merging the df to day_trips.\n",
    "day_trips = day_trips.rename(columns = {'trip_duration' : 'median_trip_duration'}) #changing the name of the column."
   ]
  },
  {
   "cell_type": "code",
   "execution_count": null,
   "id": "6f93a886",
   "metadata": {},
   "outputs": [],
   "source": [
    "mean_trips = round(citibike.groupby('started_at_date')['trip_duration'].mean(), 2)\n",
    "day_trips = day_trips.merge(mean_trips, left_on = 'date', right_on = 'started_at_date', how = 'left') #merging the df to day_trips.\n",
    "day_trips = day_trips.rename(columns = {'trip_duration' : 'mean_trip_duration'}) #changing the name of the column."
   ]
  },
  {
   "cell_type": "code",
   "execution_count": null,
   "id": "d3884969",
   "metadata": {},
   "outputs": [],
   "source": [
    "#Adding a day of the week column.\n",
    "day_trips['day_of_week'] = pd.to_datetime(day_trips['date']).dt.weekday"
   ]
  },
  {
   "cell_type": "code",
   "execution_count": null,
   "id": "67c999c4",
   "metadata": {},
   "outputs": [],
   "source": [
    "day_trips"
   ]
  },
  {
   "cell_type": "code",
   "execution_count": null,
   "id": "8a6cae39",
   "metadata": {},
   "outputs": [],
   "source": [
    "# #saving df to csv\n",
    "# day_trips.to_csv('../data/day_trips_2020')"
   ]
  },
  {
   "cell_type": "markdown",
   "id": "11358f33",
   "metadata": {},
   "source": [
    "***Answering data questions***"
   ]
  },
  {
   "cell_type": "markdown",
   "id": "03a34672",
   "metadata": {},
   "source": [
    "*What time are the bikes most frequently used during the day?*"
   ]
  },
  {
   "cell_type": "code",
   "execution_count": null,
   "id": "768bdcdc",
   "metadata": {},
   "outputs": [],
   "source": [
    "#The hour the most amount of trips occur.\n",
    "def most_hour (df, year):\n",
    "    hour_count = df.groupby('started_at_hour')['started_at_hour'].count().sort_values(ascending=False)\n",
    "    most_popular = hour_count.index[0]\n",
    "    number_of_rides = hour_count.iloc[0]\n",
    "    print(f\"The hour with the most amount of trips in {year} was {most_popular} with {number_of_rides} rides.\")\n",
    "\n",
    "most_hour(citibike, 2020)"
   ]
  },
  {
   "cell_type": "markdown",
   "id": "faf7c07d",
   "metadata": {},
   "source": [
    "*What time are the bikes used the least during the day?*"
   ]
  },
  {
   "cell_type": "code",
   "execution_count": null,
   "id": "003d112a",
   "metadata": {},
   "outputs": [],
   "source": [
    "#The hour the least amount of trips occur.\n",
    "def least_hour (df, year):\n",
    "    hour_count = df.groupby('started_at_hour')['started_at_hour'].count().sort_values(ascending=True)\n",
    "    least_popular = hour_count.index[0]\n",
    "    number_of_rides = hour_count.iloc[0]\n",
    "    print(f\"The hour with the least amount of trips in {year} was {least_popular} with {number_of_rides} rides.\")\n",
    "\n",
    "least_hour(citibike, 2020)"
   ]
  },
  {
   "cell_type": "markdown",
   "id": "56e410ac",
   "metadata": {},
   "source": [
    "*Which stations are the most frequent for starting & ending a trip?*"
   ]
  },
  {
   "cell_type": "code",
   "execution_count": null,
   "id": "c359a0cf",
   "metadata": {},
   "outputs": [],
   "source": [
    "#The station where the most trips begin\n",
    "def popular_starting_station (df, year):\n",
    "    station_count = df.groupby('start_station_name')['start_station_name'].count().sort_values(ascending=False)\n",
    "    most_popular = station_count.index[0]\n",
    "    number_of_rides = station_count.iloc[0]\n",
    "    print(f\"The station where most trips began in {year} was {most_popular} with {number_of_rides} rides.\")\n",
    "\n",
    "popular_starting_station(citibike, 2020)"
   ]
  },
  {
   "cell_type": "code",
   "execution_count": null,
   "id": "c5e5ddb6",
   "metadata": {},
   "outputs": [],
   "source": [
    "#The station where the most trips ended.\n",
    "def popular_ending_station (df, year):\n",
    "    station_count = df.groupby('end_station_name')['end_station_name'].count().sort_values(ascending=False)\n",
    "    most_popular = station_count.index[0]\n",
    "    number_of_rides = station_count.iloc[0]\n",
    "    print(f\"The station where most trips ended in {year} was {most_popular} with {number_of_rides} rides.\")\n",
    "\n",
    "popular_ending_station(citibike, 2020)"
   ]
  },
  {
   "cell_type": "markdown",
   "id": "a3df3d5b",
   "metadata": {},
   "source": [
    "**What is the average trip length? Does it change depending on day or time of day?**"
   ]
  },
  {
   "cell_type": "code",
   "execution_count": null,
   "id": "6cc59a29",
   "metadata": {},
   "outputs": [],
   "source": [
    "#The average bike trip.\n",
    "def avg_bike_trip (df, year):\n",
    "    for column in columns:\n",
    "        avg_trip_len = round(df[column].mean())\n",
    "        print(f\"The average length of a bike trip in {year} is {avg_trip_len} seconds\")\n",
    "        \n",
    "columns = ['trip_duration']\n",
    "avg_bike_trip(citibike, 2020)"
   ]
  },
  {
   "cell_type": "code",
   "execution_count": null,
   "id": "f25c47e3",
   "metadata": {},
   "outputs": [],
   "source": [
    "#The hour with the longest bike trip.\n",
    "def avg_bike_trip_by_hour (df, year):\n",
    "    for column in columns:\n",
    "        avg_trip_len = round(df.groupby('started_at_hour')['trip_duration'].mean().sort_values(ascending = False))\n",
    "        hour_with_longest_trips = avg_trip_len.index[0]\n",
    "        avg_seconds = avg_trip_len.iloc[0]\n",
    "        print(f\"In {year}, the hour that has the longest bike trip on average is hour {hour_with_longest_trips}, which lasts about {avg_seconds} seconds\")\n",
    "        \n",
    "avg_bike_trip_by_hour(citibike, 2020)"
   ]
  },
  {
   "cell_type": "code",
   "execution_count": null,
   "id": "0c4434d3",
   "metadata": {},
   "outputs": [],
   "source": [
    "#The hour with the shortest bike trip.\n",
    "def avg_bike_trip_by_hour_least (df, year):\n",
    "    for column in columns:\n",
    "        avg_trip_len = round(df.groupby('started_at_hour')['trip_duration'].mean().sort_values(ascending = True))\n",
    "        hour_with_shortest_trips = avg_trip_len.index[0]\n",
    "        avg_seconds = avg_trip_len.iloc[0]\n",
    "        print(f\"In {year}, the hour that has the shortest bike trip on average is hour {hour_with_shortest_trips}, which lasts about {avg_seconds} seconds\")\n",
    "        \n",
    "avg_bike_trip_by_hour_least(citibike, 2020)"
   ]
  },
  {
   "cell_type": "code",
   "execution_count": null,
   "id": "36fd15ee",
   "metadata": {},
   "outputs": [],
   "source": [
    "#The day of year with the longest trips.\n",
    "def avg_bike_trip_by_day_of_year (df, year):\n",
    "    for column in columns:\n",
    "        avg_trip_len = round(df.groupby('started_at_day_of_year')['trip_duration'].mean().sort_values(ascending = False))\n",
    "        day_of_year_with_longest_trips = avg_trip_len.index[0]\n",
    "        avg_seconds = avg_trip_len.iloc[0]\n",
    "        print(f\"In {year}, the day of year that has the longest bike trip on average is day {day_of_year_with_longest_trips}, which lasts about {avg_seconds} seconds\")\n",
    "        \n",
    "avg_bike_trip_by_day_of_year(citibike, 2020)"
   ]
  },
  {
   "cell_type": "code",
   "execution_count": null,
   "id": "4607ba68",
   "metadata": {},
   "outputs": [],
   "source": [
    "#The day of year with the shortest trips.\n",
    "def avg_bike_trip_by_day_of_year_shortest (df, year):\n",
    "    for column in columns:\n",
    "        avg_trip_len = round(df.groupby('started_at_day_of_year')['trip_duration'].mean().sort_values(ascending = True))\n",
    "        day_of_year_with_shortest_trips = avg_trip_len.index[0]\n",
    "        avg_seconds = avg_trip_len.iloc[0]\n",
    "        print(f\"In {year}, the day of year that has the shortest bike trip on average is day {day_of_year_with_shortest_trips}, which lasts about {avg_seconds} seconds\")\n",
    "        \n",
    "avg_bike_trip_by_day_of_year_shortest(citibike, 2020)"
   ]
  },
  {
   "cell_type": "code",
   "execution_count": null,
   "id": "1752a39d",
   "metadata": {},
   "outputs": [],
   "source": []
  },
  {
   "cell_type": "code",
   "execution_count": null,
   "id": "4fd0d795",
   "metadata": {},
   "outputs": [],
   "source": []
  },
  {
   "cell_type": "code",
   "execution_count": null,
   "id": "9def618e",
   "metadata": {},
   "outputs": [],
   "source": [
    "citibike"
   ]
  },
  {
   "cell_type": "code",
   "execution_count": null,
   "id": "4c1a77b4",
   "metadata": {
    "scrolled": true
   },
   "outputs": [],
   "source": [
    "weather"
   ]
  },
  {
   "cell_type": "code",
   "execution_count": null,
   "id": "43461b57",
   "metadata": {
    "scrolled": true
   },
   "outputs": [],
   "source": [
    "weather['wsf2'].value_counts()"
   ]
  },
  {
   "cell_type": "code",
   "execution_count": null,
   "id": "8947e6da",
   "metadata": {},
   "outputs": [],
   "source": []
  }
 ],
 "metadata": {
  "kernelspec": {
   "display_name": "Python 3 (ipykernel)",
   "language": "python",
   "name": "python3"
  },
  "language_info": {
   "codemirror_mode": {
    "name": "ipython",
    "version": 3
   },
   "file_extension": ".py",
   "mimetype": "text/x-python",
   "name": "python",
   "nbconvert_exporter": "python",
   "pygments_lexer": "ipython3",
   "version": "3.10.14"
  }
 },
 "nbformat": 4,
 "nbformat_minor": 5
}
