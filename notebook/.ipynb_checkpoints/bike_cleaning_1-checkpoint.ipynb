{
 "cells": [
  {
   "cell_type": "code",
   "execution_count": 1,
   "id": "5c464e2c",
   "metadata": {},
   "outputs": [],
   "source": [
    "import pandas as pd\n",
    "pd.set_option(\"display.max_columns\", 150)\n",
    "import glob\n",
    "from pandas.tseries.holiday import USFederalHolidayCalendar as calendar\n",
    "\n",
    "import numpy as np\n",
    "import matplotlib.pyplot as plt\n",
    "import seaborn as sns"
   ]
  },
  {
   "cell_type": "code",
   "execution_count": null,
   "id": "bb95c5be",
   "metadata": {},
   "outputs": [],
   "source": [
    "chunk_size = 1000\n",
    "\n",
    "# Define file paths\n",
    "csv_files_2019 = glob.glob('../data/2019/*.csv')\n",
    "csv_files_2020 = glob.glob('../data/2020/*.csv')\n",
    "csv_files_2021 = glob.glob('../data/2021/*.csv')\n",
    "\n",
    "# Create empty DataFrames for each year\n",
    "citibike_2019 = pd.DataFrame()\n",
    "citibike_2020 = pd.DataFrame()\n",
    "citibike_2021 = pd.DataFrame()\n",
    "\n",
    "# Import data for 2019 in chunks\n",
    "for csv_file in csv_files_2019:\n",
    "    for chunk in pd.read_csv(csv_file, chunksize=chunk_size, low_memory=False):\n",
    "        citibike_2019 = pd.concat([citibike_2019, chunk])\n",
    "\n",
    "# Import data for 2020 in chunks\n",
    "for csv_file in csv_files_2020:\n",
    "    for chunk in pd.read_csv(csv_file, chunksize=chunk_size, low_memory=False):\n",
    "        citibike_2020 = pd.concat([citibike_2020, chunk])\n",
    "\n",
    "# Import data for 2021 in chunks\n",
    "for csv_file in csv_files_2021:\n",
    "    for chunk in pd.read_csv(csv_file, chunksize=chunk_size, low_memory=False):\n",
    "        citibike_2021 = pd.concat([citibike_2021, chunk])"
   ]
  },
  {
   "cell_type": "code",
   "execution_count": null,
   "id": "be7254b0",
   "metadata": {},
   "outputs": [],
   "source": [
    "#importing all the files and keeping them seperated by year.\n",
    "csv_files = glob.glob('../data/2019/*.csv')\n",
    "csv_files_1 = glob.glob('../data/2020/*.csv')\n",
    "csv_files_2 = glob.glob('../data/2021/*.csv')\n",
    "\n",
    "#Creating the empty dataframes so that the files can be added to.\n",
    "\n",
    "citibike_2019 = pd.DataFrame()\n",
    "citibike_2020 = pd.DataFrame()\n",
    "citibike_2021 = pd.DataFrame()\n",
    "\n",
    "# Iterating over the 2019 files so that they are in a dataframe.\n",
    "for csv_file in csv_files:\n",
    "    df = pd.read_csv(csv_file, low_memory = False)\n",
    "    citibike_2019 = pd.concat([citibike_2019, df])\n",
    "\n",
    "# Iterating over the 2020 files so that they are in a dataframe.\n",
    "for csv_file in csv_files_1:\n",
    "    df = pd.read_csv(csv_file, low_memory = False)\n",
    "    citibike_2020 = pd.concat([citibike_2020, df])\n",
    "\n",
    "# Iterating over the 2021 files so that they are in a dataframe.\n",
    "for csv_file in csv_files_2:\n",
    "    df = pd.read_csv(csv_file, low_memory = False)\n",
    "    citibike_2021 = pd.concat([citibike_2021, df])\n",
    "\n",
    "\n",
    "\n",
    "#importing the weather file.\n",
    "weather = pd.read_csv('../data/USW00094728.csv', low_memory = False)"
   ]
  },
  {
   "cell_type": "code",
   "execution_count": null,
   "id": "81ba63bf",
   "metadata": {},
   "outputs": [],
   "source": [
    "# #Creating the empty dataframes so that the files can be added to.\n",
    "\n",
    "# citibike_2019 = pd.DataFrame()\n",
    "# citibike_2020 = pd.DataFrame()\n",
    "# citibike_2021 = pd.DataFrame()"
   ]
  },
  {
   "cell_type": "code",
   "execution_count": null,
   "id": "ebda7279",
   "metadata": {},
   "outputs": [],
   "source": [
    "# # Iterating over the 2019 files so that they are in a dataframe.\n",
    "# for csv_file in csv_files:\n",
    "#     df = pd.read_csv(csv_file, low_memory = False)\n",
    "#     citibike_2019 = pd.concat([citibike_2019, df])"
   ]
  },
  {
   "cell_type": "code",
   "execution_count": null,
   "id": "cf313b11",
   "metadata": {},
   "outputs": [],
   "source": [
    "# # Iterating over the 2020 files so that they are in a dataframe.\n",
    "# for csv_file in csv_files_1:\n",
    "#     df = pd.read_csv(csv_file, low_memory = False)\n",
    "#     citibike_2020 = pd.concat([citibike_2020, df])"
   ]
  },
  {
   "cell_type": "code",
   "execution_count": null,
   "id": "29009d8d",
   "metadata": {},
   "outputs": [],
   "source": [
    "# # Iterating over the 2021 files so that they are in a dataframe.\n",
    "# for csv_file in csv_files_2:\n",
    "#     df = pd.read_csv(csv_file, low_memory = False)\n",
    "#     citibike_2021 = pd.concat([citibike_2021, df])"
   ]
  },
  {
   "cell_type": "code",
   "execution_count": null,
   "id": "b46fbcf1",
   "metadata": {},
   "outputs": [],
   "source": [
    "print(citibike_2019.shape)\n",
    "print(citibike_2020.shape)\n",
    "print(citibike_2021.shape)\n"
   ]
  },
  {
   "cell_type": "code",
   "execution_count": null,
   "id": "5812dc94",
   "metadata": {},
   "outputs": [],
   "source": [
    "#renaming column to match 2019 & 2020 dfs.\n",
    "citibike_2021 = citibike_2021.rename(columns = {'member_casual':'user_type'}) \n",
    "\n",
    "#removing the columns that were unique to 2021\n",
    "citibike_2021 = citibike_2021.drop(columns = ['ride_id', 'rideable_type', 'starttime', 'stoptime', 'start station id', 'start station name', 'start station latitude', 'start station longitude', 'end station id', 'end station name', 'end station latitude', 'end station longitude','bikeid','usertype','birth year','gender', 'tripduration'])"
   ]
  },
  {
   "cell_type": "code",
   "execution_count": null,
   "id": "4152c3e3",
   "metadata": {
    "scrolled": true
   },
   "outputs": [],
   "source": [
    "#removing spaces out of column names.\n",
    "citibike_2019 = citibike_2019.rename(columns = {'starttime': 'started_at', 'stoptime' : 'ended_at','start station id': 'start_station_id', 'start station name': 'start_station_name', 'start station latitude':'start_lat', 'start station longitude':'start_lng', 'end station id':'end_station_id', 'end station name':'end_station_name', 'end station latitude':'end_lat','end station longitude':'end_lng', 'usertype':'user_type', 'tripduration' : 'trip_duration'})\n",
    "citibike_2020 = citibike_2020.rename(columns = {'starttime': 'started_at', 'stoptime' : 'ended_at','start station id': 'start_station_id', 'start station name': 'start_station_name', 'start station latitude':'start_lat', 'start station longitude':'start_lng', 'end station id':'end_station_id', 'end station name':'end_station_name', 'end station latitude':'end_lat','end station longitude':'end_lng', 'usertype':'user_type', 'tripduration' : 'trip_duration'})\n",
    "\n",
    "#changing the dtype on these columns so that they match with 2019\n",
    "citibike_2020['start_station_id'] = citibike_2020['start_station_id'].astype(float)\n",
    "citibike_2020[ 'end_station_id'] = citibike_2020[ 'end_station_id'].astype(float)\n",
    "\n",
    "#removing columns that are not also available in 2021 df\n",
    "citibike_2019 = citibike_2019.drop(columns = ['birth year', 'gender', 'bikeid'])\n",
    "citibike_2020 = citibike_2020.drop(columns = ['birth year', 'gender', 'bikeid'])"
   ]
  },
  {
   "cell_type": "code",
   "execution_count": null,
   "id": "898386d4",
   "metadata": {},
   "outputs": [],
   "source": [
    "#A function that changed the dtype of these columns to datetime.\n",
    "\n",
    "def convert_datetime(df, columns):\n",
    "    for column in columns:\n",
    "        df[column] = pd.to_datetime(df[column])\n",
    "\n",
    "columns = ['started_at', 'ended_at']\n",
    "\n",
    "convert_datetime(citibike_2019, columns)\n",
    "convert_datetime(citibike_2020, columns)\n",
    "convert_datetime(citibike_2021, columns)"
   ]
  },
  {
   "cell_type": "code",
   "execution_count": null,
   "id": "580ea702",
   "metadata": {},
   "outputs": [],
   "source": [
    "#creating a column in 2021 dataframe that has the trip duration and then turning it into seconds.\n",
    "\n",
    "citibike_2021['trip_duration'] = citibike_2021['ended_at'] - citibike_2021['started_at']\n",
    "citibike_2021['trip_duration'] = citibike_2021['trip_duration'].dt.total_seconds()"
   ]
  },
  {
   "cell_type": "code",
   "execution_count": null,
   "id": "8c1f9615",
   "metadata": {},
   "outputs": [],
   "source": [
    "# A function that will make new columns for the date, time, hour and day of the week each trip began and ended.\n",
    "\n",
    "def datetime_date_time(df, columns):\n",
    "    for column in columns:\n",
    "        df[f'{column}_date'] = pd.to_datetime(df[column]).dt.date\n",
    "        df[f'{column}_time'] = pd.to_datetime(df[column]).dt.time\n",
    "        df[f'{column}_hour'] = pd.to_datetime(df[column]).dt.hour\n",
    "        df[f'{column}_day_of_week'] = pd.to_datetime(df[column]).dt.weekday\n",
    "        df[f'{column}_day_of_year']= pd.to_datetime(df[column]).dt.dayofyear\n",
    "        \n",
    "columns = ['started_at', 'ended_at']\n",
    "\n",
    "datetime_date_time(citibike_2019, columns)\n",
    "datetime_date_time(citibike_2020, columns)\n",
    "datetime_date_time(citibike_2021, columns)"
   ]
  },
  {
   "cell_type": "code",
   "execution_count": null,
   "id": "e244badb",
   "metadata": {},
   "outputs": [],
   "source": [
    "#using the convert_datetime function to convert the date column to a datetime dtype.\n",
    "\n",
    "columns = ['started_at_date', 'ended_at_date']\n",
    "\n",
    "convert_datetime(citibike_2019, columns)\n",
    "convert_datetime(citibike_2020, columns)\n",
    "convert_datetime(citibike_2021, columns)"
   ]
  },
  {
   "cell_type": "code",
   "execution_count": null,
   "id": "9c48dfe7",
   "metadata": {},
   "outputs": [],
   "source": [
    "#A function that will create a column for the month of the trip.\n",
    "\n",
    "def datetime_month(df, columns):\n",
    "    for column in columns:\n",
    "        df[f'{column}_month'] = pd.DatetimeIndex(df[column]).month\n",
    "        \n",
    "columns = ['started_at', 'ended_at']\n",
    "\n",
    "datetime_month(citibike_2019, columns)\n",
    "datetime_month(citibike_2020, columns)\n",
    "datetime_month(citibike_2021, columns)"
   ]
  },
  {
   "cell_type": "markdown",
   "id": "11358f33",
   "metadata": {},
   "source": [
    "***Answering data questions***"
   ]
  },
  {
   "cell_type": "markdown",
   "id": "03a34672",
   "metadata": {},
   "source": [
    "*What time are the bikes most frequently used during the day?*"
   ]
  },
  {
   "cell_type": "code",
   "execution_count": null,
   "id": "768bdcdc",
   "metadata": {},
   "outputs": [],
   "source": [
    "#The hour the most amount of trips occur.\n",
    "def most_hour (df, year):\n",
    "    hour_count = df.groupby('started_at_hour')['started_at_hour'].count().sort_values(ascending=False)\n",
    "    most_popular = hour_count.index[0]\n",
    "    number_of_rides = hour_count.iloc[0]\n",
    "    print(f\"The hour with the most amount of trips in {year} was {most_popular} with {number_of_rides} rides.\")\n",
    "\n",
    "most_hour(citibike_2019, 2019)\n",
    "most_hour(citibike_2020, 2020)\n",
    "most_hour(citibike_2021, 2021)"
   ]
  },
  {
   "cell_type": "markdown",
   "id": "faf7c07d",
   "metadata": {},
   "source": [
    "*What time are the bikes used the least during the day?*"
   ]
  },
  {
   "cell_type": "code",
   "execution_count": null,
   "id": "003d112a",
   "metadata": {},
   "outputs": [],
   "source": [
    "#The hour the least amount of trips occur.\n",
    "def least_hour (df, year):\n",
    "    hour_count = df.groupby('started_at_hour')['started_at_hour'].count().sort_values(ascending=True)\n",
    "    least_popular = hour_count.index[0]\n",
    "    number_of_rides = hour_count.iloc[0]\n",
    "    print(f\"The hour with the least amount of trips in {year} was {least_popular} with {number_of_rides} rides.\")\n",
    "\n",
    "least_hour(citibike_2019, 2019)\n",
    "least_hour(citibike_2020, 2020)\n",
    "least_hour(citibike_2021, 2021)"
   ]
  },
  {
   "cell_type": "markdown",
   "id": "56e410ac",
   "metadata": {},
   "source": [
    "*Which stations are the most frequent for starting & ending a trip?*"
   ]
  },
  {
   "cell_type": "code",
   "execution_count": null,
   "id": "c359a0cf",
   "metadata": {},
   "outputs": [],
   "source": [
    "#The station where the most trips begin\n",
    "def popular_starting_station (df, year):\n",
    "    station_count = df.groupby('start_station_name')['start_station_name'].count().sort_values(ascending=False)\n",
    "    most_popular = station_count.index[0]\n",
    "    number_of_rides = station_count.iloc[0]\n",
    "    print(f\"The station where most trips began in {year} was {most_popular} with {number_of_rides} rides.\")\n",
    "\n",
    "popular_starting_station(citibike_2019, 2019)\n",
    "popular_starting_station(citibike_2020, 2020)\n",
    "popular_starting_station(citibike_2021, 2021)"
   ]
  },
  {
   "cell_type": "code",
   "execution_count": null,
   "id": "c5e5ddb6",
   "metadata": {},
   "outputs": [],
   "source": [
    "#The station where the most trips ended.\n",
    "def popular_ending_station (df, year):\n",
    "    station_count = df.groupby('end_station_name')['end_station_name'].count().sort_values(ascending=False)\n",
    "    most_popular = station_count.index[0]\n",
    "    number_of_rides = station_count.iloc[0]\n",
    "    print(f\"The station where most trips ended in {year} was {most_popular} with {number_of_rides} rides.\")\n",
    "\n",
    "popular_ending_station(citibike_2019, 2019)\n",
    "popular_ending_station(citibike_2020, 2020)\n",
    "popular_ending_station(citibike_2020, 2021)"
   ]
  },
  {
   "cell_type": "markdown",
   "id": "a3df3d5b",
   "metadata": {},
   "source": [
    "**What is the average trip length? Does it change depending on day or time of day?**"
   ]
  },
  {
   "cell_type": "code",
   "execution_count": null,
   "id": "6cc59a29",
   "metadata": {},
   "outputs": [],
   "source": [
    "#The average bike trip.\n",
    "def avg_bike_trip (df, year):\n",
    "    for column in columns:\n",
    "        avg_trip_len = round(df[column].mean())\n",
    "        print(f\"The average length of a bike trip in {year} is {avg_trip_len} seconds\")\n",
    "        \n",
    "columns = ['trip_duration']\n",
    "avg_bike_trip(citibike_2019, 2019)\n",
    "avg_bike_trip(citibike_2020, 2020)\n",
    "avg_bike_trip(citibike_2021, 2021)"
   ]
  },
  {
   "cell_type": "code",
   "execution_count": null,
   "id": "f25c47e3",
   "metadata": {},
   "outputs": [],
   "source": [
    "#The hour with the longest bike trip.\n",
    "def avg_bike_trip_by_hour (df, year):\n",
    "    for column in columns:\n",
    "        avg_trip_len = round(df.groupby('started_at_hour')['trip_duration'].mean().sort_values(ascending = False))\n",
    "        hour_with_longest_trips = avg_trip_len.index[0]\n",
    "        avg_seconds = avg_trip_len.iloc[0]\n",
    "        print(f\"In {year}, the hour that has the longest bike trip on average is hour {hour_with_longest_trips}, which lasts about {avg_seconds} seconds\")\n",
    "        \n",
    "avg_bike_trip_by_hour(citibike_2019, 2019)\n",
    "avg_bike_trip_by_hour(citibike_2020, 2020)\n",
    "avg_bike_trip_by_hour(citibike_2021, 2021)"
   ]
  },
  {
   "cell_type": "code",
   "execution_count": null,
   "id": "0c4434d3",
   "metadata": {},
   "outputs": [],
   "source": [
    "#The hour with the shortest bike trip.\n",
    "def avg_bike_trip_by_hour_least (df, year):\n",
    "    for column in columns:\n",
    "        avg_trip_len = round(df.groupby('started_at_hour')['trip_duration'].mean().sort_values(ascending = True))\n",
    "        hour_with_shortest_trips = avg_trip_len.index[0]\n",
    "        avg_seconds = avg_trip_len.iloc[0]\n",
    "        print(f\"In {year}, the hour that has the shortest bike trip on average is hour {hour_with_shortest_trips}, which lasts about {avg_seconds} seconds\")\n",
    "        \n",
    "avg_bike_trip_by_hour_least(citibike_2019, 2019)\n",
    "avg_bike_trip_by_hour_least(citibike_2020, 2020)\n",
    "avg_bike_trip_by_hour_least(citibike_2021, 2021)"
   ]
  },
  {
   "cell_type": "code",
   "execution_count": null,
   "id": "36fd15ee",
   "metadata": {},
   "outputs": [],
   "source": [
    "#The day of year with the longest trips.\n",
    "def avg_bike_trip_by_day_of_year (df, year):\n",
    "    for column in columns:\n",
    "        avg_trip_len = round(df.groupby('started_at_day_of_year')['trip_duration'].mean().sort_values(ascending = False))\n",
    "        day_of_year_with_longest_trips = avg_trip_len.index[0]\n",
    "        avg_seconds = avg_trip_len.iloc[0]\n",
    "        print(f\"In {year}, the day of year that has the longest bike trip on average is day {day_of_year_with_longest_trips}, which lasts about {avg_seconds} seconds\")\n",
    "        \n",
    "avg_bike_trip_by_day_of_year(citibike_2019, 2019)\n",
    "avg_bike_trip_by_day_of_year(citibike_2020, 2020)\n",
    "avg_bike_trip_by_day_of_year(citibike_2021, 2021)"
   ]
  },
  {
   "cell_type": "code",
   "execution_count": null,
   "id": "4607ba68",
   "metadata": {},
   "outputs": [],
   "source": [
    "#The day of year with the shortest trips.\n",
    "def avg_bike_trip_by_day_of_year_shortest (df, year):\n",
    "    for column in columns:\n",
    "        avg_trip_len = round(df.groupby('started_at_day_of_year')['trip_duration'].mean().sort_values(ascending = True))\n",
    "        day_of_year_with_shortest_trips = avg_trip_len.index[0]\n",
    "        avg_seconds = avg_trip_len.iloc[0]\n",
    "        print(f\"In {year}, the day of year that has the shortest bike trip on average is day {day_of_year_with_shortest_trips}, which lasts about {avg_seconds} seconds\")\n",
    "        \n",
    "avg_bike_trip_by_day_of_year_shortest(citibike_2019, 2019)\n",
    "avg_bike_trip_by_day_of_year_shortest(citibike_2020, 2020)\n",
    "avg_bike_trip_by_day_of_year_shortest(citibike_2021, 2021)"
   ]
  },
  {
   "cell_type": "code",
   "execution_count": null,
   "id": "e0228e35",
   "metadata": {},
   "outputs": [],
   "source": [
    "#https://stackoverflow.com/questions/29688899/pandas-checking-if-a-date-is-a-holiday-and-assigning-boolean-value\n",
    "\n",
    "#A datframe that will define if a date was a holiday.\n",
    "\n",
    "dr = pd.date_range(start='2019-01-01', end='2021-12-31')\n",
    "df = pd.DataFrame()\n",
    "df['date'] = dr\n",
    "\n",
    "cal = calendar()\n",
    "holidays = cal.holidays(start=dr.min(), end=dr.max())\n",
    "\n",
    "df['holiday'] = df['date'].isin(holidays)\n",
    "print(df)"
   ]
  },
  {
   "cell_type": "code",
   "execution_count": null,
   "id": "cdafeed9",
   "metadata": {},
   "outputs": [],
   "source": [
    "#merging the citibike dataframes and the holiday dataframes\n",
    "\n",
    "citibike_2019 = citibike_2019.merge(df, left_on='started_at_date', right_on='date', how='left')\n",
    "citibike_2019 = citibike_2019.drop(columns = ['date'])\n",
    "\n",
    "citibike_2020 = citibike_2020.merge(df, left_on='started_at_date', right_on='date', how='left')\n",
    "citibike_2020 = citibike_2020.drop(columns = ['date'])\n",
    "\n",
    "citibike_2021 = citibike_2021.merge(df, left_on='started_at_date', right_on='date', how='left')\n",
    "citibike_2021 = citibike_2021.drop(columns = ['date'])"
   ]
  },
  {
   "cell_type": "code",
   "execution_count": null,
   "id": "6919798c",
   "metadata": {},
   "outputs": [],
   "source": [
    "# don't run, change the H to h\n",
    "citibike_2020.groupby('started_at_date')['holiday'].count()"
   ]
  },
  {
   "cell_type": "code",
   "execution_count": null,
   "id": "b9cf50c4",
   "metadata": {
    "scrolled": true
   },
   "outputs": [],
   "source": [
    "##The amount of rides that were started on a Holiday.\n",
    "def holiday_rides_count(df):\n",
    "    holiday_rides = df[df['holiday']== True]\n",
    "    holiday_rides_amount = holiday_rides.groupby('started_at_date')['started_at_date'].count().sort_values(ascending = False)\n",
    "    return holiday_rides_amount\n",
    "    \n",
    "holiday_rides_2019 = holiday_rides_count(citibike_2019)\n",
    "holiday_rides_2020 = holiday_rides_count(citibike_2020)\n",
    "holiday_rides_2021 = holiday_rides_count(citibike_2021)\n",
    "\n",
    "print(\"2019 Holiday Rides Count:\")\n",
    "print(holiday_rides_2019)\n",
    "\n",
    "print(\"\\n2020 Holiday Rides Count:\")\n",
    "print(holiday_rides_2020)\n",
    "\n",
    "print(\"\\n2021 Holiday Rides Count:\")\n",
    "print(holiday_rides_2021)"
   ]
  },
  {
   "cell_type": "code",
   "execution_count": null,
   "id": "7e0bbb73",
   "metadata": {
    "scrolled": true
   },
   "outputs": [],
   "source": [
    "holiday_rides_2019.plot.bar();"
   ]
  },
  {
   "cell_type": "code",
   "execution_count": null,
   "id": "1669c505",
   "metadata": {},
   "outputs": [],
   "source": [
    "citibike_2020"
   ]
  },
  {
   "cell_type": "markdown",
   "id": "268ea080",
   "metadata": {},
   "source": [
    "***WEATHER DF***"
   ]
  },
  {
   "cell_type": "code",
   "execution_count": null,
   "id": "c8056119",
   "metadata": {},
   "outputs": [],
   "source": [
    "#changing all the column titles to lowercase.\n",
    "weather.columns = map(str.lower, weather.columns)\n",
    "\n",
    "#changing the DATE column to a datetime datatype.\n",
    "weather['date'] = pd.to_datetime(weather['date'])\n",
    "\n",
    "#choosing the years I want data on.\n",
    "weather = weather[weather['date'].dt.year.isin([2019, 2020, 2021])]\n",
    "\n"
   ]
  },
  {
   "cell_type": "code",
   "execution_count": null,
   "id": "1820f967",
   "metadata": {},
   "outputs": [],
   "source": [
    "#Getting a count of how many nans are in each column.\n",
    "nan_counts = weather.isna().sum()\n",
    "too_many_nans = nan_counts[nan_counts > 500].index #locating the columns that hace more than 500 nans.\n",
    "weather = weather.drop(columns = too_many_nans)# dropping the columns with more than 500 nans."
   ]
  },
  {
   "cell_type": "code",
   "execution_count": null,
   "id": "acbb719b",
   "metadata": {},
   "outputs": [],
   "source": [
    "citibike_2019 = citibike_2019.merge(weather, left_on ='started_at_date', right_on='date', how='left')\n",
    "citibike_2019 = citibike_2019.drop(columns = ['date'])\n",
    "\n",
    "citibike_2020 = citibike_2020.merge(weather, left_on ='started_at_date', right_on='date', how='left')\n",
    "citibike_2020 = citibike_2020.drop(columns = ['date'])\n",
    "\n",
    "citibike_2021 = citibike_2021.merge(weather, left_on ='started_at_date', right_on='date', how='left')\n",
    "citibike_2021 = citibike_2021.drop(columns = ['date'])"
   ]
  },
  {
   "cell_type": "code",
   "execution_count": null,
   "id": "01ed2a28",
   "metadata": {},
   "outputs": [],
   "source": [
    "print(citibike_2019.shape)"
   ]
  },
  {
   "cell_type": "code",
   "execution_count": null,
   "id": "02ad757f",
   "metadata": {},
   "outputs": [],
   "source": []
  },
  {
   "cell_type": "code",
   "execution_count": null,
   "id": "603afec1",
   "metadata": {},
   "outputs": [],
   "source": []
  },
  {
   "cell_type": "code",
   "execution_count": null,
   "id": "a8d76397",
   "metadata": {},
   "outputs": [],
   "source": []
  },
  {
   "cell_type": "code",
   "execution_count": null,
   "id": "7dd62491",
   "metadata": {},
   "outputs": [],
   "source": []
  },
  {
   "cell_type": "code",
   "execution_count": null,
   "id": "a5958e15",
   "metadata": {},
   "outputs": [],
   "source": []
  },
  {
   "cell_type": "code",
   "execution_count": null,
   "id": "8319f456",
   "metadata": {},
   "outputs": [],
   "source": []
  },
  {
   "cell_type": "code",
   "execution_count": null,
   "id": "0a2dfede",
   "metadata": {},
   "outputs": [],
   "source": [
    "# pd.merge(citibike_2019, citibike_2020, on='start_station_id').reset_index()"
   ]
  },
  {
   "cell_type": "code",
   "execution_count": null,
   "id": "8b3219b4",
   "metadata": {},
   "outputs": [],
   "source": [
    "# def datetime_hour(df, columns):\n",
    "#     for column in columns:\n",
    "#         df['hour'] = pd.to_datetime(df[column]).dt.hour\n",
    "# columns = ['started_at', 'ended_at']\n",
    "\n",
    "# datetime_hour(citibike_2019, columns)\n",
    "# datetime_hour(citibike_2020, columns)\n",
    "# datetime_hour(citibike_2021, columns)"
   ]
  },
  {
   "cell_type": "code",
   "execution_count": null,
   "id": "29dc8160",
   "metadata": {},
   "outputs": [],
   "source": [
    "# citibike_2020['start_station_id'] = citibike_2020['start_station_id'].astype(float)\n",
    "# citibike_2020[ 'end_station_id'] = citibike_2020[ 'end_station_id'].astype(float)\n"
   ]
  }
 ],
 "metadata": {
  "kernelspec": {
   "display_name": "Python 3 (ipykernel)",
   "language": "python",
   "name": "python3"
  },
  "language_info": {
   "codemirror_mode": {
    "name": "ipython",
    "version": 3
   },
   "file_extension": ".py",
   "mimetype": "text/x-python",
   "name": "python",
   "nbconvert_exporter": "python",
   "pygments_lexer": "ipython3",
   "version": "3.10.14"
  }
 },
 "nbformat": 4,
 "nbformat_minor": 5
}
