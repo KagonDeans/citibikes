{
 "cells": [
  {
   "cell_type": "code",
   "execution_count": 1,
   "id": "5c464e2c",
   "metadata": {},
   "outputs": [],
   "source": [
    "import pandas as pd\n",
    "pd.set_option(\"display.max_columns\", 150)\n",
    "import sqlite3\n",
    "import glob\n",
    "from pandas.tseries.holiday import USFederalHolidayCalendar as calendar\n",
    "\n",
    "import numpy as np\n",
    "import matplotlib.pyplot as plt\n",
    "import seaborn as sns"
   ]
  },
  {
   "cell_type": "code",
   "execution_count": 2,
   "id": "36e01b5f",
   "metadata": {},
   "outputs": [],
   "source": [
    "#importing all the files.\n",
    "csv_files = glob.glob('../data/2020/*.csv')\n",
    "\n",
    "#Creating the empty dataframes so that the files can be added to.\n",
    "\n",
    "citibike = pd.DataFrame()\n",
    "\n",
    "\n",
    "# Iterating over the 2020 files so that they are in a dataframe.\n",
    "for csv_file in csv_files:\n",
    "    df = pd.read_csv(csv_file, low_memory = False)\n",
    "    citibike = pd.concat([citibike, df])\n"
   ]
  },
  {
   "cell_type": "code",
   "execution_count": 3,
   "id": "4152c3e3",
   "metadata": {
    "scrolled": true
   },
   "outputs": [],
   "source": [
    "#removing spaces out of column names.\n",
    "citibike = citibike.rename(columns = {'starttime': 'started_at', 'stoptime' : 'ended_at','start station id': 'start_station_id', 'start station name': 'start_station_name', 'start station latitude':'start_lat', 'start station longitude':'start_lng', 'end station id':'end_station_id', 'end station name':'end_station_name', 'end station latitude':'end_lat','end station longitude':'end_lng', 'usertype':'user_type', 'tripduration' : 'trip_duration'})\n",
    "\n",
    "#removing columns that are not also available in 2021 df\n",
    "citibike = citibike.drop(columns = ['birth year', 'gender', 'bikeid'])"
   ]
  },
  {
   "cell_type": "code",
   "execution_count": 4,
   "id": "898386d4",
   "metadata": {},
   "outputs": [],
   "source": [
    "#A function that changed the dtype of these columns to datetime.\n",
    "\n",
    "def convert_datetime(df, columns):\n",
    "    for column in columns:\n",
    "        df[column] = pd.to_datetime(df[column])\n",
    "\n",
    "columns = ['started_at', 'ended_at']\n",
    "\n",
    "convert_datetime(citibike, columns)"
   ]
  },
  {
   "cell_type": "code",
   "execution_count": 5,
   "id": "8c1f9615",
   "metadata": {},
   "outputs": [],
   "source": [
    "# A function that will make new columns for the date, time, hour and day of the week each trip began and ended.\n",
    "\n",
    "def datetime_date_time(df, columns):\n",
    "    for column in columns:\n",
    "        df[f'{column}_date'] = pd.to_datetime(df[column]).dt.date\n",
    "        df[f'{column}_time'] = pd.to_datetime(df[column]).dt.time\n",
    "        df[f'{column}_hour'] = pd.to_datetime(df[column]).dt.hour\n",
    "        df[f'{column}_day_of_week'] = pd.to_datetime(df[column]).dt.weekday\n",
    "        df[f'{column}_day_of_year']= pd.to_datetime(df[column]).dt.dayofyear\n",
    "        \n",
    "columns = ['started_at', 'ended_at']\n",
    "\n",
    "datetime_date_time(citibike, columns)"
   ]
  },
  {
   "cell_type": "code",
   "execution_count": 6,
   "id": "e244badb",
   "metadata": {},
   "outputs": [],
   "source": [
    "#using the convert_datetime function to convert the date column to a datetime dtype.\n",
    "\n",
    "columns = ['started_at_date', 'ended_at_date']\n",
    "\n",
    "convert_datetime(citibike, columns)"
   ]
  },
  {
   "cell_type": "code",
   "execution_count": 7,
   "id": "9c48dfe7",
   "metadata": {},
   "outputs": [],
   "source": [
    "#A function that will create a column for the month of the trip.\n",
    "\n",
    "def datetime_month(df, columns):\n",
    "    for column in columns:\n",
    "        df[f'{column}_month'] = pd.DatetimeIndex(df[column]).month\n",
    "        \n",
    "columns = ['started_at', 'ended_at']\n",
    "\n",
    "datetime_month(citibike, columns)"
   ]
  },
  {
   "cell_type": "code",
   "execution_count": 8,
   "id": "280c0f7a",
   "metadata": {},
   "outputs": [],
   "source": [
    "#https://stackoverflow.com/questions/29688899/pandas-checking-if-a-date-is-a-holiday-and-assigning-boolean-value\n",
    "\n",
    "#A datframe that will define if a date was a holiday.\n",
    "\n",
    "dr = pd.date_range(start='2020-01-01', end='2020-12-31')\n",
    "df = pd.DataFrame()\n",
    "df['date'] = dr\n",
    "\n",
    "cal = calendar()\n",
    "holidays = cal.holidays(start=dr.min(), end=dr.max())\n",
    "\n",
    "df['holiday'] = df['date'].isin(holidays)\n"
   ]
  },
  {
   "cell_type": "markdown",
   "id": "5febb3fb",
   "metadata": {},
   "source": [
    "**Using the weather**"
   ]
  },
  {
   "cell_type": "code",
   "execution_count": 9,
   "id": "6cf2b9ac",
   "metadata": {},
   "outputs": [],
   "source": [
    "#importing the weather file.\n",
    "cols = ['PRCP', 'SNOW', 'TMAX', 'TMIN', 'DATE', 'RHAV', 'AWND', 'RHMN', 'RHMX']\n",
    "weather = pd.read_csv('../data/USW00094728.csv', usecols = cols, low_memory = False)"
   ]
  },
  {
   "cell_type": "code",
   "execution_count": 10,
   "id": "ef324a44",
   "metadata": {},
   "outputs": [],
   "source": [
    "#changing all the column titles to lowercase.\n",
    "weather.columns = map(str.lower, weather.columns)\n",
    "\n",
    "#changing the DATE column to a datetime datatype.\n",
    "weather['date'] = pd.to_datetime(weather['date'])\n",
    "\n",
    "#choosing the years I want data in.\n",
    "weather = weather[weather['date'].dt.year.isin([2020])].reset_index(drop = True)"
   ]
  },
  {
   "cell_type": "code",
   "execution_count": 11,
   "id": "92e63b58",
   "metadata": {},
   "outputs": [],
   "source": [
    "day_trips = citibike.groupby('started_at_date').size().reset_index(name = 'num_of_trips')\n",
    "day_trips = day_trips.rename(columns = {'started_at_date' : 'date'})"
   ]
  },
  {
   "cell_type": "code",
   "execution_count": 12,
   "id": "ed3cd454",
   "metadata": {},
   "outputs": [],
   "source": [
    "day_trips = day_trips.merge(df, left_on = 'date', right_on = 'date', how = 'left')\n",
    "day_trips = day_trips.merge(weather, left_on = 'date', right_on = 'date', how = 'left')"
   ]
  },
  {
   "cell_type": "code",
   "execution_count": 13,
   "id": "d0b9c538",
   "metadata": {},
   "outputs": [],
   "source": [
    "#Changing the temperature to fahrenheit.\n",
    "#the original temperature was the celsius temp x 10. \n",
    "def to_fahrenheit(df, columns):\n",
    "    for column in columns:\n",
    "        df[f'{column}_fahrenheit'] = (df[column]/10)*(9/5)+32\n",
    "columns = ['tmax', 'tmin']\n",
    "\n",
    "to_fahrenheit(day_trips, columns)"
   ]
  },
  {
   "cell_type": "code",
   "execution_count": 14,
   "id": "ab7244ba",
   "metadata": {},
   "outputs": [],
   "source": [
    "#Droping the original temp columns and renaming the farenheit temp columns.\n",
    "\n",
    "day_trips = day_trips.drop(columns = ['tmax','tmin'])\n",
    "day_trips = day_trips.rename(columns = {'tmax_fahrenheit' : 'tmax', 'tmin_fahrenheit' : 'tmin'})\n",
    "\n",
    "day_trips['tavg'] = (day_trips['tmax'] + day_trips['tmin'])/2"
   ]
  },
  {
   "cell_type": "code",
   "execution_count": 18,
   "id": "cb7f4546",
   "metadata": {},
   "outputs": [],
   "source": [
    "# day_trips['tavg'] = (day_trips['tmax'] + day_trips['tmin'])/2"
   ]
  },
  {
   "cell_type": "code",
   "execution_count": 19,
   "id": "67479d73",
   "metadata": {},
   "outputs": [],
   "source": [
    "median_trips = round(citibike.groupby('started_at_date')['trip_duration'].median(), 2) #df that has the date and medians trip duration.\n",
    "day_trips = day_trips.merge(median_trips, left_on = 'date', right_on = 'started_at_date', how = 'left') #merging the df to day_trips.\n",
    "day_trips = day_trips.rename(columns = {'trip_duration' : 'median_trip_duration'}) #changing the name of the column."
   ]
  },
  {
   "cell_type": "code",
   "execution_count": 20,
   "id": "6f93a886",
   "metadata": {},
   "outputs": [],
   "source": [
    "mean_trips = round(citibike.groupby('started_at_date')['trip_duration'].mean(), 2)\n",
    "day_trips = day_trips.merge(mean_trips, left_on = 'date', right_on = 'started_at_date', how = 'left') #merging the df to day_trips.\n",
    "day_trips = day_trips.rename(columns = {'trip_duration' : 'mean_trip_duration'}) #changing the name of the column."
   ]
  },
  {
   "cell_type": "code",
   "execution_count": 21,
   "id": "d3884969",
   "metadata": {},
   "outputs": [],
   "source": [
    "#Adding a day of the week column.\n",
    "day_trips['day_of_week'] = pd.to_datetime(day_trips['date']).dt.weekday"
   ]
  },
  {
   "cell_type": "code",
   "execution_count": 22,
   "id": "67c999c4",
   "metadata": {},
   "outputs": [
    {
     "data": {
      "text/html": [
       "<div>\n",
       "<style scoped>\n",
       "    .dataframe tbody tr th:only-of-type {\n",
       "        vertical-align: middle;\n",
       "    }\n",
       "\n",
       "    .dataframe tbody tr th {\n",
       "        vertical-align: top;\n",
       "    }\n",
       "\n",
       "    .dataframe thead th {\n",
       "        text-align: right;\n",
       "    }\n",
       "</style>\n",
       "<table border=\"1\" class=\"dataframe\">\n",
       "  <thead>\n",
       "    <tr style=\"text-align: right;\">\n",
       "      <th></th>\n",
       "      <th>date</th>\n",
       "      <th>num_of_trips</th>\n",
       "      <th>holiday</th>\n",
       "      <th>prcp</th>\n",
       "      <th>snow</th>\n",
       "      <th>awnd</th>\n",
       "      <th>rhav</th>\n",
       "      <th>rhmn</th>\n",
       "      <th>rhmx</th>\n",
       "      <th>tmax</th>\n",
       "      <th>tmin</th>\n",
       "      <th>tavg</th>\n",
       "      <th>median_trip_duration</th>\n",
       "      <th>mean_trip_duration</th>\n",
       "      <th>day_of_week</th>\n",
       "    </tr>\n",
       "  </thead>\n",
       "  <tbody>\n",
       "    <tr>\n",
       "      <th>0</th>\n",
       "      <td>2020-01-01</td>\n",
       "      <td>18114</td>\n",
       "      <td>True</td>\n",
       "      <td>0</td>\n",
       "      <td>0.0</td>\n",
       "      <td>38.0</td>\n",
       "      <td>52.0</td>\n",
       "      <td>43.0</td>\n",
       "      <td>62.0</td>\n",
       "      <td>41.00</td>\n",
       "      <td>33.98</td>\n",
       "      <td>37.49</td>\n",
       "      <td>540.0</td>\n",
       "      <td>967.89</td>\n",
       "      <td>2</td>\n",
       "    </tr>\n",
       "    <tr>\n",
       "      <th>1</th>\n",
       "      <td>2020-01-02</td>\n",
       "      <td>41556</td>\n",
       "      <td>False</td>\n",
       "      <td>0</td>\n",
       "      <td>0.0</td>\n",
       "      <td>24.0</td>\n",
       "      <td>52.0</td>\n",
       "      <td>38.0</td>\n",
       "      <td>59.0</td>\n",
       "      <td>48.92</td>\n",
       "      <td>33.08</td>\n",
       "      <td>41.00</td>\n",
       "      <td>549.0</td>\n",
       "      <td>840.76</td>\n",
       "      <td>3</td>\n",
       "    </tr>\n",
       "    <tr>\n",
       "      <th>2</th>\n",
       "      <td>2020-01-03</td>\n",
       "      <td>31873</td>\n",
       "      <td>False</td>\n",
       "      <td>38</td>\n",
       "      <td>0.0</td>\n",
       "      <td>15.0</td>\n",
       "      <td>82.0</td>\n",
       "      <td>58.0</td>\n",
       "      <td>93.0</td>\n",
       "      <td>48.92</td>\n",
       "      <td>44.06</td>\n",
       "      <td>46.49</td>\n",
       "      <td>524.0</td>\n",
       "      <td>783.97</td>\n",
       "      <td>4</td>\n",
       "    </tr>\n",
       "    <tr>\n",
       "      <th>3</th>\n",
       "      <td>2020-01-04</td>\n",
       "      <td>29436</td>\n",
       "      <td>False</td>\n",
       "      <td>69</td>\n",
       "      <td>0.0</td>\n",
       "      <td>20.0</td>\n",
       "      <td>90.0</td>\n",
       "      <td>73.0</td>\n",
       "      <td>97.0</td>\n",
       "      <td>51.08</td>\n",
       "      <td>41.00</td>\n",
       "      <td>46.04</td>\n",
       "      <td>529.0</td>\n",
       "      <td>860.10</td>\n",
       "      <td>5</td>\n",
       "    </tr>\n",
       "    <tr>\n",
       "      <th>4</th>\n",
       "      <td>2020-01-05</td>\n",
       "      <td>27589</td>\n",
       "      <td>False</td>\n",
       "      <td>0</td>\n",
       "      <td>0.0</td>\n",
       "      <td>51.0</td>\n",
       "      <td>48.0</td>\n",
       "      <td>39.0</td>\n",
       "      <td>63.0</td>\n",
       "      <td>42.08</td>\n",
       "      <td>35.06</td>\n",
       "      <td>38.57</td>\n",
       "      <td>503.0</td>\n",
       "      <td>821.79</td>\n",
       "      <td>6</td>\n",
       "    </tr>\n",
       "    <tr>\n",
       "      <th>...</th>\n",
       "      <td>...</td>\n",
       "      <td>...</td>\n",
       "      <td>...</td>\n",
       "      <td>...</td>\n",
       "      <td>...</td>\n",
       "      <td>...</td>\n",
       "      <td>...</td>\n",
       "      <td>...</td>\n",
       "      <td>...</td>\n",
       "      <td>...</td>\n",
       "      <td>...</td>\n",
       "      <td>...</td>\n",
       "      <td>...</td>\n",
       "      <td>...</td>\n",
       "      <td>...</td>\n",
       "    </tr>\n",
       "    <tr>\n",
       "      <th>361</th>\n",
       "      <td>2020-12-27</td>\n",
       "      <td>23764</td>\n",
       "      <td>False</td>\n",
       "      <td>0</td>\n",
       "      <td>0.0</td>\n",
       "      <td>18.0</td>\n",
       "      <td>54.0</td>\n",
       "      <td>41.0</td>\n",
       "      <td>65.0</td>\n",
       "      <td>37.04</td>\n",
       "      <td>24.26</td>\n",
       "      <td>30.65</td>\n",
       "      <td>641.0</td>\n",
       "      <td>1106.73</td>\n",
       "      <td>6</td>\n",
       "    </tr>\n",
       "    <tr>\n",
       "      <th>362</th>\n",
       "      <td>2020-12-28</td>\n",
       "      <td>38784</td>\n",
       "      <td>False</td>\n",
       "      <td>0</td>\n",
       "      <td>0.0</td>\n",
       "      <td>24.0</td>\n",
       "      <td>59.0</td>\n",
       "      <td>50.0</td>\n",
       "      <td>76.0</td>\n",
       "      <td>50.00</td>\n",
       "      <td>35.06</td>\n",
       "      <td>42.53</td>\n",
       "      <td>635.0</td>\n",
       "      <td>991.54</td>\n",
       "      <td>0</td>\n",
       "    </tr>\n",
       "    <tr>\n",
       "      <th>363</th>\n",
       "      <td>2020-12-29</td>\n",
       "      <td>33202</td>\n",
       "      <td>False</td>\n",
       "      <td>0</td>\n",
       "      <td>0.0</td>\n",
       "      <td>40.0</td>\n",
       "      <td>41.0</td>\n",
       "      <td>31.0</td>\n",
       "      <td>52.0</td>\n",
       "      <td>42.98</td>\n",
       "      <td>30.20</td>\n",
       "      <td>36.59</td>\n",
       "      <td>584.0</td>\n",
       "      <td>909.64</td>\n",
       "      <td>1</td>\n",
       "    </tr>\n",
       "    <tr>\n",
       "      <th>364</th>\n",
       "      <td>2020-12-30</td>\n",
       "      <td>35705</td>\n",
       "      <td>False</td>\n",
       "      <td>0</td>\n",
       "      <td>0.0</td>\n",
       "      <td>23.0</td>\n",
       "      <td>50.0</td>\n",
       "      <td>37.0</td>\n",
       "      <td>58.0</td>\n",
       "      <td>42.98</td>\n",
       "      <td>28.22</td>\n",
       "      <td>35.60</td>\n",
       "      <td>595.0</td>\n",
       "      <td>902.98</td>\n",
       "      <td>2</td>\n",
       "    </tr>\n",
       "    <tr>\n",
       "      <th>365</th>\n",
       "      <td>2020-12-31</td>\n",
       "      <td>26334</td>\n",
       "      <td>False</td>\n",
       "      <td>122</td>\n",
       "      <td>0.0</td>\n",
       "      <td>23.0</td>\n",
       "      <td>69.0</td>\n",
       "      <td>55.0</td>\n",
       "      <td>93.0</td>\n",
       "      <td>48.02</td>\n",
       "      <td>35.96</td>\n",
       "      <td>41.99</td>\n",
       "      <td>586.0</td>\n",
       "      <td>980.61</td>\n",
       "      <td>3</td>\n",
       "    </tr>\n",
       "  </tbody>\n",
       "</table>\n",
       "<p>366 rows × 15 columns</p>\n",
       "</div>"
      ],
      "text/plain": [
       "          date  num_of_trips  holiday  prcp  snow  awnd  rhav  rhmn  rhmx  \\\n",
       "0   2020-01-01         18114     True     0   0.0  38.0  52.0  43.0  62.0   \n",
       "1   2020-01-02         41556    False     0   0.0  24.0  52.0  38.0  59.0   \n",
       "2   2020-01-03         31873    False    38   0.0  15.0  82.0  58.0  93.0   \n",
       "3   2020-01-04         29436    False    69   0.0  20.0  90.0  73.0  97.0   \n",
       "4   2020-01-05         27589    False     0   0.0  51.0  48.0  39.0  63.0   \n",
       "..         ...           ...      ...   ...   ...   ...   ...   ...   ...   \n",
       "361 2020-12-27         23764    False     0   0.0  18.0  54.0  41.0  65.0   \n",
       "362 2020-12-28         38784    False     0   0.0  24.0  59.0  50.0  76.0   \n",
       "363 2020-12-29         33202    False     0   0.0  40.0  41.0  31.0  52.0   \n",
       "364 2020-12-30         35705    False     0   0.0  23.0  50.0  37.0  58.0   \n",
       "365 2020-12-31         26334    False   122   0.0  23.0  69.0  55.0  93.0   \n",
       "\n",
       "      tmax   tmin   tavg  median_trip_duration  mean_trip_duration  \\\n",
       "0    41.00  33.98  37.49                 540.0              967.89   \n",
       "1    48.92  33.08  41.00                 549.0              840.76   \n",
       "2    48.92  44.06  46.49                 524.0              783.97   \n",
       "3    51.08  41.00  46.04                 529.0              860.10   \n",
       "4    42.08  35.06  38.57                 503.0              821.79   \n",
       "..     ...    ...    ...                   ...                 ...   \n",
       "361  37.04  24.26  30.65                 641.0             1106.73   \n",
       "362  50.00  35.06  42.53                 635.0              991.54   \n",
       "363  42.98  30.20  36.59                 584.0              909.64   \n",
       "364  42.98  28.22  35.60                 595.0              902.98   \n",
       "365  48.02  35.96  41.99                 586.0              980.61   \n",
       "\n",
       "     day_of_week  \n",
       "0              2  \n",
       "1              3  \n",
       "2              4  \n",
       "3              5  \n",
       "4              6  \n",
       "..           ...  \n",
       "361            6  \n",
       "362            0  \n",
       "363            1  \n",
       "364            2  \n",
       "365            3  \n",
       "\n",
       "[366 rows x 15 columns]"
      ]
     },
     "execution_count": 22,
     "metadata": {},
     "output_type": "execute_result"
    }
   ],
   "source": [
    "day_trips"
   ]
  },
  {
   "cell_type": "code",
   "execution_count": 23,
   "id": "8a6cae39",
   "metadata": {},
   "outputs": [],
   "source": [
    "# #saving df to csv\n",
    "# day_trips.to_csv('../data/day_trips_2020')"
   ]
  },
  {
   "cell_type": "markdown",
   "id": "11358f33",
   "metadata": {},
   "source": [
    "***Answering data questions***"
   ]
  },
  {
   "cell_type": "markdown",
   "id": "03a34672",
   "metadata": {},
   "source": [
    "*What time are the bikes most frequently used during the day?*"
   ]
  },
  {
   "cell_type": "code",
   "execution_count": null,
   "id": "768bdcdc",
   "metadata": {},
   "outputs": [],
   "source": [
    "#The hour the most amount of trips occur.\n",
    "def most_hour (df, year):\n",
    "    hour_count = df.groupby('started_at_hour')['started_at_hour'].count().sort_values(ascending=False)\n",
    "    most_popular = hour_count.index[0]\n",
    "    number_of_rides = hour_count.iloc[0]\n",
    "    print(f\"The hour with the most amount of trips in {year} was {most_popular} with {number_of_rides} rides.\")\n",
    "\n",
    "most_hour(citibike, 2020)"
   ]
  },
  {
   "cell_type": "markdown",
   "id": "faf7c07d",
   "metadata": {},
   "source": [
    "*What time are the bikes used the least during the day?*"
   ]
  },
  {
   "cell_type": "code",
   "execution_count": null,
   "id": "003d112a",
   "metadata": {},
   "outputs": [],
   "source": [
    "#The hour the least amount of trips occur.\n",
    "def least_hour (df, year):\n",
    "    hour_count = df.groupby('started_at_hour')['started_at_hour'].count().sort_values(ascending=True)\n",
    "    least_popular = hour_count.index[0]\n",
    "    number_of_rides = hour_count.iloc[0]\n",
    "    print(f\"The hour with the least amount of trips in {year} was {least_popular} with {number_of_rides} rides.\")\n",
    "\n",
    "least_hour(citibike, 2020)"
   ]
  },
  {
   "cell_type": "markdown",
   "id": "56e410ac",
   "metadata": {},
   "source": [
    "*Which stations are the most frequent for starting & ending a trip?*"
   ]
  },
  {
   "cell_type": "code",
   "execution_count": null,
   "id": "c359a0cf",
   "metadata": {},
   "outputs": [],
   "source": [
    "#The station where the most trips begin\n",
    "def popular_starting_station (df, year):\n",
    "    station_count = df.groupby('start_station_name')['start_station_name'].count().sort_values(ascending=False)\n",
    "    most_popular = station_count.index[0]\n",
    "    number_of_rides = station_count.iloc[0]\n",
    "    print(f\"The station where most trips began in {year} was {most_popular} with {number_of_rides} rides.\")\n",
    "\n",
    "popular_starting_station(citibike, 2020)"
   ]
  },
  {
   "cell_type": "code",
   "execution_count": null,
   "id": "c5e5ddb6",
   "metadata": {},
   "outputs": [],
   "source": [
    "#The station where the most trips ended.\n",
    "def popular_ending_station (df, year):\n",
    "    station_count = df.groupby('end_station_name')['end_station_name'].count().sort_values(ascending=False)\n",
    "    most_popular = station_count.index[0]\n",
    "    number_of_rides = station_count.iloc[0]\n",
    "    print(f\"The station where most trips ended in {year} was {most_popular} with {number_of_rides} rides.\")\n",
    "\n",
    "popular_ending_station(citibike, 2020)"
   ]
  },
  {
   "cell_type": "markdown",
   "id": "a3df3d5b",
   "metadata": {},
   "source": [
    "**What is the average trip length? Does it change depending on day or time of day?**"
   ]
  },
  {
   "cell_type": "code",
   "execution_count": null,
   "id": "6cc59a29",
   "metadata": {},
   "outputs": [],
   "source": [
    "#The average bike trip.\n",
    "def avg_bike_trip (df, year):\n",
    "    for column in columns:\n",
    "        avg_trip_len = round(df[column].mean())\n",
    "        print(f\"The average length of a bike trip in {year} is {avg_trip_len} seconds\")\n",
    "        \n",
    "columns = ['trip_duration']\n",
    "avg_bike_trip(citibike, 2020)"
   ]
  },
  {
   "cell_type": "code",
   "execution_count": null,
   "id": "f25c47e3",
   "metadata": {},
   "outputs": [],
   "source": [
    "#The hour with the longest bike trip.\n",
    "def avg_bike_trip_by_hour (df, year):\n",
    "    for column in columns:\n",
    "        avg_trip_len = round(df.groupby('started_at_hour')['trip_duration'].mean().sort_values(ascending = False))\n",
    "        hour_with_longest_trips = avg_trip_len.index[0]\n",
    "        avg_seconds = avg_trip_len.iloc[0]\n",
    "        print(f\"In {year}, the hour that has the longest bike trip on average is hour {hour_with_longest_trips}, which lasts about {avg_seconds} seconds\")\n",
    "        \n",
    "avg_bike_trip_by_hour(citibike, 2020)"
   ]
  },
  {
   "cell_type": "code",
   "execution_count": null,
   "id": "0c4434d3",
   "metadata": {},
   "outputs": [],
   "source": [
    "#The hour with the shortest bike trip.\n",
    "def avg_bike_trip_by_hour_least (df, year):\n",
    "    for column in columns:\n",
    "        avg_trip_len = round(df.groupby('started_at_hour')['trip_duration'].mean().sort_values(ascending = True))\n",
    "        hour_with_shortest_trips = avg_trip_len.index[0]\n",
    "        avg_seconds = avg_trip_len.iloc[0]\n",
    "        print(f\"In {year}, the hour that has the shortest bike trip on average is hour {hour_with_shortest_trips}, which lasts about {avg_seconds} seconds\")\n",
    "        \n",
    "avg_bike_trip_by_hour_least(citibike, 2020)"
   ]
  },
  {
   "cell_type": "code",
   "execution_count": null,
   "id": "36fd15ee",
   "metadata": {},
   "outputs": [],
   "source": [
    "#The day of year with the longest trips.\n",
    "def avg_bike_trip_by_day_of_year (df, year):\n",
    "    for column in columns:\n",
    "        avg_trip_len = round(df.groupby('started_at_day_of_year')['trip_duration'].mean().sort_values(ascending = False))\n",
    "        day_of_year_with_longest_trips = avg_trip_len.index[0]\n",
    "        avg_seconds = avg_trip_len.iloc[0]\n",
    "        print(f\"In {year}, the day of year that has the longest bike trip on average is day {day_of_year_with_longest_trips}, which lasts about {avg_seconds} seconds\")\n",
    "        \n",
    "avg_bike_trip_by_day_of_year(citibike, 2020)"
   ]
  },
  {
   "cell_type": "code",
   "execution_count": null,
   "id": "4607ba68",
   "metadata": {},
   "outputs": [],
   "source": [
    "#The day of year with the shortest trips.\n",
    "def avg_bike_trip_by_day_of_year_shortest (df, year):\n",
    "    for column in columns:\n",
    "        avg_trip_len = round(df.groupby('started_at_day_of_year')['trip_duration'].mean().sort_values(ascending = True))\n",
    "        day_of_year_with_shortest_trips = avg_trip_len.index[0]\n",
    "        avg_seconds = avg_trip_len.iloc[0]\n",
    "        print(f\"In {year}, the day of year that has the shortest bike trip on average is day {day_of_year_with_shortest_trips}, which lasts about {avg_seconds} seconds\")\n",
    "        \n",
    "avg_bike_trip_by_day_of_year_shortest(citibike, 2020)"
   ]
  },
  {
   "cell_type": "code",
   "execution_count": null,
   "id": "1752a39d",
   "metadata": {},
   "outputs": [],
   "source": []
  },
  {
   "cell_type": "code",
   "execution_count": null,
   "id": "4fd0d795",
   "metadata": {},
   "outputs": [],
   "source": []
  },
  {
   "cell_type": "code",
   "execution_count": null,
   "id": "9def618e",
   "metadata": {},
   "outputs": [],
   "source": [
    "citibike"
   ]
  },
  {
   "cell_type": "code",
   "execution_count": null,
   "id": "4c1a77b4",
   "metadata": {
    "scrolled": true
   },
   "outputs": [],
   "source": [
    "weather"
   ]
  },
  {
   "cell_type": "code",
   "execution_count": null,
   "id": "43461b57",
   "metadata": {
    "scrolled": true
   },
   "outputs": [],
   "source": [
    "weather['wsf2'].value_counts()"
   ]
  },
  {
   "cell_type": "code",
   "execution_count": null,
   "id": "8947e6da",
   "metadata": {},
   "outputs": [],
   "source": []
  }
 ],
 "metadata": {
  "kernelspec": {
   "display_name": "Python 3 (ipykernel)",
   "language": "python",
   "name": "python3"
  },
  "language_info": {
   "codemirror_mode": {
    "name": "ipython",
    "version": 3
   },
   "file_extension": ".py",
   "mimetype": "text/x-python",
   "name": "python",
   "nbconvert_exporter": "python",
   "pygments_lexer": "ipython3",
   "version": "3.10.14"
  }
 },
 "nbformat": 4,
 "nbformat_minor": 5
}
