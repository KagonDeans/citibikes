{
 "cells": [
  {
   "cell_type": "code",
   "execution_count": 1,
   "id": "a83e9d63",
   "metadata": {},
   "outputs": [],
   "source": [
    "import pandas as pd\n",
    "pd.set_option(\"display.max_columns\", 150)\n",
    "import glob\n",
    "from pandas.tseries.holiday import USFederalHolidayCalendar as calendar\n",
    "\n",
    "import numpy as np\n",
    "import matplotlib.pyplot as plt\n",
    "import seaborn as sns\n",
    "\n",
    "import statsmodels.api as sm\n",
    "import statsmodels.formula.api as smf\n",
    "\n",
    "from sklearn.model_selection import train_test_split\n",
    "from sklearn.metrics import mean_squared_error"
   ]
  },
  {
   "cell_type": "code",
   "execution_count": 2,
   "id": "90351fa5",
   "metadata": {},
   "outputs": [],
   "source": [
    "#importing the data\n",
    "csv_files = glob.glob('../data/trips2/*.csv')\n",
    "\n",
    "\n",
    "dataframes = []\n",
    "\n",
    "\n",
    "for csv_file in csv_files:\n",
    "    df = pd.read_csv(csv_file, low_memory=False)\n",
    "    dataframes.append(df)\n",
    "\n",
    "citibike = pd.concat(dataframes, ignore_index=True)\n",
    "\n",
    "\n",
    "citibike  = citibike.drop(columns = 'Unnamed: 0') #dropping extra column\n",
    "citibike = citibike.sort_values('date').reset_index(drop = True) #sorting the values by date and resetting index."
   ]
  },
  {
   "cell_type": "code",
   "execution_count": 3,
   "id": "cbeca44a",
   "metadata": {},
   "outputs": [],
   "source": [
    "#changing columns to datetime.\n",
    "citibike['date'] = pd.to_datetime(citibike['date'])\n",
    "citibike['year'] = pd.to_datetime(citibike['date']).dt.year\n",
    "citibike['month'] = pd.to_datetime(citibike['date']).dt.month\n",
    "citibike['day_of_week'] = citibike['day_of_week'].astype(str) #changing the day of week column to string.\n",
    "citibike['is_snow'] = citibike['snow'] != 0\n",
    "citibike['did_rain'] = citibike['prcp'] != 0"
   ]
  },
  {
   "cell_type": "code",
   "execution_count": 4,
   "id": "8e0dd37e",
   "metadata": {},
   "outputs": [],
   "source": [
    "#creating a column that has the seasons.\n",
    "def get_season(date):\n",
    "    month = date.month\n",
    "    if month in [12, 1, 2]:\n",
    "        return 'Winter'\n",
    "    elif month in [3, 4, 5]:\n",
    "        return 'Spring'\n",
    "    elif month in [6, 7, 8]:\n",
    "        return 'Summer'\n",
    "    elif month in [9, 10, 11]:\n",
    "        return 'Fall'\n",
    "\n",
    "citibike['season'] = citibike['date'].apply(get_season)"
   ]
  },
  {
   "cell_type": "code",
   "execution_count": 9,
   "id": "726828c4",
   "metadata": {
    "scrolled": true
   },
   "outputs": [
    {
     "data": {
      "text/html": [
       "<div>\n",
       "<style scoped>\n",
       "    .dataframe tbody tr th:only-of-type {\n",
       "        vertical-align: middle;\n",
       "    }\n",
       "\n",
       "    .dataframe tbody tr th {\n",
       "        vertical-align: top;\n",
       "    }\n",
       "\n",
       "    .dataframe thead th {\n",
       "        text-align: right;\n",
       "    }\n",
       "</style>\n",
       "<table border=\"1\" class=\"dataframe\">\n",
       "  <thead>\n",
       "    <tr style=\"text-align: right;\">\n",
       "      <th></th>\n",
       "      <th>date</th>\n",
       "      <th>num_of_trips</th>\n",
       "      <th>holiday</th>\n",
       "      <th>prcp</th>\n",
       "      <th>snow</th>\n",
       "      <th>awnd</th>\n",
       "      <th>rhav</th>\n",
       "      <th>rhmn</th>\n",
       "      <th>rhmx</th>\n",
       "      <th>tmax</th>\n",
       "      <th>tmin</th>\n",
       "      <th>tavg</th>\n",
       "      <th>median_trip_duration</th>\n",
       "      <th>mean_trip_duration</th>\n",
       "      <th>day_of_week</th>\n",
       "      <th>year</th>\n",
       "      <th>month</th>\n",
       "      <th>is_snow</th>\n",
       "      <th>did_rain</th>\n",
       "      <th>season</th>\n",
       "    </tr>\n",
       "  </thead>\n",
       "  <tbody>\n",
       "    <tr>\n",
       "      <th>0</th>\n",
       "      <td>2019-01-01</td>\n",
       "      <td>21962</td>\n",
       "      <td>True</td>\n",
       "      <td>15</td>\n",
       "      <td>0.0</td>\n",
       "      <td>NaN</td>\n",
       "      <td>69.0</td>\n",
       "      <td>47.0</td>\n",
       "      <td>97.0</td>\n",
       "      <td>57.92</td>\n",
       "      <td>39.02</td>\n",
       "      <td>48.47</td>\n",
       "      <td>663.0</td>\n",
       "      <td>1175.93</td>\n",
       "      <td>1</td>\n",
       "      <td>2019</td>\n",
       "      <td>1</td>\n",
       "      <td>False</td>\n",
       "      <td>True</td>\n",
       "      <td>Winter</td>\n",
       "    </tr>\n",
       "    <tr>\n",
       "      <th>1</th>\n",
       "      <td>2019-01-02</td>\n",
       "      <td>37797</td>\n",
       "      <td>False</td>\n",
       "      <td>0</td>\n",
       "      <td>0.0</td>\n",
       "      <td>NaN</td>\n",
       "      <td>56.0</td>\n",
       "      <td>48.0</td>\n",
       "      <td>68.0</td>\n",
       "      <td>39.92</td>\n",
       "      <td>35.06</td>\n",
       "      <td>37.49</td>\n",
       "      <td>548.0</td>\n",
       "      <td>780.93</td>\n",
       "      <td>2</td>\n",
       "      <td>2019</td>\n",
       "      <td>1</td>\n",
       "      <td>False</td>\n",
       "      <td>False</td>\n",
       "      <td>Winter</td>\n",
       "    </tr>\n",
       "    <tr>\n",
       "      <th>2</th>\n",
       "      <td>2019-01-03</td>\n",
       "      <td>41676</td>\n",
       "      <td>False</td>\n",
       "      <td>0</td>\n",
       "      <td>0.0</td>\n",
       "      <td>NaN</td>\n",
       "      <td>63.0</td>\n",
       "      <td>43.0</td>\n",
       "      <td>83.0</td>\n",
       "      <td>44.06</td>\n",
       "      <td>37.04</td>\n",
       "      <td>40.55</td>\n",
       "      <td>533.0</td>\n",
       "      <td>769.52</td>\n",
       "      <td>3</td>\n",
       "      <td>2019</td>\n",
       "      <td>1</td>\n",
       "      <td>False</td>\n",
       "      <td>False</td>\n",
       "      <td>Winter</td>\n",
       "    </tr>\n",
       "    <tr>\n",
       "      <th>3</th>\n",
       "      <td>2019-01-04</td>\n",
       "      <td>43922</td>\n",
       "      <td>False</td>\n",
       "      <td>0</td>\n",
       "      <td>0.0</td>\n",
       "      <td>NaN</td>\n",
       "      <td>63.0</td>\n",
       "      <td>51.0</td>\n",
       "      <td>74.0</td>\n",
       "      <td>46.94</td>\n",
       "      <td>35.06</td>\n",
       "      <td>41.00</td>\n",
       "      <td>535.0</td>\n",
       "      <td>778.15</td>\n",
       "      <td>4</td>\n",
       "      <td>2019</td>\n",
       "      <td>1</td>\n",
       "      <td>False</td>\n",
       "      <td>False</td>\n",
       "      <td>Winter</td>\n",
       "    </tr>\n",
       "    <tr>\n",
       "      <th>4</th>\n",
       "      <td>2019-01-05</td>\n",
       "      <td>17432</td>\n",
       "      <td>False</td>\n",
       "      <td>127</td>\n",
       "      <td>0.0</td>\n",
       "      <td>NaN</td>\n",
       "      <td>91.0</td>\n",
       "      <td>71.0</td>\n",
       "      <td>97.0</td>\n",
       "      <td>46.94</td>\n",
       "      <td>41.00</td>\n",
       "      <td>43.97</td>\n",
       "      <td>476.0</td>\n",
       "      <td>811.47</td>\n",
       "      <td>5</td>\n",
       "      <td>2019</td>\n",
       "      <td>1</td>\n",
       "      <td>False</td>\n",
       "      <td>True</td>\n",
       "      <td>Winter</td>\n",
       "    </tr>\n",
       "    <tr>\n",
       "      <th>...</th>\n",
       "      <td>...</td>\n",
       "      <td>...</td>\n",
       "      <td>...</td>\n",
       "      <td>...</td>\n",
       "      <td>...</td>\n",
       "      <td>...</td>\n",
       "      <td>...</td>\n",
       "      <td>...</td>\n",
       "      <td>...</td>\n",
       "      <td>...</td>\n",
       "      <td>...</td>\n",
       "      <td>...</td>\n",
       "      <td>...</td>\n",
       "      <td>...</td>\n",
       "      <td>...</td>\n",
       "      <td>...</td>\n",
       "      <td>...</td>\n",
       "      <td>...</td>\n",
       "      <td>...</td>\n",
       "      <td>...</td>\n",
       "    </tr>\n",
       "    <tr>\n",
       "      <th>1090</th>\n",
       "      <td>2021-12-27</td>\n",
       "      <td>31583</td>\n",
       "      <td>False</td>\n",
       "      <td>23</td>\n",
       "      <td>0.0</td>\n",
       "      <td>20.0</td>\n",
       "      <td>63.0</td>\n",
       "      <td>51.0</td>\n",
       "      <td>93.0</td>\n",
       "      <td>39.02</td>\n",
       "      <td>33.98</td>\n",
       "      <td>36.50</td>\n",
       "      <td>511.0</td>\n",
       "      <td>1452.87</td>\n",
       "      <td>0</td>\n",
       "      <td>2021</td>\n",
       "      <td>12</td>\n",
       "      <td>False</td>\n",
       "      <td>True</td>\n",
       "      <td>Winter</td>\n",
       "    </tr>\n",
       "    <tr>\n",
       "      <th>1091</th>\n",
       "      <td>2021-12-28</td>\n",
       "      <td>40728</td>\n",
       "      <td>False</td>\n",
       "      <td>13</td>\n",
       "      <td>0.0</td>\n",
       "      <td>21.0</td>\n",
       "      <td>72.0</td>\n",
       "      <td>51.0</td>\n",
       "      <td>96.0</td>\n",
       "      <td>46.94</td>\n",
       "      <td>35.96</td>\n",
       "      <td>41.45</td>\n",
       "      <td>574.0</td>\n",
       "      <td>1614.75</td>\n",
       "      <td>1</td>\n",
       "      <td>2021</td>\n",
       "      <td>12</td>\n",
       "      <td>False</td>\n",
       "      <td>True</td>\n",
       "      <td>Winter</td>\n",
       "    </tr>\n",
       "    <tr>\n",
       "      <th>1092</th>\n",
       "      <td>2021-12-29</td>\n",
       "      <td>39656</td>\n",
       "      <td>False</td>\n",
       "      <td>36</td>\n",
       "      <td>0.0</td>\n",
       "      <td>26.0</td>\n",
       "      <td>90.0</td>\n",
       "      <td>85.0</td>\n",
       "      <td>93.0</td>\n",
       "      <td>44.06</td>\n",
       "      <td>41.00</td>\n",
       "      <td>42.53</td>\n",
       "      <td>558.0</td>\n",
       "      <td>1450.41</td>\n",
       "      <td>2</td>\n",
       "      <td>2021</td>\n",
       "      <td>12</td>\n",
       "      <td>False</td>\n",
       "      <td>True</td>\n",
       "      <td>Winter</td>\n",
       "    </tr>\n",
       "    <tr>\n",
       "      <th>1093</th>\n",
       "      <td>2021-12-30</td>\n",
       "      <td>46925</td>\n",
       "      <td>False</td>\n",
       "      <td>13</td>\n",
       "      <td>0.0</td>\n",
       "      <td>11.0</td>\n",
       "      <td>87.0</td>\n",
       "      <td>80.0</td>\n",
       "      <td>97.0</td>\n",
       "      <td>48.92</td>\n",
       "      <td>42.98</td>\n",
       "      <td>45.95</td>\n",
       "      <td>587.0</td>\n",
       "      <td>1507.32</td>\n",
       "      <td>3</td>\n",
       "      <td>2021</td>\n",
       "      <td>12</td>\n",
       "      <td>False</td>\n",
       "      <td>True</td>\n",
       "      <td>Winter</td>\n",
       "    </tr>\n",
       "    <tr>\n",
       "      <th>1094</th>\n",
       "      <td>2021-12-31</td>\n",
       "      <td>48696</td>\n",
       "      <td>True</td>\n",
       "      <td>0</td>\n",
       "      <td>0.0</td>\n",
       "      <td>11.0</td>\n",
       "      <td>83.0</td>\n",
       "      <td>77.0</td>\n",
       "      <td>93.0</td>\n",
       "      <td>55.04</td>\n",
       "      <td>48.02</td>\n",
       "      <td>51.53</td>\n",
       "      <td>618.0</td>\n",
       "      <td>1494.55</td>\n",
       "      <td>4</td>\n",
       "      <td>2021</td>\n",
       "      <td>12</td>\n",
       "      <td>False</td>\n",
       "      <td>False</td>\n",
       "      <td>Winter</td>\n",
       "    </tr>\n",
       "  </tbody>\n",
       "</table>\n",
       "<p>1095 rows × 20 columns</p>\n",
       "</div>"
      ],
      "text/plain": [
       "           date  num_of_trips  holiday  prcp  snow  awnd  rhav  rhmn  rhmx  \\\n",
       "0    2019-01-01         21962     True    15   0.0   NaN  69.0  47.0  97.0   \n",
       "1    2019-01-02         37797    False     0   0.0   NaN  56.0  48.0  68.0   \n",
       "2    2019-01-03         41676    False     0   0.0   NaN  63.0  43.0  83.0   \n",
       "3    2019-01-04         43922    False     0   0.0   NaN  63.0  51.0  74.0   \n",
       "4    2019-01-05         17432    False   127   0.0   NaN  91.0  71.0  97.0   \n",
       "...         ...           ...      ...   ...   ...   ...   ...   ...   ...   \n",
       "1090 2021-12-27         31583    False    23   0.0  20.0  63.0  51.0  93.0   \n",
       "1091 2021-12-28         40728    False    13   0.0  21.0  72.0  51.0  96.0   \n",
       "1092 2021-12-29         39656    False    36   0.0  26.0  90.0  85.0  93.0   \n",
       "1093 2021-12-30         46925    False    13   0.0  11.0  87.0  80.0  97.0   \n",
       "1094 2021-12-31         48696     True     0   0.0  11.0  83.0  77.0  93.0   \n",
       "\n",
       "       tmax   tmin   tavg  median_trip_duration  mean_trip_duration  \\\n",
       "0     57.92  39.02  48.47                 663.0             1175.93   \n",
       "1     39.92  35.06  37.49                 548.0              780.93   \n",
       "2     44.06  37.04  40.55                 533.0              769.52   \n",
       "3     46.94  35.06  41.00                 535.0              778.15   \n",
       "4     46.94  41.00  43.97                 476.0              811.47   \n",
       "...     ...    ...    ...                   ...                 ...   \n",
       "1090  39.02  33.98  36.50                 511.0             1452.87   \n",
       "1091  46.94  35.96  41.45                 574.0             1614.75   \n",
       "1092  44.06  41.00  42.53                 558.0             1450.41   \n",
       "1093  48.92  42.98  45.95                 587.0             1507.32   \n",
       "1094  55.04  48.02  51.53                 618.0             1494.55   \n",
       "\n",
       "     day_of_week  year  month  is_snow  did_rain  season  \n",
       "0              1  2019      1    False      True  Winter  \n",
       "1              2  2019      1    False     False  Winter  \n",
       "2              3  2019      1    False     False  Winter  \n",
       "3              4  2019      1    False     False  Winter  \n",
       "4              5  2019      1    False      True  Winter  \n",
       "...          ...   ...    ...      ...       ...     ...  \n",
       "1090           0  2021     12    False      True  Winter  \n",
       "1091           1  2021     12    False      True  Winter  \n",
       "1092           2  2021     12    False      True  Winter  \n",
       "1093           3  2021     12    False      True  Winter  \n",
       "1094           4  2021     12    False     False  Winter  \n",
       "\n",
       "[1095 rows x 20 columns]"
      ]
     },
     "execution_count": 9,
     "metadata": {},
     "output_type": "execute_result"
    }
   ],
   "source": [
    "citibike"
   ]
  },
  {
   "cell_type": "code",
   "execution_count": 18,
   "id": "b4c1ec58",
   "metadata": {},
   "outputs": [],
   "source": [
    "events = {\n",
    "    'date': ['2019-06-30', '2021-07-27', '2019-03-16', '2019-06-09', '2020-06-14', '2021-06-13'],\n",
    "    'nyc_event': ['nyc_pride_parade_2019', 'nyc_pride_parade_2021', \"st.patrick's_day_parade_2019\", \n",
    "                  'pr_day_parade_2019', 'pr_day_parade_2020', 'pr_day_parade_2021']\n",
    "}\n",
    "\n",
    "events = pd.DataFrame(events)"
   ]
  },
  {
   "cell_type": "code",
   "execution_count": 19,
   "id": "bc10831e",
   "metadata": {},
   "outputs": [],
   "source": [
    "events['date'] = pd.to_datetime(events['date'])\n",
    "\n",
    "citibike = pd.merge(citibike, events, on='date', how='left')\n",
    "\n",
    "# Create a binary column whether an event happened or not\n",
    "citibike['event_happened'] = citibike['nyc_event'].notnull()\n",
    "\n",
    "# Drop column\n",
    "citibike = citibike.drop(columns=['nyc_event'])\n"
   ]
  },
  {
   "cell_type": "code",
   "execution_count": 5,
   "id": "cc03499c",
   "metadata": {},
   "outputs": [
    {
     "data": {
      "text/plain": [
       "day_of_week\n",
       "2    10118289\n",
       "5    10018821\n",
       "1     9985986\n",
       "4     9916249\n",
       "3     9734578\n",
       "0     9160499\n",
       "6     8785583\n",
       "Name: num_of_trips, dtype: int64"
      ]
     },
     "execution_count": 5,
     "metadata": {},
     "output_type": "execute_result"
    }
   ],
   "source": [
    "#checking the total amount of trips by day of week. \n",
    "citibike.groupby('day_of_week')['num_of_trips'].sum().sort_values(ascending = False)"
   ]
  },
  {
   "cell_type": "code",
   "execution_count": 6,
   "id": "609189ce",
   "metadata": {},
   "outputs": [
    {
     "data": {
      "text/plain": [
       "season\n",
       "Summer    22304081\n",
       "Fall      20999058\n",
       "Spring    14580654\n",
       "Winter     9836212\n",
       "Name: num_of_trips, dtype: int64"
      ]
     },
     "execution_count": 6,
     "metadata": {},
     "output_type": "execute_result"
    }
   ],
   "source": [
    "#checking the total amount of trips by season. \n",
    "citibike.groupby('season')['num_of_trips'].sum().sort_values(ascending = False)"
   ]
  },
  {
   "cell_type": "code",
   "execution_count": 8,
   "id": "3e04441a",
   "metadata": {},
   "outputs": [
    {
     "data": {
      "image/png": "[encoded data removed]",
      "text/plain": [
       "<Figure size 640x480 with 1 Axes>"
      ]
     },
     "metadata": {},
     "output_type": "display_data"
    }
   ],
   "source": [
    "citibike.groupby('day_of_week')['num_of_trips'].sum().plot.bar()\n",
    "\n",
    "\n",
    "plt.title('Total Number of Trips per Day of the Week')\n",
    "plt.xlabel('Day of the Week')\n",
    "plt.ylabel('Total Number of Trips')\n",
    "plt.xticks(ticks=range(7), labels=['Mon', 'Tue', 'Wed', 'Thu', 'Fri', 'Sat', 'Sun'], rotation = 0)\n",
    "\n",
    "\n",
    "plt.show()"
   ]
  },
  {
   "cell_type": "code",
   "execution_count": null,
   "id": "1b640edd",
   "metadata": {},
   "outputs": [],
   "source": [
    "citibike.groupby('season')['num_of_trips'].sum().sort_values(ascending = False).plot.bar()\n",
    "\n",
    "\n",
    "plt.title('Total Number of Trips per season')\n",
    "plt.xlabel('Seasons')\n",
    "plt.ylabel('Total Number of Trips')\n",
    "\n",
    "\n",
    "plt.show()"
   ]
  },
  {
   "cell_type": "code",
   "execution_count": null,
   "id": "ef8beb30",
   "metadata": {},
   "outputs": [],
   "source": [
    "#plotting amount of trips against the max temp.\n",
    "citibike.plot.scatter(x = 'num_of_trips', y = 'tmax')\n",
    "\n",
    "plt.title('Nummber of trips depending on Temp')\n",
    "plt.xlabel('Number of Trips')\n",
    "plt.ylabel('Maximum Temp in Fahrenheit')\n",
    "\n",
    "plt.show()"
   ]
  },
  {
   "cell_type": "code",
   "execution_count": null,
   "id": "c1bb233f",
   "metadata": {},
   "outputs": [],
   "source": [
    "citibike['tmax'].describe()"
   ]
  },
  {
   "cell_type": "code",
   "execution_count": null,
   "id": "b6108536",
   "metadata": {},
   "outputs": [],
   "source": [
    "#is the tempertaure and num of trips correlated.\n",
    "citibike[['num_of_trips', 'tmax']].corr()"
   ]
  },
  {
   "cell_type": "markdown",
   "id": "ff0058d4",
   "metadata": {},
   "source": [
    "linear Regression Time "
   ]
  },
  {
   "cell_type": "code",
   "execution_count": null,
   "id": "9e0ac537",
   "metadata": {},
   "outputs": [],
   "source": [
    "#linear regression number of trips & tmax.\n",
    "\n",
    "lm = smf.ols('num_of_trips ~ tmax', data = citibike).fit()\n",
    "lm.summary()"
   ]
  },
  {
   "cell_type": "code",
   "execution_count": null,
   "id": "dcaa8468",
   "metadata": {},
   "outputs": [],
   "source": [
    "citibike.plot(x = 'tmax', y = 'num_of_trips', kind = 'scatter')\n",
    "plt.plot(citibike['tmax'], lm.fittedvalues, color = 'black');"
   ]
  },
  {
   "cell_type": "code",
   "execution_count": null,
   "id": "56594329",
   "metadata": {},
   "outputs": [],
   "source": [
    "plt.scatter(lm.fittedvalues, lm.resid)\n",
    "xmin, xmax = plt.xlim()\n",
    "plt.hlines(y = 0, xmin = xmin, xmax = xmax, color = 'black')\n",
    "plt.xlim(xmin, xmax);"
   ]
  },
  {
   "cell_type": "code",
   "execution_count": null,
   "id": "7fbbda28",
   "metadata": {
    "scrolled": true
   },
   "outputs": [],
   "source": [
    "lm_quad = smf.ols('num_of_trips ~ tmax + I(tmax**2)', data = citibike).fit()\n",
    "lm_quad.summary()"
   ]
  },
  {
   "cell_type": "code",
   "execution_count": null,
   "id": "623fa20f",
   "metadata": {},
   "outputs": [],
   "source": [
    "citibike.plot(x = 'tmax', y = 'num_of_trips', kind = 'scatter')\n",
    "plt.plot(citibike['tmax'], lm_quad.fittedvalues, color = 'black');"
   ]
  },
  {
   "cell_type": "code",
   "execution_count": null,
   "id": "a7c4b11b",
   "metadata": {},
   "outputs": [],
   "source": [
    "plt.scatter(lm_quad.fittedvalues, lm_quad.resid)\n",
    "xmin, xmax = plt.xlim()\n",
    "plt.hlines(y = 0, xmin = xmin, xmax = xmax, color = 'black')\n",
    "plt.xlim(xmin, xmax);"
   ]
  },
  {
   "cell_type": "code",
   "execution_count": null,
   "id": "fdeaaf74",
   "metadata": {},
   "outputs": [],
   "source": [
    "#log linear regression number of trips & tmax.\n",
    "\n",
    "lm_log = smf.ols('np.log(num_of_trips) ~ tmax', data = citibike).fit()\n",
    "lm_log.summary()"
   ]
  },
  {
   "cell_type": "code",
   "execution_count": null,
   "id": "e498145c",
   "metadata": {},
   "outputs": [],
   "source": [
    "citibike.plot(x = 'tmax', y = 'num_of_trips', kind = 'scatter')\n",
    "plt.plot(citibike['tmax'], lm_log.fittedvalues, color = 'black');"
   ]
  },
  {
   "cell_type": "code",
   "execution_count": null,
   "id": "dd082cb9",
   "metadata": {
    "scrolled": true
   },
   "outputs": [],
   "source": [
    "lm = smf.ols('num_of_trips ~ + season + day_of_week + tmax + I(tmax**2)', data = citibike).fit()\n",
    "lm.summary()"
   ]
  },
  {
   "cell_type": "code",
   "execution_count": null,
   "id": "9bc71c82",
   "metadata": {
    "scrolled": true
   },
   "outputs": [],
   "source": [
    "lm = smf.ols('num_of_trips ~ + season + day_of_week + tmax  + holiday + did_rain', data = citibike).fit()\n",
    "lm.summary()"
   ]
  },
  {
   "cell_type": "code",
   "execution_count": null,
   "id": "7e2f72cb",
   "metadata": {},
   "outputs": [],
   "source": [
    "#Graphing day of the week coefficients when controling for season, max temp, a holiday, & rain\n",
    "predictors = ['day_of_week[T.1]', 'day_of_week[T.2]', 'day_of_week[T.3]', 'day_of_week[T.4]', 'day_of_week[T.5]', 'day_of_week[T.6]']\n",
    "coef = lm.params\n",
    "coeffs = coef[predictors]\n",
    "\n",
    "plt.figure(figsize=(8, 5))\n",
    "plt.bar(predictors, coeffs, color=('pink'))\n",
    "plt.xlabel('Predictor')\n",
    "plt.ylabel('Coefficient')\n",
    "plt.title('Coefficients of Predictors')\n",
    "plt.xticks(ticks=range(6), labels=['Tue', 'Wed', 'Thu', 'Fri', 'Sat', 'Sun'], rotation=0)\n",
    "plt.grid(axis='y',linestyle='--')\n",
    "plt.tight_layout()\n",
    "plt.show()"
   ]
  },
  {
   "cell_type": "code",
   "execution_count": null,
   "id": "3d7f90f0",
   "metadata": {},
   "outputs": [],
   "source": [
    "#Graphing the season coefficients when controling for day of week, max temp, a holiday, & rain\n",
    "\n",
    "predictors = ['season[T.Spring]', 'season[T.Summer]', 'season[T.Winter]']\n",
    "coef = lm.params\n",
    "coeffs = coef[predictors]\n",
    "\n",
    "plt.figure(figsize=(8, 5))\n",
    "plt.bar(predictors, coeffs, color=['pink', 'green', 'blue'])\n",
    "plt.xlabel('Predictor')\n",
    "plt.ylabel('Coefficient')\n",
    "plt.title('Coefficients of Predictors')\n",
    "plt.xticks(ticks=range(3), labels=['Spring', 'Summer', 'Winter'], rotation=0)\n",
    "plt.grid(axis='y', linestyle='--')\n",
    "plt.tight_layout()\n",
    "plt.show()"
   ]
  },
  {
   "cell_type": "markdown",
   "id": "1fc8738f",
   "metadata": {},
   "source": [
    "***Full & Reduced Models***"
   ]
  },
  {
   "cell_type": "code",
   "execution_count": null,
   "id": "e174ae21",
   "metadata": {},
   "outputs": [],
   "source": [
    "lr_reduced = smf.ols('num_of_trips ~ + tmax', data = citibike).fit()\n",
    "lr_full = smf.ols('num_of_trips ~ + tmax + season', data = citibike).fit()\n",
    "\n",
    "sm.stats.anova_lm(lr_reduced, lr_full)"
   ]
  },
  {
   "cell_type": "code",
   "execution_count": null,
   "id": "d4157b8d",
   "metadata": {},
   "outputs": [],
   "source": [
    "lr_reduced = smf.ols('num_of_trips ~ + tmax + season', data = citibike).fit()\n",
    "lr_full = smf.ols('num_of_trips ~ + tmax + season + C(year)', data = citibike).fit()\n",
    "\n",
    "sm.stats.anova_lm(lr_reduced, lr_full)"
   ]
  },
  {
   "cell_type": "code",
   "execution_count": null,
   "id": "31617db1",
   "metadata": {},
   "outputs": [],
   "source": [
    "lr_reduced = smf.ols('num_of_trips ~ + tmax + season + C(year)', data = citibike).fit()\n",
    "lr_full = smf.ols('num_of_trips ~ + tmax + season + C(year) + day_of_week', data = citibike).fit()\n",
    "\n",
    "sm.stats.anova_lm(lr_reduced, lr_full)"
   ]
  },
  {
   "cell_type": "code",
   "execution_count": null,
   "id": "8d5f88a0",
   "metadata": {},
   "outputs": [],
   "source": [
    "lr_reduced = smf.ols('num_of_trips ~ + tmax + season + C(year) + day_of_week', data = citibike).fit()\n",
    "lr_full = smf.ols('num_of_trips ~ + tmax + season + C(year) + day_of_week + holiday', data = citibike).fit()\n",
    "\n",
    "sm.stats.anova_lm(lr_reduced, lr_full)"
   ]
  },
  {
   "cell_type": "code",
   "execution_count": null,
   "id": "d9add74e",
   "metadata": {},
   "outputs": [],
   "source": [
    "lr_reduced = smf.ols('num_of_trips ~ + tmax + season + C(year) + day_of_week + holiday', data = citibike).fit()\n",
    "lr_full = smf.ols('num_of_trips ~ + tmax + season + C(year) + day_of_week + holiday + prcp', data = citibike).fit()\n",
    "\n",
    "sm.stats.anova_lm(lr_reduced, lr_full)"
   ]
  },
  {
   "cell_type": "code",
   "execution_count": null,
   "id": "3b1c0092",
   "metadata": {},
   "outputs": [],
   "source": [
    "lr_reduced = smf.ols('num_of_trips ~ + tmax + season + C(year) + day_of_week + holiday + prcp', data = citibike).fit()\n",
    "lr_full = smf.ols('num_of_trips ~ + tmax + season + C(year) + day_of_week + holiday + prcp + snow', data = citibike).fit()\n",
    "\n",
    "sm.stats.anova_lm(lr_reduced, lr_full)"
   ]
  },
  {
   "cell_type": "code",
   "execution_count": null,
   "id": "41bb635b",
   "metadata": {},
   "outputs": [],
   "source": [
    "lr_reduced = smf.ols('num_of_trips ~ + tmax + season + C(year) + day_of_week + holiday + prcp + snow', data = citibike).fit()\n",
    "lr_full = smf.ols('num_of_trips ~ + tmax + season + C(year) + day_of_week + holiday + prcp + snow + C(month)', data = citibike).fit()\n",
    "\n",
    "sm.stats.anova_lm(lr_reduced, lr_full)"
   ]
  },
  {
   "cell_type": "code",
   "execution_count": null,
   "id": "4881f967",
   "metadata": {},
   "outputs": [],
   "source": [
    "statistically significant varriables:\n",
    "    1."
   ]
  },
  {
   "cell_type": "code",
   "execution_count": null,
   "id": "6763086a",
   "metadata": {},
   "outputs": [],
   "source": []
  },
  {
   "cell_type": "markdown",
   "id": "c720f847",
   "metadata": {},
   "source": [
    "***correlations***"
   ]
  },
  {
   "cell_type": "code",
   "execution_count": null,
   "id": "9fbfdb87",
   "metadata": {},
   "outputs": [],
   "source": [
    "citibike.select_dtypes(include=['number']).corr()"
   ]
  },
  {
   "cell_type": "markdown",
   "id": "c2e9c7d2",
   "metadata": {},
   "source": [
    "**linear regression: Median Trip Duration.**"
   ]
  },
  {
   "cell_type": "code",
   "execution_count": null,
   "id": "32a22fc5",
   "metadata": {},
   "outputs": [],
   "source": [
    "lm = smf.ols('median_trip_duration ~ tmax', data = citibike).fit()\n",
    "lm.summary()"
   ]
  },
  {
   "cell_type": "code",
   "execution_count": null,
   "id": "85664e7f",
   "metadata": {},
   "outputs": [],
   "source": [
    "citibike.plot(x = 'tmax', y = 'median_trip_duration', kind = 'scatter')\n",
    "plt.plot(citibike['tmax'], lm.fittedvalues, color = 'black');"
   ]
  },
  {
   "cell_type": "code",
   "execution_count": null,
   "id": "3af0b7bd",
   "metadata": {},
   "outputs": [],
   "source": [
    "plt.scatter(lm.fittedvalues, lm.resid)\n",
    "xmin, xmax = plt.xlim()\n",
    "plt.hlines(y = 0, xmin = xmin, xmax = xmax, color = 'black')\n",
    "plt.xlim(xmin, xmax);"
   ]
  },
  {
   "cell_type": "code",
   "execution_count": null,
   "id": "2e7d0f57",
   "metadata": {},
   "outputs": [],
   "source": [
    "citibike.columns"
   ]
  },
  {
   "cell_type": "code",
   "execution_count": null,
   "id": "f87772f5",
   "metadata": {
    "scrolled": true
   },
   "outputs": [],
   "source": [
    "lm_med_len = smf.ols('median_trip_duration ~ tmax + season + C(year) + C(month) + holiday + did_rain + is_snow + day_of_week ', data = citibike).fit()\n",
    "lm_med_len.summary()"
   ]
  },
  {
   "cell_type": "code",
   "execution_count": null,
   "id": "f4b65194",
   "metadata": {},
   "outputs": [],
   "source": [
    "#Graphing day of the week coefficients when controling for season, max temp, a holiday, & rain\n",
    "predictors = ['day_of_week[T.1]', 'day_of_week[T.2]', 'day_of_week[T.3]', 'day_of_week[T.4]', 'day_of_week[T.5]', 'day_of_week[T.6]']\n",
    "coef = lm_med_len.params\n",
    "coeffs = coef[predictors]\n",
    "\n",
    "plt.figure(figsize=(8, 5))\n",
    "plt.bar(predictors, coeffs, color=('pink'))\n",
    "plt.xlabel('Predictor')\n",
    "plt.ylabel('Coefficient')\n",
    "plt.title('Coefficients of Predictors')\n",
    "plt.xticks(ticks=range(6), labels=['Tue', 'Wed', 'Thu', 'Fri', 'Sat', 'Sun'], rotation=0)\n",
    "plt.grid(axis='y',linestyle='--')\n",
    "plt.tight_layout()\n",
    "plt.show()"
   ]
  },
  {
   "cell_type": "code",
   "execution_count": null,
   "id": "9069a671",
   "metadata": {},
   "outputs": [],
   "source": [
    "predictors = ['did_rain[T.True]']\n",
    "coef = lm_med_len.params\n",
    "coeffs = coef[predictors]\n",
    "\n",
    "plt.figure(figsize=(8, 5))\n",
    "plt.bar(predictors, coeffs, color=('pink'))\n",
    "plt.xlabel('Predictor')\n",
    "plt.ylabel('Coefficient')\n",
    "plt.title('Coefficients of Predictors')\n",
    "plt.xticks(ticks=range(1), labels=['Rained'], rotation=0)\n",
    "plt.grid(axis='y',linestyle='--')\n",
    "plt.tight_layout()\n",
    "plt.show()"
   ]
  },
  {
   "cell_type": "code",
   "execution_count": null,
   "id": "a1fb0f9d",
   "metadata": {},
   "outputs": [],
   "source": [
    "predictors = ['season[T.Spring]', 'season[T.Summer]', 'season[T.Winter]']\n",
    "coef = lm_med_len.params\n",
    "coeffs = coef[predictors]\n",
    "\n",
    "plt.figure(figsize=(8, 5))\n",
    "plt.bar(predictors, coeffs, color=['pink', 'green', 'blue'])\n",
    "plt.xlabel('Predictor')\n",
    "plt.ylabel('Coefficient')\n",
    "plt.title('Coefficients of Predictors')\n",
    "plt.xticks(ticks=range(3), labels=['Spring', 'Summer', 'Winter'], rotation=0)\n",
    "plt.grid(axis='y', linestyle='--')\n",
    "plt.tight_layout()\n",
    "plt.show()"
   ]
  },
  {
   "cell_type": "code",
   "execution_count": null,
   "id": "38e9ab69",
   "metadata": {},
   "outputs": [],
   "source": [
    "lr_reduced = smf.ols('median_trip_duration ~ + tmax', data = citibike).fit()\n",
    "lr_full = smf.ols('median_trip_duration ~ + tmax + season', data = citibike).fit()\n",
    "\n",
    "sm.stats.anova_lm(lr_reduced, lr_full)"
   ]
  },
  {
   "cell_type": "code",
   "execution_count": null,
   "id": "604d5705",
   "metadata": {},
   "outputs": [],
   "source": [
    "lr_reduced = smf.ols('median_trip_duration ~ + tmax + season', data = citibike).fit()\n",
    "lr_full = smf.ols('median_trip_duration ~ + tmax + season + C(year)', data = citibike).fit()\n",
    "\n",
    "sm.stats.anova_lm(lr_reduced, lr_full)"
   ]
  },
  {
   "cell_type": "code",
   "execution_count": null,
   "id": "b559c59a",
   "metadata": {},
   "outputs": [],
   "source": [
    "lr_reduced = smf.ols('median_trip_duration ~ + tmax + season + C(year)', data = citibike).fit()\n",
    "lr_full = smf.ols('median_trip_duration ~ + tmax + season + C(year) + day_of_week', data = citibike).fit()\n",
    "\n",
    "sm.stats.anova_lm(lr_reduced, lr_full)"
   ]
  },
  {
   "cell_type": "code",
   "execution_count": null,
   "id": "d33885da",
   "metadata": {},
   "outputs": [],
   "source": [
    "lr_reduced = smf.ols('median_trip_duration ~ + tmax + season + C(year) + day_of_week', data = citibike).fit()\n",
    "lr_full = smf.ols('median_trip_duration ~ + tmax + season + C(year) + day_of_week + holiday', data = citibike).fit()\n",
    "\n",
    "sm.stats.anova_lm(lr_reduced, lr_full)"
   ]
  },
  {
   "cell_type": "code",
   "execution_count": null,
   "id": "39b1501e",
   "metadata": {},
   "outputs": [],
   "source": [
    "lr_reduced = smf.ols('median_trip_duration ~ + tmax + season + C(year) + day_of_week + holiday', data = citibike).fit()\n",
    "lr_full = smf.ols('median_trip_duration ~ + tmax + season + C(year) + day_of_week + holiday + did_rain', data = citibike).fit()\n",
    "\n",
    "sm.stats.anova_lm(lr_reduced, lr_full)"
   ]
  },
  {
   "cell_type": "code",
   "execution_count": null,
   "id": "4dc45a2d",
   "metadata": {},
   "outputs": [],
   "source": [
    "lr_reduced = smf.ols('median_trip_duration ~ + tmax + season + C(year) + day_of_week + holiday + did_rain', data = citibike).fit()\n",
    "lr_full = smf.ols('median_trip_duration ~ + tmax + season + C(year) + day_of_week + holiday + did_rain + is_snow', data = citibike).fit()\n",
    "\n",
    "sm.stats.anova_lm(lr_reduced, lr_full)"
   ]
  },
  {
   "cell_type": "code",
   "execution_count": null,
   "id": "8b724b1e",
   "metadata": {},
   "outputs": [],
   "source": [
    "lr_reduced = smf.ols('median_trip_duration ~ + tmax + season + C(year) + day_of_week + holiday + did_rain + is_snow', data = citibike).fit()\n",
    "lr_full = smf.ols('median_trip_duration ~ + tmax + season + C(year) + day_of_week + holiday + did_rain + is_snow + C(month)', data = citibike).fit()\n",
    "\n",
    "sm.stats.anova_lm(lr_reduced, lr_full)"
   ]
  },
  {
   "cell_type": "code",
   "execution_count": null,
   "id": "00a9af8d",
   "metadata": {},
   "outputs": [],
   "source": []
  },
  {
   "cell_type": "code",
   "execution_count": null,
   "id": "b0878521",
   "metadata": {},
   "outputs": [],
   "source": []
  },
  {
   "cell_type": "code",
   "execution_count": null,
   "id": "301feb58",
   "metadata": {},
   "outputs": [],
   "source": []
  },
  {
   "cell_type": "code",
   "execution_count": null,
   "id": "9911ca14",
   "metadata": {},
   "outputs": [],
   "source": []
  },
  {
   "cell_type": "code",
   "execution_count": null,
   "id": "8a79dc37",
   "metadata": {},
   "outputs": [],
   "source": [
    "citibike['prcp'].value_counts()"
   ]
  },
  {
   "cell_type": "code",
   "execution_count": null,
   "id": "c0547835",
   "metadata": {},
   "outputs": [],
   "source": []
  },
  {
   "cell_type": "code",
   "execution_count": null,
   "id": "f84fda8b",
   "metadata": {},
   "outputs": [],
   "source": []
  },
  {
   "cell_type": "code",
   "execution_count": null,
   "id": "87819613",
   "metadata": {},
   "outputs": [],
   "source": []
  },
  {
   "cell_type": "code",
   "execution_count": null,
   "id": "cd6bce23",
   "metadata": {},
   "outputs": [],
   "source": []
  },
  {
   "cell_type": "code",
   "execution_count": null,
   "id": "4dee37af",
   "metadata": {},
   "outputs": [],
   "source": [
    " #citibike.to_csv('../data/citibike_vis.csv')"
   ]
  },
  {
   "cell_type": "code",
   "execution_count": null,
   "id": "c2c0416d",
   "metadata": {},
   "outputs": [],
   "source": [
    "#citibike['is_snow'] = citibike['snow'] != 0"
   ]
  },
  {
   "cell_type": "code",
   "execution_count": null,
   "id": "4671781d",
   "metadata": {},
   "outputs": [],
   "source": [
    "#citibike['did_rain'] = citibike['prcp'] != 0"
   ]
  },
  {
   "cell_type": "code",
   "execution_count": null,
   "id": "52b3c5ec",
   "metadata": {},
   "outputs": [],
   "source": []
  }
 ],
 "metadata": {
  "kernelspec": {
   "display_name": "Python 3 (ipykernel)",
   "language": "python",
   "name": "python3"
  },
  "language_info": {
   "codemirror_mode": {
    "name": "ipython",
    "version": 3
   },
   "file_extension": ".py",
   "mimetype": "text/x-python",
   "name": "python",
   "nbconvert_exporter": "python",
   "pygments_lexer": "ipython3",
   "version": "3.10.14"
  }
 },
 "nbformat": 4,
 "nbformat_minor": 5
}
